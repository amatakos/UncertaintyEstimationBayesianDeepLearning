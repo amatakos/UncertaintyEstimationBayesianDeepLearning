{
 "cells": [
  {
   "cell_type": "markdown",
   "id": "c966c204",
   "metadata": {},
   "source": [
    "### Imports"
   ]
  },
  {
   "cell_type": "code",
   "execution_count": 1,
   "id": "7682c71b",
   "metadata": {},
   "outputs": [],
   "source": [
    "import os\n",
    "path = os.getcwd()\n",
    "if path.split(sep=\"\\\\\")[-1]!='InternshipMatakos':\n",
    "    os.chdir(\"..\")\n",
    "\n",
    "from functools import partial\n",
    "\n",
    "from src import evaluate\n",
    "from src.evaluate import evaluate_regr\n",
    "import src.utils\n",
    "from src.utils import util\n",
    "from src.utils import data_loaders\n",
    "from src.utils.domain_split import hyperplane_split\n",
    "from src.utils.domain_split import hypersphere_split\n",
    "from src.train_test import fit_regr\n",
    "from src.train_test import test_regr\n",
    "from src.model import MLP\n",
    "\n",
    "import pandas as pd\n",
    "import numpy as np\n",
    "import numpy.random as npr\n",
    "import matplotlib.pyplot as plt\n",
    "from sklearn.model_selection import train_test_split\n",
    "from sklearn.model_selection import KFold\n",
    "from sklearn.preprocessing import MinMaxScaler\n",
    "import torch\n",
    "import torch.nn as nn\n",
    "import torch.nn.functional as F\n",
    "import torch.optim as optim\n",
    "from torch.utils.data import TensorDataset\n",
    "from torch.distributions.normal import Normal as norm\n",
    "import torchmetrics as tm\n",
    "import pyro\n",
    "import pyro.distributions as dist\n",
    "import tyxe\n",
    "\n",
    "# seed = np.random.randint(10000)\n",
    "seed = 7141 #4092\n",
    "np.random.seed(seed)\n",
    "torch.manual_seed(seed)\n",
    "\n",
    "device = torch.device('cuda' if torch.cuda.is_available() else 'cpu')"
   ]
  },
  {
   "cell_type": "markdown",
   "id": "d69c07e9",
   "metadata": {},
   "source": [
    "### Read airfoil data"
   ]
  },
  {
   "cell_type": "code",
   "execution_count": 2,
   "id": "8714fe2f",
   "metadata": {},
   "outputs": [
    {
     "data": {
      "text/html": [
       "<div>\n",
       "<style scoped>\n",
       "    .dataframe tbody tr th:only-of-type {\n",
       "        vertical-align: middle;\n",
       "    }\n",
       "\n",
       "    .dataframe tbody tr th {\n",
       "        vertical-align: top;\n",
       "    }\n",
       "\n",
       "    .dataframe thead th {\n",
       "        text-align: right;\n",
       "    }\n",
       "</style>\n",
       "<table border=\"1\" class=\"dataframe\">\n",
       "  <thead>\n",
       "    <tr style=\"text-align: right;\">\n",
       "      <th></th>\n",
       "      <th>Frequency</th>\n",
       "      <th>AngleAttack</th>\n",
       "      <th>ChordLength</th>\n",
       "      <th>FreeStreamVelocity</th>\n",
       "      <th>SuctionSide</th>\n",
       "      <th>Sound</th>\n",
       "    </tr>\n",
       "  </thead>\n",
       "  <tbody>\n",
       "    <tr>\n",
       "      <th>0</th>\n",
       "      <td>800</td>\n",
       "      <td>0.0</td>\n",
       "      <td>0.3048</td>\n",
       "      <td>71.3</td>\n",
       "      <td>0.002663</td>\n",
       "      <td>126.201</td>\n",
       "    </tr>\n",
       "    <tr>\n",
       "      <th>1</th>\n",
       "      <td>1000</td>\n",
       "      <td>0.0</td>\n",
       "      <td>0.3048</td>\n",
       "      <td>71.3</td>\n",
       "      <td>0.002663</td>\n",
       "      <td>125.201</td>\n",
       "    </tr>\n",
       "    <tr>\n",
       "      <th>2</th>\n",
       "      <td>1250</td>\n",
       "      <td>0.0</td>\n",
       "      <td>0.3048</td>\n",
       "      <td>71.3</td>\n",
       "      <td>0.002663</td>\n",
       "      <td>125.951</td>\n",
       "    </tr>\n",
       "    <tr>\n",
       "      <th>3</th>\n",
       "      <td>1600</td>\n",
       "      <td>0.0</td>\n",
       "      <td>0.3048</td>\n",
       "      <td>71.3</td>\n",
       "      <td>0.002663</td>\n",
       "      <td>127.591</td>\n",
       "    </tr>\n",
       "    <tr>\n",
       "      <th>4</th>\n",
       "      <td>2000</td>\n",
       "      <td>0.0</td>\n",
       "      <td>0.3048</td>\n",
       "      <td>71.3</td>\n",
       "      <td>0.002663</td>\n",
       "      <td>127.461</td>\n",
       "    </tr>\n",
       "  </tbody>\n",
       "</table>\n",
       "</div>"
      ],
      "text/plain": [
       "   Frequency  AngleAttack  ChordLength  FreeStreamVelocity  SuctionSide  \\\n",
       "0        800          0.0       0.3048                71.3     0.002663   \n",
       "1       1000          0.0       0.3048                71.3     0.002663   \n",
       "2       1250          0.0       0.3048                71.3     0.002663   \n",
       "3       1600          0.0       0.3048                71.3     0.002663   \n",
       "4       2000          0.0       0.3048                71.3     0.002663   \n",
       "\n",
       "     Sound  \n",
       "0  126.201  \n",
       "1  125.201  \n",
       "2  125.951  \n",
       "3  127.591  \n",
       "4  127.461  "
      ]
     },
     "execution_count": 2,
     "metadata": {},
     "output_type": "execute_result"
    }
   ],
   "source": [
    "df = pd.read_csv(\"data/regression/airfoil.csv\")\n",
    "df.head()"
   ]
  },
  {
   "cell_type": "markdown",
   "id": "c5d50ada",
   "metadata": {},
   "source": [
    "### Separate to in-domain / OOD data with a hyperplane"
   ]
  },
  {
   "cell_type": "code",
   "execution_count": 3,
   "id": "6f6724df",
   "metadata": {},
   "outputs": [
    {
     "name": "stdout",
     "output_type": "stream",
     "text": [
      "Found random direction n = [ 0.13666669 -0.21046149  0.37092866  0.44570104 -0.43332977 -0.64266321]\n",
      "Found split with ratio r = 0.20093147039254824\n"
     ]
    },
    {
     "data": {
      "text/html": [
       "<div>\n",
       "<style scoped>\n",
       "    .dataframe tbody tr th:only-of-type {\n",
       "        vertical-align: middle;\n",
       "    }\n",
       "\n",
       "    .dataframe tbody tr th {\n",
       "        vertical-align: top;\n",
       "    }\n",
       "\n",
       "    .dataframe thead th {\n",
       "        text-align: right;\n",
       "    }\n",
       "</style>\n",
       "<table border=\"1\" class=\"dataframe\">\n",
       "  <thead>\n",
       "    <tr style=\"text-align: right;\">\n",
       "      <th></th>\n",
       "      <th>Frequency</th>\n",
       "      <th>AngleAttack</th>\n",
       "      <th>ChordLength</th>\n",
       "      <th>FreeStreamVelocity</th>\n",
       "      <th>SuctionSide</th>\n",
       "      <th>Sound</th>\n",
       "    </tr>\n",
       "  </thead>\n",
       "  <tbody>\n",
       "    <tr>\n",
       "      <th>0</th>\n",
       "      <td>800</td>\n",
       "      <td>0.0</td>\n",
       "      <td>0.3048</td>\n",
       "      <td>71.3</td>\n",
       "      <td>0.002663</td>\n",
       "      <td>126.201</td>\n",
       "    </tr>\n",
       "    <tr>\n",
       "      <th>1</th>\n",
       "      <td>1000</td>\n",
       "      <td>0.0</td>\n",
       "      <td>0.3048</td>\n",
       "      <td>71.3</td>\n",
       "      <td>0.002663</td>\n",
       "      <td>125.201</td>\n",
       "    </tr>\n",
       "    <tr>\n",
       "      <th>2</th>\n",
       "      <td>1250</td>\n",
       "      <td>0.0</td>\n",
       "      <td>0.3048</td>\n",
       "      <td>71.3</td>\n",
       "      <td>0.002663</td>\n",
       "      <td>125.951</td>\n",
       "    </tr>\n",
       "    <tr>\n",
       "      <th>3</th>\n",
       "      <td>1600</td>\n",
       "      <td>0.0</td>\n",
       "      <td>0.3048</td>\n",
       "      <td>71.3</td>\n",
       "      <td>0.002663</td>\n",
       "      <td>127.591</td>\n",
       "    </tr>\n",
       "    <tr>\n",
       "      <th>4</th>\n",
       "      <td>2000</td>\n",
       "      <td>0.0</td>\n",
       "      <td>0.3048</td>\n",
       "      <td>71.3</td>\n",
       "      <td>0.002663</td>\n",
       "      <td>127.461</td>\n",
       "    </tr>\n",
       "  </tbody>\n",
       "</table>\n",
       "</div>"
      ],
      "text/plain": [
       "   Frequency  AngleAttack  ChordLength  FreeStreamVelocity  SuctionSide  \\\n",
       "0        800          0.0       0.3048                71.3     0.002663   \n",
       "1       1000          0.0       0.3048                71.3     0.002663   \n",
       "2       1250          0.0       0.3048                71.3     0.002663   \n",
       "3       1600          0.0       0.3048                71.3     0.002663   \n",
       "4       2000          0.0       0.3048                71.3     0.002663   \n",
       "\n",
       "     Sound  \n",
       "0  126.201  \n",
       "1  125.201  \n",
       "2  125.951  \n",
       "3  127.591  \n",
       "4  127.461  "
      ]
     },
     "execution_count": 3,
     "metadata": {},
     "output_type": "execute_result"
    }
   ],
   "source": [
    "D = df.values\n",
    "\n",
    "dom_idx, OOD_idx = hyperplane_split(D, OOD_size=0.2, verbose=1, seed=seed)\n",
    "\n",
    "df[dom_idx].head()"
   ]
  },
  {
   "cell_type": "markdown",
   "id": "ef695031",
   "metadata": {},
   "source": [
    "### We continue the training / testing pipeline with in-domain data only"
   ]
  },
  {
   "cell_type": "code",
   "execution_count": 4,
   "id": "d8083898",
   "metadata": {},
   "outputs": [],
   "source": [
    "# Minmax scaling for better network performace\n",
    "scaler = MinMaxScaler()\n",
    "D = df[dom_idx].values\n",
    "D = scaler.fit_transform(D)\n",
    "\n",
    "# Split in-domain data to data and labels\n",
    "X, y = D[:,:-1], D[:,-1]\n",
    "\n",
    "# Split to train/test\n",
    "X_train, X_test, y_train, y_test = train_test_split(X, y, test_size=0.2, random_state=seed)\n",
    "\n",
    "# Separate OOD data\n",
    "OOD = df[OOD_idx].values\n",
    "OOD = scaler.transform(OOD)         # need to also transform it to be compatible with the NN.\n",
    "X_OOD, y_OOD = OOD[:,:-1], OOD[:,-1]"
   ]
  },
  {
   "cell_type": "markdown",
   "id": "ab30bbd8",
   "metadata": {},
   "source": [
    "### Set network and batch size hyperparameters"
   ]
  },
  {
   "cell_type": "code",
   "execution_count": 5,
   "id": "a580dc85",
   "metadata": {},
   "outputs": [],
   "source": [
    "# Hyperparameters\n",
    "n_features = X_train.shape[1]\n",
    "n_hidden_1 = 100\n",
    "n_hidden_2 = 30\n",
    "n_epochs = 1000\n",
    "learning_rate = 0.0001\n",
    "weight_decay = 1e-5\n",
    "batch_size_train = 64\n",
    "batch_size_test = 64"
   ]
  },
  {
   "cell_type": "markdown",
   "id": "0ef73517",
   "metadata": {},
   "source": [
    "### Prepare tensor dataset and loaders to pytorch format"
   ]
  },
  {
   "cell_type": "code",
   "execution_count": 6,
   "id": "249ae44f",
   "metadata": {},
   "outputs": [],
   "source": [
    "# Transformation required for regression problem\n",
    "y_train = y_train.reshape(-1, 1)\n",
    "y_test = y_test.reshape(-1, 1)\n",
    "y_OOD = y_OOD.reshape(-1, 1)\n",
    "\n",
    "# Tensor datasets\n",
    "train_dataset = data_loaders.create_torch_dataset(X_train, y_train, to_LongTensor=False)\n",
    "test_dataset = data_loaders.create_torch_dataset(X_test, y_test, to_LongTensor=False)\n",
    "OOD_dataset = data_loaders.create_torch_dataset(X_OOD, y_OOD, to_LongTensor=False)\n",
    "\n",
    "# Data loaders on gpu\n",
    "train_loader = data_loaders.create_loader(train_dataset, batch_size_train, device)\n",
    "test_loader = data_loaders.create_loader(test_dataset, batch_size_test, device)\n",
    "OOD_loader = data_loaders.create_loader(OOD_dataset, batch_size_test, device)"
   ]
  },
  {
   "cell_type": "markdown",
   "id": "4b193832",
   "metadata": {},
   "source": [
    "### Model setup\n",
    "\n",
    "Two hidden layers with 30 neurons and relu activation seems to work well."
   ]
  },
  {
   "cell_type": "code",
   "execution_count": 9,
   "id": "725b323a",
   "metadata": {},
   "outputs": [],
   "source": [
    "airfoil_model = MLP(n_features, 1, [n_hidden_1, n_hidden_2], 'tanh').to(device)\n",
    "loss_function = nn.MSELoss()\n",
    "optimizer = optim.Adam(airfoil_model.parameters(), lr=learning_rate, weight_decay=weight_decay)"
   ]
  },
  {
   "cell_type": "code",
   "execution_count": 10,
   "id": "40daf48a",
   "metadata": {},
   "outputs": [
    {
     "name": "stdout",
     "output_type": "stream",
     "text": [
      "Average Train MSE: 0.00023\n"
     ]
    }
   ],
   "source": [
    "# Train\n",
    "train_losses = fit_regr(airfoil_model, loss_function, optimizer, train_loader, \n",
    "    n_epochs=n_epochs, verbose=0, early_stopping='dev', return_losses=True)\n",
    "avg_train_loss = train_losses[-1]\n",
    "\n",
    "print(f\"Average Train MSE: {avg_train_loss:.5f}\")    "
   ]
  },
  {
   "cell_type": "code",
   "execution_count": 11,
   "id": "2377376e",
   "metadata": {},
   "outputs": [
    {
     "data": {
      "image/png": "[encoded data removed]",
      "text/plain": [
       "<Figure size 648x432 with 1 Axes>"
      ]
     },
     "metadata": {
      "needs_background": "light"
     },
     "output_type": "display_data"
    }
   ],
   "source": [
    "plt.figure(figsize=(9,6))\n",
    "plt.plot(train_losses)\n",
    "plt.grid()\n",
    "plt.xlabel(\"Epoch\", fontsize=20)\n",
    "plt.ylabel(\"Loss\", fontsize=20)\n",
    "plt.title(\"MSE loss\", fontsize=20)\n",
    "plt.show()"
   ]
  },
  {
   "cell_type": "code",
   "execution_count": 12,
   "id": "40001774",
   "metadata": {},
   "outputs": [
    {
     "name": "stdout",
     "output_type": "stream",
     "text": [
      "Average Test MSE Loss: 0.00023977\n",
      "Average test MSE = 0.00024\n"
     ]
    }
   ],
   "source": [
    "avg_test_loss = test_regr(airfoil_model, loss_function, test_loader, verbose=1, return_loss=True)\n",
    "\n",
    "print(f\"Average test MSE = {avg_test_loss:.5f}\")   "
   ]
  },
  {
   "cell_type": "markdown",
   "id": "ba61e7a1",
   "metadata": {},
   "source": [
    "### Test on OOD data"
   ]
  },
  {
   "cell_type": "code",
   "execution_count": 13,
   "id": "66f5cca3",
   "metadata": {},
   "outputs": [
    {
     "name": "stdout",
     "output_type": "stream",
     "text": [
      "Average Test MSE Loss: 0.00081367\n",
      "Average OOD loss = 0.0008136718\n",
      "Average OOD loss to train loss ratio:  3.572\n",
      "Average OOD loss to test loss ratio:  3.394\n"
     ]
    }
   ],
   "source": [
    "avg_OOD_loss = test_regr(airfoil_model, loss_function, OOD_loader, verbose=1, return_loss=True)\n",
    "\n",
    "print(f\"Average OOD loss = {avg_OOD_loss:.10f}\")  \n",
    "print(f\"Average OOD loss to train loss ratio: {avg_OOD_loss / avg_train_loss : .3f}\")\n",
    "print(f\"Average OOD loss to test loss ratio: {avg_OOD_loss / avg_test_loss : .3f}\")"
   ]
  },
  {
   "cell_type": "markdown",
   "id": "1fece073",
   "metadata": {},
   "source": [
    "### Now that we have a pipeline ready, let's use 10-fold cross validation to see the performance on the whole data"
   ]
  },
  {
   "cell_type": "code",
   "execution_count": 13,
   "id": "d2d8a68e",
   "metadata": {},
   "outputs": [],
   "source": [
    "def pipeline(X_train, X_test, y_train, y_test, verbose=0):\n",
    "    \n",
    "    # Transformation required for regression problem\n",
    "    y_train = y_train.reshape(-1, 1)\n",
    "    y_test = y_test.reshape(-1, 1)\n",
    "\n",
    "    # Tensor datasets\n",
    "    train_dataset = data_loaders.create_torch_dataset(X_train, y_train, to_LongTensor=False)\n",
    "    test_dataset = data_loaders.create_torch_dataset(X_test, y_test, to_LongTensor=False)\n",
    "\n",
    "    # Data loaders on gpu\n",
    "    train_loader = data_loaders.create_loader(train_dataset, batch_size_train, 'cuda')\n",
    "    test_loader = data_loaders.create_loader(test_dataset, batch_size_test, 'cuda')\n",
    "\n",
    "    # Model setup\n",
    "    # airfoil_model = model.airfoil_NN(n_features, n_hidden_1, n_hidden_2).to(device)\n",
    "    # airfoil_model = model.airfoil_DNN(n_features, 512, 256, 128, 3).to(device)\n",
    "    airfoil_model = model.airfoil_laplace(n_features, n_hidden_1, n_hidden_2).to(device)\n",
    "\n",
    "    loss_function = nn.MSELoss()\n",
    "    optimizer = optim.Adam(airfoil_model.parameters(), lr=learning_rate, weight_decay=weight_decay)\n",
    "\n",
    "    # fit function optionally returns a list with the epoch-wise losses\n",
    "    train_loss = fit_regr(airfoil_model, loss_function, optimizer, train_loader, \n",
    "                 n_epochs=n_epochs, verbose=0, early_stopping=True, return_loss=True) \n",
    "    test_loss = test_regr(airfoil_model, loss_function, test_loader, verbose=0, return_loss=True) \n",
    "    \n",
    "    if verbose:\n",
    "        print(f\"Average Train MSE Loss: {train_loss[-1] : .10f}\")\n",
    "        print(f\"Average Test MSE Loss : {test_loss : .10f}\" )\n",
    "\n",
    "    return train_loss, test_loss                 # train loss is a list, test loss is a float\n",
    " "
   ]
  },
  {
   "cell_type": "code",
   "execution_count": 14,
   "id": "cec3c2fa",
   "metadata": {},
   "outputs": [
    {
     "name": "stdout",
     "output_type": "stream",
     "text": [
      "\n",
      "Training on fold no. 1\n",
      "Total train loss for this fold:  0.060322\n",
      "Average Train MSE Loss:  0.0000558535\n",
      "Total test loss for this fold:  0.006125\n",
      "Average Test MSE Loss :  0.0000506175\n",
      "\n",
      "Training on fold no. 2\n",
      "Total train loss for this fold:  0.075091\n",
      "Average Train MSE Loss:  0.0000694645\n",
      "Total test loss for this fold:  0.008041\n",
      "Average Test MSE Loss :  0.0000670086\n",
      "\n",
      "Training on fold no. 3\n",
      "Total train loss for this fold:  0.063353\n",
      "Average Train MSE Loss:  0.0000586061\n",
      "Total test loss for this fold:  0.011064\n",
      "Average Test MSE Loss :  0.0000921963\n",
      "\n",
      "Training on fold no. 4\n",
      "Loss has stopped decreasing after epoch 968 (average of 50 epochs).\n",
      "STOPPING EARLY.\n",
      "Total train loss for this fold:  0.065641\n",
      "Average Train MSE Loss:  0.0000607224\n",
      "Total test loss for this fold:  0.011564\n",
      "Average Test MSE Loss :  0.0000963707\n",
      "\n",
      "Training on fold no. 5\n",
      "Total train loss for this fold:  0.080948\n",
      "Average Train MSE Loss:  0.0000748823\n",
      "Total test loss for this fold:  0.011497\n",
      "Average Test MSE Loss :  0.0000958044\n",
      "\n",
      "Training on fold no. 6\n",
      "Total train loss for this fold:  0.082685\n",
      "Average Train MSE Loss:  0.0000764897\n",
      "Total test loss for this fold:  0.016111\n",
      "Average Test MSE Loss :  0.0001342606\n",
      "\n",
      "Training on fold no. 7\n",
      "Total train loss for this fold:  0.051775\n",
      "Average Train MSE Loss:  0.0000478954\n",
      "Total test loss for this fold:  0.016390\n",
      "Average Test MSE Loss :  0.0001365842\n",
      "\n",
      "Training on fold no. 8\n",
      "Loss has stopped decreasing after epoch 978 (average of 50 epochs).\n",
      "STOPPING EARLY.\n",
      "Total train loss for this fold:  0.053856\n",
      "Average Train MSE Loss:  0.0000498204\n",
      "Total test loss for this fold:  0.035378\n",
      "Average Test MSE Loss :  0.0002948142\n",
      "\n",
      "Training on fold no. 9\n",
      "Total train loss for this fold:  0.062393\n",
      "Average Train MSE Loss:  0.0000577174\n",
      "Total test loss for this fold:  0.011741\n",
      "Average Test MSE Loss :  0.0000978446\n",
      "\n",
      "Training on fold no. 10\n",
      "Total train loss for this fold:  0.057795\n",
      "Average Train MSE Loss:  0.0000534646\n",
      "Total test loss for this fold:  0.017903\n",
      "Average Test MSE Loss :  0.0001491950\n",
      "Train losses: [0.0603218  0.07509117 0.06335322 0.06564089 0.08094775 0.08268534\n",
      " 0.05177491 0.0538559  0.06239255 0.05779519]\n",
      "Test losses: [0.00612471 0.00804104 0.01106356 0.01156448 0.01149652 0.01611127\n",
      " 0.0163901  0.0353777  0.01174135 0.0179034 ]\n",
      "\n",
      "Avg train loss over all folds: 0.00006\n",
      "Avg test loss over all folds: 0.00012\n"
     ]
    },
    {
     "data": {
      "image/png": "[encoded data removed]",
      "text/plain": [
       "<Figure size 648x432 with 1 Axes>"
      ]
     },
     "metadata": {
      "needs_background": "light"
     },
     "output_type": "display_data"
    }
   ],
   "source": [
    "n_splits = 10\n",
    "kf = KFold(n_splits)\n",
    "\n",
    "train_losses = np.zeros(n_splits)\n",
    "test_losses = np.zeros(n_splits)\n",
    "train_losses_plot = []                           # for plotting loss curves\n",
    "for i, (train_index, test_index) in enumerate(kf.split(X)):\n",
    "    \n",
    "    X_train, X_test = X[train_index], X[test_index]\n",
    "    y_train, y_test = y[train_index], y[test_index]\n",
    "    \n",
    "    print(\"\\nTraining on fold no. %d\" %(i+1))\n",
    "    epoch_wise_train_losses, test_losses[i] = pipeline(X_train, X_test, y_train, y_test, verbose=1)\n",
    "    train_losses[i] = epoch_wise_train_losses[-1]\n",
    "    train_losses_plot.append(epoch_wise_train_losses)\n",
    "    \n",
    "print(\"Train losses:\", train_losses)\n",
    "print(\"Test losses:\", test_losses)\n",
    "\n",
    "avg_train_loss_k_folds = train_losses.mean() / len(X_train)\n",
    "avg_test_loss_k_folds = test_losses.mean() / len(X_test)\n",
    "print(f\"\\nAvg train loss over all folds: {avg_train_loss_k_folds :.5f}\")\n",
    "print(f\"Avg test loss over all folds: {avg_test_loss_k_folds :.5f}\")\n",
    "\n",
    "plt.figure(figsize=(9,6))\n",
    "for losses in train_losses_plot:\n",
    "    plt.plot(losses)\n",
    "plt.grid()\n",
    "plt.xlabel(\"Epoch\", fontsize=20)\n",
    "plt.ylabel(\"Loss\", fontsize=20)\n",
    "plt.title(f\"Loss curves for {n_splits} folds\", fontsize=20)\n",
    "plt.show()"
   ]
  },
  {
   "cell_type": "markdown",
   "id": "0e80f2bd",
   "metadata": {},
   "source": [
    "### Test on OOD data"
   ]
  },
  {
   "cell_type": "code",
   "execution_count": 15,
   "id": "0a533677",
   "metadata": {},
   "outputs": [
    {
     "name": "stdout",
     "output_type": "stream",
     "text": [
      "Average Test MSE Loss: 0.0003392490009401018\n",
      "Average OOD loss = 0.0003392490\n",
      "Average OOD loss to train loss ratio:  4.978\n",
      "Average OOD loss to test loss ratio:  2.389\n"
     ]
    }
   ],
   "source": [
    "OOD_loss = test_regr(airfoil_model, loss_function, OOD_loader, verbose=1, return_loss=True)\n",
    "avg_OOD_loss = OOD_loss / len(X_OOD)\n",
    "\n",
    "print(f\"Average OOD loss = {avg_OOD_loss:.10f}\")  \n",
    "print(f\"Average OOD loss to train loss ratio: {avg_OOD_loss / avg_train_loss_k_folds : .3f}\")\n",
    "print(f\"Average OOD loss to test loss ratio: {avg_OOD_loss / avg_test_loss_k_folds : .3f}\")"
   ]
  },
  {
   "cell_type": "markdown",
   "id": "f330bf9f",
   "metadata": {},
   "source": [
    "### We see that the loss on OOD data is higher, which is a good sign for the domain splitting method."
   ]
  },
  {
   "cell_type": "markdown",
   "id": "c63bd0c4",
   "metadata": {},
   "source": [
    "## Now for the Bayesian treatment"
   ]
  },
  {
   "cell_type": "code",
   "execution_count": 15,
   "id": "5ffbf536",
   "metadata": {},
   "outputs": [
    {
     "name": "stderr",
     "output_type": "stream",
     "text": [
      "Warmup:   0%|                                          | 1/1500 [00:01,  1.96s/it, step size=1.08e-03, acc. prob=1.000]"
     ]
    },
    {
     "ename": "ValueError",
     "evalue": "Error while computing log_prob_sum at site 'layer_0.weight':\nExpected value argument (Tensor of shape (100, 5)) to be within the support (Real()) of the distribution Normal(loc: torch.Size([100, 5]), scale: torch.Size([100, 5])), but found invalid values:\ntensor([[nan, nan, nan, nan, nan],\n        [nan, nan, nan, nan, nan],\n        [nan, nan, nan, nan, nan],\n        [nan, nan, nan, nan, nan],\n        [nan, nan, nan, nan, nan],\n        [nan, nan, nan, nan, nan],\n        [nan, nan, nan, nan, nan],\n        [nan, nan, nan, nan, nan],\n        [nan, nan, nan, nan, nan],\n        [nan, nan, nan, nan, nan],\n        [nan, nan, nan, nan, nan],\n        [nan, nan, nan, nan, nan],\n        [nan, nan, nan, nan, nan],\n        [nan, nan, nan, nan, nan],\n        [nan, nan, nan, nan, nan],\n        [nan, nan, nan, nan, nan],\n        [nan, nan, nan, nan, nan],\n        [nan, nan, nan, nan, nan],\n        [nan, nan, nan, nan, nan],\n        [nan, nan, nan, nan, nan],\n        [nan, nan, nan, nan, nan],\n        [nan, nan, nan, nan, nan],\n        [nan, nan, nan, nan, nan],\n        [nan, nan, nan, nan, nan],\n        [nan, nan, nan, nan, nan],\n        [nan, nan, nan, nan, nan],\n        [nan, nan, nan, nan, nan],\n        [nan, nan, nan, nan, nan],\n        [nan, nan, nan, nan, nan],\n        [nan, nan, nan, nan, nan],\n        [nan, nan, nan, nan, nan],\n        [nan, nan, nan, nan, nan],\n        [nan, nan, nan, nan, nan],\n        [nan, nan, nan, nan, nan],\n        [nan, nan, nan, nan, nan],\n        [nan, nan, nan, nan, nan],\n        [nan, nan, nan, nan, nan],\n        [nan, nan, nan, nan, nan],\n        [nan, nan, nan, nan, nan],\n        [nan, nan, nan, nan, nan],\n        [nan, nan, nan, nan, nan],\n        [nan, nan, nan, nan, nan],\n        [nan, nan, nan, nan, nan],\n        [nan, nan, nan, nan, nan],\n        [nan, nan, nan, nan, nan],\n        [nan, nan, nan, nan, nan],\n        [nan, nan, nan, nan, nan],\n        [nan, nan, nan, nan, nan],\n        [nan, nan, nan, nan, nan],\n        [nan, nan, nan, nan, nan],\n        [nan, nan, nan, nan, nan],\n        [nan, nan, nan, nan, nan],\n        [nan, nan, nan, nan, nan],\n        [nan, nan, nan, nan, nan],\n        [nan, nan, nan, nan, nan],\n        [nan, nan, nan, nan, nan],\n        [nan, nan, nan, nan, nan],\n        [nan, nan, nan, nan, nan],\n        [nan, nan, nan, nan, nan],\n        [nan, nan, nan, nan, nan],\n        [nan, nan, nan, nan, nan],\n        [nan, nan, nan, nan, nan],\n        [nan, nan, nan, nan, nan],\n        [nan, nan, nan, nan, nan],\n        [nan, nan, nan, nan, nan],\n        [nan, nan, nan, nan, nan],\n        [nan, nan, nan, nan, nan],\n        [nan, nan, nan, nan, nan],\n        [nan, nan, nan, nan, nan],\n        [nan, nan, nan, nan, nan],\n        [nan, nan, nan, nan, nan],\n        [nan, nan, nan, nan, nan],\n        [nan, nan, nan, nan, nan],\n        [nan, nan, nan, nan, nan],\n        [nan, nan, nan, nan, nan],\n        [nan, nan, nan, nan, nan],\n        [nan, nan, nan, nan, nan],\n        [nan, nan, nan, nan, nan],\n        [nan, nan, nan, nan, nan],\n        [nan, nan, nan, nan, nan],\n        [nan, nan, nan, nan, nan],\n        [nan, nan, nan, nan, nan],\n        [nan, nan, nan, nan, nan],\n        [nan, nan, nan, nan, nan],\n        [nan, nan, nan, nan, nan],\n        [nan, nan, nan, nan, nan],\n        [nan, nan, nan, nan, nan],\n        [nan, nan, nan, nan, nan],\n        [nan, nan, nan, nan, nan],\n        [nan, nan, nan, nan, nan],\n        [nan, nan, nan, nan, nan],\n        [nan, nan, nan, nan, nan],\n        [nan, nan, nan, nan, nan],\n        [nan, nan, nan, nan, nan],\n        [nan, nan, nan, nan, nan],\n        [nan, nan, nan, nan, nan],\n        [nan, nan, nan, nan, nan],\n        [nan, nan, nan, nan, nan],\n        [nan, nan, nan, nan, nan],\n        [nan, nan, nan, nan, nan]], device='cuda:0', requires_grad=True)\n      Trace Shapes:        \n       Param Sites:        \n      Sample Sites:        \nlayer_0.weight dist | 100 5\n              value | 100 5\n",
     "output_type": "error",
     "traceback": [
      "\u001b[1;31m---------------------------------------------------------------------------\u001b[0m",
      "\u001b[1;31mValueError\u001b[0m                                Traceback (most recent call last)",
      "File \u001b[1;32m~\\anaconda3\\envs\\torch\\lib\\site-packages\\pyro\\poutine\\trace_struct.py:191\u001b[0m, in \u001b[0;36mTrace.log_prob_sum\u001b[1;34m(self, site_filter)\u001b[0m\n\u001b[0;32m    190\u001b[0m \u001b[38;5;28;01mtry\u001b[39;00m:\n\u001b[1;32m--> 191\u001b[0m     log_p \u001b[38;5;241m=\u001b[39m site[\u001b[38;5;124m\"\u001b[39m\u001b[38;5;124mfn\u001b[39m\u001b[38;5;124m\"\u001b[39m]\u001b[38;5;241m.\u001b[39mlog_prob(site[\u001b[38;5;124m\"\u001b[39m\u001b[38;5;124mvalue\u001b[39m\u001b[38;5;124m\"\u001b[39m], \u001b[38;5;241m*\u001b[39msite[\u001b[38;5;124m\"\u001b[39m\u001b[38;5;124margs\u001b[39m\u001b[38;5;124m\"\u001b[39m], \u001b[38;5;241m*\u001b[39m\u001b[38;5;241m*\u001b[39msite[\u001b[38;5;124m\"\u001b[39m\u001b[38;5;124mkwargs\u001b[39m\u001b[38;5;124m\"\u001b[39m])\n\u001b[0;32m    192\u001b[0m \u001b[38;5;28;01mexcept\u001b[39;00m \u001b[38;5;167;01mValueError\u001b[39;00m:\n",
      "File \u001b[1;32m~\\anaconda3\\envs\\torch\\lib\\site-packages\\torch\\distributions\\independent.py:91\u001b[0m, in \u001b[0;36mIndependent.log_prob\u001b[1;34m(self, value)\u001b[0m\n\u001b[0;32m     90\u001b[0m \u001b[38;5;28;01mdef\u001b[39;00m \u001b[38;5;21mlog_prob\u001b[39m(\u001b[38;5;28mself\u001b[39m, value):\n\u001b[1;32m---> 91\u001b[0m     log_prob \u001b[38;5;241m=\u001b[39m \u001b[38;5;28;43mself\u001b[39;49m\u001b[38;5;241;43m.\u001b[39;49m\u001b[43mbase_dist\u001b[49m\u001b[38;5;241;43m.\u001b[39;49m\u001b[43mlog_prob\u001b[49m\u001b[43m(\u001b[49m\u001b[43mvalue\u001b[49m\u001b[43m)\u001b[49m\n\u001b[0;32m     92\u001b[0m     \u001b[38;5;28;01mreturn\u001b[39;00m _sum_rightmost(log_prob, \u001b[38;5;28mself\u001b[39m\u001b[38;5;241m.\u001b[39mreinterpreted_batch_ndims)\n",
      "File \u001b[1;32m~\\anaconda3\\envs\\torch\\lib\\site-packages\\torch\\distributions\\normal.py:73\u001b[0m, in \u001b[0;36mNormal.log_prob\u001b[1;34m(self, value)\u001b[0m\n\u001b[0;32m     72\u001b[0m \u001b[38;5;28;01mif\u001b[39;00m \u001b[38;5;28mself\u001b[39m\u001b[38;5;241m.\u001b[39m_validate_args:\n\u001b[1;32m---> 73\u001b[0m     \u001b[38;5;28;43mself\u001b[39;49m\u001b[38;5;241;43m.\u001b[39;49m\u001b[43m_validate_sample\u001b[49m\u001b[43m(\u001b[49m\u001b[43mvalue\u001b[49m\u001b[43m)\u001b[49m\n\u001b[0;32m     74\u001b[0m \u001b[38;5;66;03m# compute the variance\u001b[39;00m\n",
      "File \u001b[1;32m~\\anaconda3\\envs\\torch\\lib\\site-packages\\torch\\distributions\\distribution.py:286\u001b[0m, in \u001b[0;36mDistribution._validate_sample\u001b[1;34m(self, value)\u001b[0m\n\u001b[0;32m    285\u001b[0m \u001b[38;5;28;01mif\u001b[39;00m \u001b[38;5;129;01mnot\u001b[39;00m valid\u001b[38;5;241m.\u001b[39mall():\n\u001b[1;32m--> 286\u001b[0m     \u001b[38;5;28;01mraise\u001b[39;00m \u001b[38;5;167;01mValueError\u001b[39;00m(\n\u001b[0;32m    287\u001b[0m         \u001b[38;5;124m\"\u001b[39m\u001b[38;5;124mExpected value argument \u001b[39m\u001b[38;5;124m\"\u001b[39m\n\u001b[0;32m    288\u001b[0m         \u001b[38;5;124mf\u001b[39m\u001b[38;5;124m\"\u001b[39m\u001b[38;5;124m(\u001b[39m\u001b[38;5;132;01m{\u001b[39;00m\u001b[38;5;28mtype\u001b[39m(value)\u001b[38;5;241m.\u001b[39m\u001b[38;5;18m__name__\u001b[39m\u001b[38;5;132;01m}\u001b[39;00m\u001b[38;5;124m of shape \u001b[39m\u001b[38;5;132;01m{\u001b[39;00m\u001b[38;5;28mtuple\u001b[39m(value\u001b[38;5;241m.\u001b[39mshape)\u001b[38;5;132;01m}\u001b[39;00m\u001b[38;5;124m) \u001b[39m\u001b[38;5;124m\"\u001b[39m\n\u001b[0;32m    289\u001b[0m         \u001b[38;5;124mf\u001b[39m\u001b[38;5;124m\"\u001b[39m\u001b[38;5;124mto be within the support (\u001b[39m\u001b[38;5;132;01m{\u001b[39;00m\u001b[38;5;28mrepr\u001b[39m(support)\u001b[38;5;132;01m}\u001b[39;00m\u001b[38;5;124m) \u001b[39m\u001b[38;5;124m\"\u001b[39m\n\u001b[0;32m    290\u001b[0m         \u001b[38;5;124mf\u001b[39m\u001b[38;5;124m\"\u001b[39m\u001b[38;5;124mof the distribution \u001b[39m\u001b[38;5;132;01m{\u001b[39;00m\u001b[38;5;28mrepr\u001b[39m(\u001b[38;5;28mself\u001b[39m)\u001b[38;5;132;01m}\u001b[39;00m\u001b[38;5;124m, \u001b[39m\u001b[38;5;124m\"\u001b[39m\n\u001b[0;32m    291\u001b[0m         \u001b[38;5;124mf\u001b[39m\u001b[38;5;124m\"\u001b[39m\u001b[38;5;124mbut found invalid values:\u001b[39m\u001b[38;5;130;01m\\n\u001b[39;00m\u001b[38;5;132;01m{\u001b[39;00mvalue\u001b[38;5;132;01m}\u001b[39;00m\u001b[38;5;124m\"\u001b[39m\n\u001b[0;32m    292\u001b[0m     )\n",
      "\u001b[1;31mValueError\u001b[0m: Expected value argument (Tensor of shape (100, 5)) to be within the support (Real()) of the distribution Normal(loc: torch.Size([100, 5]), scale: torch.Size([100, 5])), but found invalid values:\ntensor([[nan, nan, nan, nan, nan],\n        [nan, nan, nan, nan, nan],\n        [nan, nan, nan, nan, nan],\n        [nan, nan, nan, nan, nan],\n        [nan, nan, nan, nan, nan],\n        [nan, nan, nan, nan, nan],\n        [nan, nan, nan, nan, nan],\n        [nan, nan, nan, nan, nan],\n        [nan, nan, nan, nan, nan],\n        [nan, nan, nan, nan, nan],\n        [nan, nan, nan, nan, nan],\n        [nan, nan, nan, nan, nan],\n        [nan, nan, nan, nan, nan],\n        [nan, nan, nan, nan, nan],\n        [nan, nan, nan, nan, nan],\n        [nan, nan, nan, nan, nan],\n        [nan, nan, nan, nan, nan],\n        [nan, nan, nan, nan, nan],\n        [nan, nan, nan, nan, nan],\n        [nan, nan, nan, nan, nan],\n        [nan, nan, nan, nan, nan],\n        [nan, nan, nan, nan, nan],\n        [nan, nan, nan, nan, nan],\n        [nan, nan, nan, nan, nan],\n        [nan, nan, nan, nan, nan],\n        [nan, nan, nan, nan, nan],\n        [nan, nan, nan, nan, nan],\n        [nan, nan, nan, nan, nan],\n        [nan, nan, nan, nan, nan],\n        [nan, nan, nan, nan, nan],\n        [nan, nan, nan, nan, nan],\n        [nan, nan, nan, nan, nan],\n        [nan, nan, nan, nan, nan],\n        [nan, nan, nan, nan, nan],\n        [nan, nan, nan, nan, nan],\n        [nan, nan, nan, nan, nan],\n        [nan, nan, nan, nan, nan],\n        [nan, nan, nan, nan, nan],\n        [nan, nan, nan, nan, nan],\n        [nan, nan, nan, nan, nan],\n        [nan, nan, nan, nan, nan],\n        [nan, nan, nan, nan, nan],\n        [nan, nan, nan, nan, nan],\n        [nan, nan, nan, nan, nan],\n        [nan, nan, nan, nan, nan],\n        [nan, nan, nan, nan, nan],\n        [nan, nan, nan, nan, nan],\n        [nan, nan, nan, nan, nan],\n        [nan, nan, nan, nan, nan],\n        [nan, nan, nan, nan, nan],\n        [nan, nan, nan, nan, nan],\n        [nan, nan, nan, nan, nan],\n        [nan, nan, nan, nan, nan],\n        [nan, nan, nan, nan, nan],\n        [nan, nan, nan, nan, nan],\n        [nan, nan, nan, nan, nan],\n        [nan, nan, nan, nan, nan],\n        [nan, nan, nan, nan, nan],\n        [nan, nan, nan, nan, nan],\n        [nan, nan, nan, nan, nan],\n        [nan, nan, nan, nan, nan],\n        [nan, nan, nan, nan, nan],\n        [nan, nan, nan, nan, nan],\n        [nan, nan, nan, nan, nan],\n        [nan, nan, nan, nan, nan],\n        [nan, nan, nan, nan, nan],\n        [nan, nan, nan, nan, nan],\n        [nan, nan, nan, nan, nan],\n        [nan, nan, nan, nan, nan],\n        [nan, nan, nan, nan, nan],\n        [nan, nan, nan, nan, nan],\n        [nan, nan, nan, nan, nan],\n        [nan, nan, nan, nan, nan],\n        [nan, nan, nan, nan, nan],\n        [nan, nan, nan, nan, nan],\n        [nan, nan, nan, nan, nan],\n        [nan, nan, nan, nan, nan],\n        [nan, nan, nan, nan, nan],\n        [nan, nan, nan, nan, nan],\n        [nan, nan, nan, nan, nan],\n        [nan, nan, nan, nan, nan],\n        [nan, nan, nan, nan, nan],\n        [nan, nan, nan, nan, nan],\n        [nan, nan, nan, nan, nan],\n        [nan, nan, nan, nan, nan],\n        [nan, nan, nan, nan, nan],\n        [nan, nan, nan, nan, nan],\n        [nan, nan, nan, nan, nan],\n        [nan, nan, nan, nan, nan],\n        [nan, nan, nan, nan, nan],\n        [nan, nan, nan, nan, nan],\n        [nan, nan, nan, nan, nan],\n        [nan, nan, nan, nan, nan],\n        [nan, nan, nan, nan, nan],\n        [nan, nan, nan, nan, nan],\n        [nan, nan, nan, nan, nan],\n        [nan, nan, nan, nan, nan],\n        [nan, nan, nan, nan, nan],\n        [nan, nan, nan, nan, nan],\n        [nan, nan, nan, nan, nan]], device='cuda:0', requires_grad=True)",
      "\nDuring handling of the above exception, another exception occurred:\n",
      "\u001b[1;31mValueError\u001b[0m                                Traceback (most recent call last)",
      "Input \u001b[1;32mIn [15]\u001b[0m, in \u001b[0;36m<cell line: 17>\u001b[1;34m()\u001b[0m\n\u001b[0;32m     15\u001b[0m \u001b[38;5;66;03m# Fit\u001b[39;00m\n\u001b[0;32m     16\u001b[0m pyro\u001b[38;5;241m.\u001b[39mclear_param_store()\n\u001b[1;32m---> 17\u001b[0m \u001b[43mbnn\u001b[49m\u001b[38;5;241;43m.\u001b[39;49m\u001b[43mfit\u001b[49m\u001b[43m(\u001b[49m\u001b[43mtrain_loader\u001b[49m\u001b[43m,\u001b[49m\u001b[43m \u001b[49m\u001b[38;5;241;43m1000\u001b[39;49m\u001b[43m,\u001b[49m\u001b[43m \u001b[49m\u001b[43mwarmup_steps\u001b[49m\u001b[38;5;241;43m=\u001b[39;49m\u001b[38;5;241;43m500\u001b[39;49m\u001b[43m)\u001b[49m\n",
      "File \u001b[1;32mc:\\users\\administrator\\documents\\alex\\master\\internship\\github\\tyxe\\tyxe\\bnn.py:273\u001b[0m, in \u001b[0;36mMCMC_BNN.fit\u001b[1;34m(self, data_loader, num_samples, device, batch_data, **mcmc_kwargs)\u001b[0m\n\u001b[0;32m    271\u001b[0m     observation_data \u001b[38;5;241m=\u001b[39m torch\u001b[38;5;241m.\u001b[39mcat(observation_data_list)\n\u001b[0;32m    272\u001b[0m \u001b[38;5;28mself\u001b[39m\u001b[38;5;241m.\u001b[39m_mcmc \u001b[38;5;241m=\u001b[39m MCMC(\u001b[38;5;28mself\u001b[39m\u001b[38;5;241m.\u001b[39mkernel, num_samples, \u001b[38;5;241m*\u001b[39m\u001b[38;5;241m*\u001b[39mmcmc_kwargs)\n\u001b[1;32m--> 273\u001b[0m \u001b[38;5;28;43mself\u001b[39;49m\u001b[38;5;241;43m.\u001b[39;49m\u001b[43m_mcmc\u001b[49m\u001b[38;5;241;43m.\u001b[39;49m\u001b[43mrun\u001b[49m\u001b[43m(\u001b[49m\u001b[43minput_data\u001b[49m\u001b[43m,\u001b[49m\u001b[43m \u001b[49m\u001b[43mobservation_data\u001b[49m\u001b[43m)\u001b[49m\n\u001b[0;32m    275\u001b[0m \u001b[38;5;28;01mreturn\u001b[39;00m \u001b[38;5;28mself\u001b[39m\u001b[38;5;241m.\u001b[39m_mcmc\n",
      "File \u001b[1;32m~\\anaconda3\\envs\\torch\\lib\\site-packages\\pyro\\poutine\\messenger.py:11\u001b[0m, in \u001b[0;36m_context_wrap\u001b[1;34m(context, fn, *args, **kwargs)\u001b[0m\n\u001b[0;32m      9\u001b[0m \u001b[38;5;28;01mdef\u001b[39;00m \u001b[38;5;21m_context_wrap\u001b[39m(context, fn, \u001b[38;5;241m*\u001b[39margs, \u001b[38;5;241m*\u001b[39m\u001b[38;5;241m*\u001b[39mkwargs):\n\u001b[0;32m     10\u001b[0m     \u001b[38;5;28;01mwith\u001b[39;00m context:\n\u001b[1;32m---> 11\u001b[0m         \u001b[38;5;28;01mreturn\u001b[39;00m fn(\u001b[38;5;241m*\u001b[39margs, \u001b[38;5;241m*\u001b[39m\u001b[38;5;241m*\u001b[39mkwargs)\n",
      "File \u001b[1;32m~\\anaconda3\\envs\\torch\\lib\\site-packages\\pyro\\infer\\mcmc\\api.py:380\u001b[0m, in \u001b[0;36mMCMC.run\u001b[1;34m(self, *args, **kwargs)\u001b[0m\n\u001b[0;32m    377\u001b[0m z_flat_acc \u001b[38;5;241m=\u001b[39m [[] \u001b[38;5;28;01mfor\u001b[39;00m _ \u001b[38;5;129;01min\u001b[39;00m \u001b[38;5;28mrange\u001b[39m(\u001b[38;5;28mself\u001b[39m\u001b[38;5;241m.\u001b[39mnum_chains)]\n\u001b[0;32m    378\u001b[0m \u001b[38;5;28;01mwith\u001b[39;00m optional(pyro\u001b[38;5;241m.\u001b[39mvalidation_enabled(\u001b[38;5;129;01mnot\u001b[39;00m \u001b[38;5;28mself\u001b[39m\u001b[38;5;241m.\u001b[39mdisable_validation),\n\u001b[0;32m    379\u001b[0m               \u001b[38;5;28mself\u001b[39m\u001b[38;5;241m.\u001b[39mdisable_validation \u001b[38;5;129;01mis\u001b[39;00m \u001b[38;5;129;01mnot\u001b[39;00m \u001b[38;5;28;01mNone\u001b[39;00m):\n\u001b[1;32m--> 380\u001b[0m     \u001b[38;5;28;01mfor\u001b[39;00m x, chain_id \u001b[38;5;129;01min\u001b[39;00m \u001b[38;5;28mself\u001b[39m\u001b[38;5;241m.\u001b[39msampler\u001b[38;5;241m.\u001b[39mrun(\u001b[38;5;241m*\u001b[39margs, \u001b[38;5;241m*\u001b[39m\u001b[38;5;241m*\u001b[39mkwargs):\n\u001b[0;32m    381\u001b[0m         \u001b[38;5;28;01mif\u001b[39;00m num_samples[chain_id] \u001b[38;5;241m==\u001b[39m \u001b[38;5;241m0\u001b[39m:\n\u001b[0;32m    382\u001b[0m             num_samples[chain_id] \u001b[38;5;241m+\u001b[39m\u001b[38;5;241m=\u001b[39m \u001b[38;5;241m1\u001b[39m\n",
      "File \u001b[1;32m~\\anaconda3\\envs\\torch\\lib\\site-packages\\pyro\\infer\\mcmc\\api.py:167\u001b[0m, in \u001b[0;36m_UnarySampler.run\u001b[1;34m(self, *args, **kwargs)\u001b[0m\n\u001b[0;32m    165\u001b[0m logger \u001b[38;5;241m=\u001b[39m initialize_logger(logger, \u001b[38;5;124m\"\u001b[39m\u001b[38;5;124m\"\u001b[39m, progress_bar)\n\u001b[0;32m    166\u001b[0m hook_w_logging \u001b[38;5;241m=\u001b[39m _add_logging_hook(logger, progress_bar, \u001b[38;5;28mself\u001b[39m\u001b[38;5;241m.\u001b[39mhook)\n\u001b[1;32m--> 167\u001b[0m \u001b[38;5;28;01mfor\u001b[39;00m sample \u001b[38;5;129;01min\u001b[39;00m _gen_samples(\u001b[38;5;28mself\u001b[39m\u001b[38;5;241m.\u001b[39mkernel, \u001b[38;5;28mself\u001b[39m\u001b[38;5;241m.\u001b[39mwarmup_steps, \u001b[38;5;28mself\u001b[39m\u001b[38;5;241m.\u001b[39mnum_samples, hook_w_logging,\n\u001b[0;32m    168\u001b[0m                            i \u001b[38;5;28;01mif\u001b[39;00m \u001b[38;5;28mself\u001b[39m\u001b[38;5;241m.\u001b[39mnum_chains \u001b[38;5;241m>\u001b[39m \u001b[38;5;241m1\u001b[39m \u001b[38;5;28;01melse\u001b[39;00m \u001b[38;5;28;01mNone\u001b[39;00m,\n\u001b[0;32m    169\u001b[0m                            \u001b[38;5;241m*\u001b[39margs, \u001b[38;5;241m*\u001b[39m\u001b[38;5;241m*\u001b[39mkwargs):\n\u001b[0;32m    170\u001b[0m     \u001b[38;5;28;01myield\u001b[39;00m sample, i  \u001b[38;5;66;03m# sample, chain_id\u001b[39;00m\n\u001b[0;32m    171\u001b[0m \u001b[38;5;28mself\u001b[39m\u001b[38;5;241m.\u001b[39mkernel\u001b[38;5;241m.\u001b[39mcleanup()\n",
      "File \u001b[1;32m~\\anaconda3\\envs\\torch\\lib\\site-packages\\pyro\\infer\\mcmc\\api.py:116\u001b[0m, in \u001b[0;36m_gen_samples\u001b[1;34m(kernel, warmup_steps, num_samples, hook, chain_id, *args, **kwargs)\u001b[0m\n\u001b[0;32m    114\u001b[0m \u001b[38;5;28;01myield\u001b[39;00m {k: v\u001b[38;5;241m.\u001b[39mshape \u001b[38;5;28;01mfor\u001b[39;00m k, v \u001b[38;5;129;01min\u001b[39;00m params\u001b[38;5;241m.\u001b[39mitems()}\n\u001b[0;32m    115\u001b[0m \u001b[38;5;28;01mfor\u001b[39;00m i \u001b[38;5;129;01min\u001b[39;00m \u001b[38;5;28mrange\u001b[39m(warmup_steps):\n\u001b[1;32m--> 116\u001b[0m     params \u001b[38;5;241m=\u001b[39m \u001b[43mkernel\u001b[49m\u001b[38;5;241;43m.\u001b[39;49m\u001b[43msample\u001b[49m\u001b[43m(\u001b[49m\u001b[43mparams\u001b[49m\u001b[43m)\u001b[49m\n\u001b[0;32m    117\u001b[0m     hook(kernel, params, \u001b[38;5;124m'\u001b[39m\u001b[38;5;124mWarmup [\u001b[39m\u001b[38;5;132;01m{}\u001b[39;00m\u001b[38;5;124m]\u001b[39m\u001b[38;5;124m'\u001b[39m\u001b[38;5;241m.\u001b[39mformat(chain_id) \u001b[38;5;28;01mif\u001b[39;00m chain_id \u001b[38;5;129;01mis\u001b[39;00m \u001b[38;5;129;01mnot\u001b[39;00m \u001b[38;5;28;01mNone\u001b[39;00m \u001b[38;5;28;01melse\u001b[39;00m \u001b[38;5;124m'\u001b[39m\u001b[38;5;124mWarmup\u001b[39m\u001b[38;5;124m'\u001b[39m, i)\n\u001b[0;32m    118\u001b[0m \u001b[38;5;28;01mfor\u001b[39;00m i \u001b[38;5;129;01min\u001b[39;00m \u001b[38;5;28mrange\u001b[39m(num_samples):\n",
      "File \u001b[1;32m~\\anaconda3\\envs\\torch\\lib\\site-packages\\pyro\\infer\\mcmc\\hmc.py:349\u001b[0m, in \u001b[0;36mHMC.sample\u001b[1;34m(self, params)\u001b[0m\n\u001b[0;32m    346\u001b[0m \u001b[38;5;66;03m# Temporarily disable distributions args checking as\u001b[39;00m\n\u001b[0;32m    347\u001b[0m \u001b[38;5;66;03m# NaNs are expected during step size adaptation\u001b[39;00m\n\u001b[0;32m    348\u001b[0m \u001b[38;5;28;01mwith\u001b[39;00m optional(pyro\u001b[38;5;241m.\u001b[39mvalidation_enabled(\u001b[38;5;28;01mFalse\u001b[39;00m), \u001b[38;5;28mself\u001b[39m\u001b[38;5;241m.\u001b[39m_t \u001b[38;5;241m<\u001b[39m \u001b[38;5;28mself\u001b[39m\u001b[38;5;241m.\u001b[39m_warmup_steps):\n\u001b[1;32m--> 349\u001b[0m     z_new, r_new, z_grads_new, potential_energy_new \u001b[38;5;241m=\u001b[39m \u001b[43mvelocity_verlet\u001b[49m\u001b[43m(\u001b[49m\n\u001b[0;32m    350\u001b[0m \u001b[43m        \u001b[49m\u001b[43mz\u001b[49m\u001b[43m,\u001b[49m\u001b[43m \u001b[49m\u001b[43mr\u001b[49m\u001b[43m,\u001b[49m\u001b[43m \u001b[49m\u001b[38;5;28;43mself\u001b[39;49m\u001b[38;5;241;43m.\u001b[39;49m\u001b[43mpotential_fn\u001b[49m\u001b[43m,\u001b[49m\u001b[43m \u001b[49m\u001b[38;5;28;43mself\u001b[39;49m\u001b[38;5;241;43m.\u001b[39;49m\u001b[43mmass_matrix_adapter\u001b[49m\u001b[38;5;241;43m.\u001b[39;49m\u001b[43mkinetic_grad\u001b[49m\u001b[43m,\u001b[49m\n\u001b[0;32m    351\u001b[0m \u001b[43m        \u001b[49m\u001b[38;5;28;43mself\u001b[39;49m\u001b[38;5;241;43m.\u001b[39;49m\u001b[43mstep_size\u001b[49m\u001b[43m,\u001b[49m\u001b[43m \u001b[49m\u001b[38;5;28;43mself\u001b[39;49m\u001b[38;5;241;43m.\u001b[39;49m\u001b[43mnum_steps\u001b[49m\u001b[43m,\u001b[49m\u001b[43m \u001b[49m\u001b[43mz_grads\u001b[49m\u001b[38;5;241;43m=\u001b[39;49m\u001b[43mz_grads\u001b[49m\u001b[43m)\u001b[49m\n\u001b[0;32m    352\u001b[0m     \u001b[38;5;66;03m# apply Metropolis correction.\u001b[39;00m\n\u001b[0;32m    353\u001b[0m     r_new_unscaled \u001b[38;5;241m=\u001b[39m \u001b[38;5;28mself\u001b[39m\u001b[38;5;241m.\u001b[39mmass_matrix_adapter\u001b[38;5;241m.\u001b[39munscale(r_new)\n",
      "File \u001b[1;32m~\\anaconda3\\envs\\torch\\lib\\site-packages\\pyro\\ops\\integrator.py:30\u001b[0m, in \u001b[0;36mvelocity_verlet\u001b[1;34m(z, r, potential_fn, kinetic_grad, step_size, num_steps, z_grads)\u001b[0m\n\u001b[0;32m     28\u001b[0m r_next \u001b[38;5;241m=\u001b[39m r\u001b[38;5;241m.\u001b[39mcopy()\n\u001b[0;32m     29\u001b[0m \u001b[38;5;28;01mfor\u001b[39;00m _ \u001b[38;5;129;01min\u001b[39;00m \u001b[38;5;28mrange\u001b[39m(num_steps):\n\u001b[1;32m---> 30\u001b[0m     z_next, r_next, z_grads, potential_energy \u001b[38;5;241m=\u001b[39m \u001b[43m_single_step_verlet\u001b[49m\u001b[43m(\u001b[49m\u001b[43mz_next\u001b[49m\u001b[43m,\u001b[49m\n\u001b[0;32m     31\u001b[0m \u001b[43m                                                                    \u001b[49m\u001b[43mr_next\u001b[49m\u001b[43m,\u001b[49m\n\u001b[0;32m     32\u001b[0m \u001b[43m                                                                    \u001b[49m\u001b[43mpotential_fn\u001b[49m\u001b[43m,\u001b[49m\n\u001b[0;32m     33\u001b[0m \u001b[43m                                                                    \u001b[49m\u001b[43mkinetic_grad\u001b[49m\u001b[43m,\u001b[49m\n\u001b[0;32m     34\u001b[0m \u001b[43m                                                                    \u001b[49m\u001b[43mstep_size\u001b[49m\u001b[43m,\u001b[49m\n\u001b[0;32m     35\u001b[0m \u001b[43m                                                                    \u001b[49m\u001b[43mz_grads\u001b[49m\u001b[43m)\u001b[49m\n\u001b[0;32m     36\u001b[0m \u001b[38;5;28;01mreturn\u001b[39;00m z_next, r_next, z_grads, potential_energy\n",
      "File \u001b[1;32m~\\anaconda3\\envs\\torch\\lib\\site-packages\\pyro\\ops\\integrator.py:53\u001b[0m, in \u001b[0;36m_single_step_verlet\u001b[1;34m(z, r, potential_fn, kinetic_grad, step_size, z_grads)\u001b[0m\n\u001b[0;32m     50\u001b[0m \u001b[38;5;28;01mfor\u001b[39;00m site_name \u001b[38;5;129;01min\u001b[39;00m z:\n\u001b[0;32m     51\u001b[0m     z[site_name] \u001b[38;5;241m=\u001b[39m z[site_name] \u001b[38;5;241m+\u001b[39m step_size \u001b[38;5;241m*\u001b[39m r_grads[site_name]  \u001b[38;5;66;03m# z(n+1)\u001b[39;00m\n\u001b[1;32m---> 53\u001b[0m z_grads, potential_energy \u001b[38;5;241m=\u001b[39m \u001b[43mpotential_grad\u001b[49m\u001b[43m(\u001b[49m\u001b[43mpotential_fn\u001b[49m\u001b[43m,\u001b[49m\u001b[43m \u001b[49m\u001b[43mz\u001b[49m\u001b[43m)\u001b[49m\n\u001b[0;32m     54\u001b[0m \u001b[38;5;28;01mfor\u001b[39;00m site_name \u001b[38;5;129;01min\u001b[39;00m r:\n\u001b[0;32m     55\u001b[0m     r[site_name] \u001b[38;5;241m=\u001b[39m r[site_name] \u001b[38;5;241m+\u001b[39m \u001b[38;5;241m0.5\u001b[39m \u001b[38;5;241m*\u001b[39m step_size \u001b[38;5;241m*\u001b[39m (\u001b[38;5;241m-\u001b[39mz_grads[site_name])  \u001b[38;5;66;03m# r(n+1)\u001b[39;00m\n",
      "File \u001b[1;32m~\\anaconda3\\envs\\torch\\lib\\site-packages\\pyro\\ops\\integrator.py:75\u001b[0m, in \u001b[0;36mpotential_grad\u001b[1;34m(potential_fn, z)\u001b[0m\n\u001b[0;32m     73\u001b[0m     node\u001b[38;5;241m.\u001b[39mrequires_grad_(\u001b[38;5;28;01mTrue\u001b[39;00m)\n\u001b[0;32m     74\u001b[0m \u001b[38;5;28;01mtry\u001b[39;00m:\n\u001b[1;32m---> 75\u001b[0m     potential_energy \u001b[38;5;241m=\u001b[39m \u001b[43mpotential_fn\u001b[49m\u001b[43m(\u001b[49m\u001b[43mz\u001b[49m\u001b[43m)\u001b[49m\n\u001b[0;32m     76\u001b[0m \u001b[38;5;66;03m# deal with singular matrices\u001b[39;00m\n\u001b[0;32m     77\u001b[0m \u001b[38;5;28;01mexcept\u001b[39;00m \u001b[38;5;167;01mRuntimeError\u001b[39;00m \u001b[38;5;28;01mas\u001b[39;00m e:\n",
      "File \u001b[1;32m~\\anaconda3\\envs\\torch\\lib\\site-packages\\pyro\\infer\\mcmc\\util.py:262\u001b[0m, in \u001b[0;36m_PEMaker._potential_fn\u001b[1;34m(self, params)\u001b[0m\n\u001b[0;32m    259\u001b[0m cond_model \u001b[38;5;241m=\u001b[39m poutine\u001b[38;5;241m.\u001b[39mcondition(\u001b[38;5;28mself\u001b[39m\u001b[38;5;241m.\u001b[39mmodel, params_constrained)\n\u001b[0;32m    260\u001b[0m model_trace \u001b[38;5;241m=\u001b[39m poutine\u001b[38;5;241m.\u001b[39mtrace(cond_model)\u001b[38;5;241m.\u001b[39mget_trace(\u001b[38;5;241m*\u001b[39m\u001b[38;5;28mself\u001b[39m\u001b[38;5;241m.\u001b[39mmodel_args,\n\u001b[0;32m    261\u001b[0m                                                   \u001b[38;5;241m*\u001b[39m\u001b[38;5;241m*\u001b[39m\u001b[38;5;28mself\u001b[39m\u001b[38;5;241m.\u001b[39mmodel_kwargs)\n\u001b[1;32m--> 262\u001b[0m log_joint \u001b[38;5;241m=\u001b[39m \u001b[38;5;28;43mself\u001b[39;49m\u001b[38;5;241;43m.\u001b[39;49m\u001b[43mtrace_prob_evaluator\u001b[49m\u001b[38;5;241;43m.\u001b[39;49m\u001b[43mlog_prob\u001b[49m\u001b[43m(\u001b[49m\u001b[43mmodel_trace\u001b[49m\u001b[43m)\u001b[49m\n\u001b[0;32m    263\u001b[0m \u001b[38;5;28;01mfor\u001b[39;00m name, t \u001b[38;5;129;01min\u001b[39;00m \u001b[38;5;28mself\u001b[39m\u001b[38;5;241m.\u001b[39mtransforms\u001b[38;5;241m.\u001b[39mitems():\n\u001b[0;32m    264\u001b[0m     log_joint \u001b[38;5;241m=\u001b[39m log_joint \u001b[38;5;241m-\u001b[39m torch\u001b[38;5;241m.\u001b[39msum(\n\u001b[0;32m    265\u001b[0m         t\u001b[38;5;241m.\u001b[39mlog_abs_det_jacobian(params_constrained[name], params[name]))\n",
      "File \u001b[1;32m~\\anaconda3\\envs\\torch\\lib\\site-packages\\pyro\\infer\\mcmc\\util.py:223\u001b[0m, in \u001b[0;36mTraceEinsumEvaluator.log_prob\u001b[1;34m(self, model_trace)\u001b[0m\n\u001b[0;32m    216\u001b[0m \u001b[38;5;124;03m\"\"\"\u001b[39;00m\n\u001b[0;32m    217\u001b[0m \u001b[38;5;124;03mReturns the log pdf of `model_trace` by appropriately handling\u001b[39;00m\n\u001b[0;32m    218\u001b[0m \u001b[38;5;124;03menumerated log prob factors.\u001b[39;00m\n\u001b[0;32m    219\u001b[0m \n\u001b[0;32m    220\u001b[0m \u001b[38;5;124;03m:return: log pdf of the trace.\u001b[39;00m\n\u001b[0;32m    221\u001b[0m \u001b[38;5;124;03m\"\"\"\u001b[39;00m\n\u001b[0;32m    222\u001b[0m \u001b[38;5;28;01mif\u001b[39;00m \u001b[38;5;129;01mnot\u001b[39;00m \u001b[38;5;28mself\u001b[39m\u001b[38;5;241m.\u001b[39mhas_enumerable_sites:\n\u001b[1;32m--> 223\u001b[0m     \u001b[38;5;28;01mreturn\u001b[39;00m \u001b[43mmodel_trace\u001b[49m\u001b[38;5;241;43m.\u001b[39;49m\u001b[43mlog_prob_sum\u001b[49m\u001b[43m(\u001b[49m\u001b[43m)\u001b[49m\n\u001b[0;32m    224\u001b[0m log_probs \u001b[38;5;241m=\u001b[39m \u001b[38;5;28mself\u001b[39m\u001b[38;5;241m.\u001b[39m_get_log_factors(model_trace)\n\u001b[0;32m    225\u001b[0m \u001b[38;5;28;01mwith\u001b[39;00m shared_intermediates() \u001b[38;5;28;01mas\u001b[39;00m cache:\n",
      "File \u001b[1;32m~\\anaconda3\\envs\\torch\\lib\\site-packages\\pyro\\poutine\\trace_struct.py:195\u001b[0m, in \u001b[0;36mTrace.log_prob_sum\u001b[1;34m(self, site_filter)\u001b[0m\n\u001b[0;32m    193\u001b[0m     _, exc_value, traceback \u001b[38;5;241m=\u001b[39m sys\u001b[38;5;241m.\u001b[39mexc_info()\n\u001b[0;32m    194\u001b[0m     shapes \u001b[38;5;241m=\u001b[39m \u001b[38;5;28mself\u001b[39m\u001b[38;5;241m.\u001b[39mformat_shapes(last_site\u001b[38;5;241m=\u001b[39msite[\u001b[38;5;124m\"\u001b[39m\u001b[38;5;124mname\u001b[39m\u001b[38;5;124m\"\u001b[39m])\n\u001b[1;32m--> 195\u001b[0m     \u001b[38;5;28;01mraise\u001b[39;00m \u001b[38;5;167;01mValueError\u001b[39;00m(\u001b[38;5;124m\"\u001b[39m\u001b[38;5;124mError while computing log_prob_sum at site \u001b[39m\u001b[38;5;124m'\u001b[39m\u001b[38;5;132;01m{}\u001b[39;00m\u001b[38;5;124m'\u001b[39m\u001b[38;5;124m:\u001b[39m\u001b[38;5;130;01m\\n\u001b[39;00m\u001b[38;5;132;01m{}\u001b[39;00m\u001b[38;5;130;01m\\n\u001b[39;00m\u001b[38;5;132;01m{}\u001b[39;00m\u001b[38;5;130;01m\\n\u001b[39;00m\u001b[38;5;124m\"\u001b[39m\n\u001b[0;32m    196\u001b[0m                      \u001b[38;5;241m.\u001b[39mformat(name, exc_value, shapes))\u001b[38;5;241m.\u001b[39mwith_traceback(traceback)\n\u001b[0;32m    197\u001b[0m log_p \u001b[38;5;241m=\u001b[39m scale_and_mask(log_p, site[\u001b[38;5;124m\"\u001b[39m\u001b[38;5;124mscale\u001b[39m\u001b[38;5;124m\"\u001b[39m], site[\u001b[38;5;124m\"\u001b[39m\u001b[38;5;124mmask\u001b[39m\u001b[38;5;124m\"\u001b[39m])\u001b[38;5;241m.\u001b[39msum()\n\u001b[0;32m    198\u001b[0m site[\u001b[38;5;124m\"\u001b[39m\u001b[38;5;124mlog_prob_sum\u001b[39m\u001b[38;5;124m\"\u001b[39m] \u001b[38;5;241m=\u001b[39m log_p\n",
      "File \u001b[1;32m~\\anaconda3\\envs\\torch\\lib\\site-packages\\pyro\\poutine\\trace_struct.py:191\u001b[0m, in \u001b[0;36mTrace.log_prob_sum\u001b[1;34m(self, site_filter)\u001b[0m\n\u001b[0;32m    189\u001b[0m \u001b[38;5;28;01melse\u001b[39;00m:\n\u001b[0;32m    190\u001b[0m     \u001b[38;5;28;01mtry\u001b[39;00m:\n\u001b[1;32m--> 191\u001b[0m         log_p \u001b[38;5;241m=\u001b[39m site[\u001b[38;5;124m\"\u001b[39m\u001b[38;5;124mfn\u001b[39m\u001b[38;5;124m\"\u001b[39m]\u001b[38;5;241m.\u001b[39mlog_prob(site[\u001b[38;5;124m\"\u001b[39m\u001b[38;5;124mvalue\u001b[39m\u001b[38;5;124m\"\u001b[39m], \u001b[38;5;241m*\u001b[39msite[\u001b[38;5;124m\"\u001b[39m\u001b[38;5;124margs\u001b[39m\u001b[38;5;124m\"\u001b[39m], \u001b[38;5;241m*\u001b[39m\u001b[38;5;241m*\u001b[39msite[\u001b[38;5;124m\"\u001b[39m\u001b[38;5;124mkwargs\u001b[39m\u001b[38;5;124m\"\u001b[39m])\n\u001b[0;32m    192\u001b[0m     \u001b[38;5;28;01mexcept\u001b[39;00m \u001b[38;5;167;01mValueError\u001b[39;00m:\n\u001b[0;32m    193\u001b[0m         _, exc_value, traceback \u001b[38;5;241m=\u001b[39m sys\u001b[38;5;241m.\u001b[39mexc_info()\n",
      "File \u001b[1;32m~\\anaconda3\\envs\\torch\\lib\\site-packages\\torch\\distributions\\independent.py:91\u001b[0m, in \u001b[0;36mIndependent.log_prob\u001b[1;34m(self, value)\u001b[0m\n\u001b[0;32m     90\u001b[0m \u001b[38;5;28;01mdef\u001b[39;00m \u001b[38;5;21mlog_prob\u001b[39m(\u001b[38;5;28mself\u001b[39m, value):\n\u001b[1;32m---> 91\u001b[0m     log_prob \u001b[38;5;241m=\u001b[39m \u001b[38;5;28;43mself\u001b[39;49m\u001b[38;5;241;43m.\u001b[39;49m\u001b[43mbase_dist\u001b[49m\u001b[38;5;241;43m.\u001b[39;49m\u001b[43mlog_prob\u001b[49m\u001b[43m(\u001b[49m\u001b[43mvalue\u001b[49m\u001b[43m)\u001b[49m\n\u001b[0;32m     92\u001b[0m     \u001b[38;5;28;01mreturn\u001b[39;00m _sum_rightmost(log_prob, \u001b[38;5;28mself\u001b[39m\u001b[38;5;241m.\u001b[39mreinterpreted_batch_ndims)\n",
      "File \u001b[1;32m~\\anaconda3\\envs\\torch\\lib\\site-packages\\torch\\distributions\\normal.py:73\u001b[0m, in \u001b[0;36mNormal.log_prob\u001b[1;34m(self, value)\u001b[0m\n\u001b[0;32m     71\u001b[0m \u001b[38;5;28;01mdef\u001b[39;00m \u001b[38;5;21mlog_prob\u001b[39m(\u001b[38;5;28mself\u001b[39m, value):\n\u001b[0;32m     72\u001b[0m     \u001b[38;5;28;01mif\u001b[39;00m \u001b[38;5;28mself\u001b[39m\u001b[38;5;241m.\u001b[39m_validate_args:\n\u001b[1;32m---> 73\u001b[0m         \u001b[38;5;28;43mself\u001b[39;49m\u001b[38;5;241;43m.\u001b[39;49m\u001b[43m_validate_sample\u001b[49m\u001b[43m(\u001b[49m\u001b[43mvalue\u001b[49m\u001b[43m)\u001b[49m\n\u001b[0;32m     74\u001b[0m     \u001b[38;5;66;03m# compute the variance\u001b[39;00m\n\u001b[0;32m     75\u001b[0m     var \u001b[38;5;241m=\u001b[39m (\u001b[38;5;28mself\u001b[39m\u001b[38;5;241m.\u001b[39mscale \u001b[38;5;241m*\u001b[39m\u001b[38;5;241m*\u001b[39m \u001b[38;5;241m2\u001b[39m)\n",
      "File \u001b[1;32m~\\anaconda3\\envs\\torch\\lib\\site-packages\\torch\\distributions\\distribution.py:286\u001b[0m, in \u001b[0;36mDistribution._validate_sample\u001b[1;34m(self, value)\u001b[0m\n\u001b[0;32m    284\u001b[0m valid \u001b[38;5;241m=\u001b[39m support\u001b[38;5;241m.\u001b[39mcheck(value)\n\u001b[0;32m    285\u001b[0m \u001b[38;5;28;01mif\u001b[39;00m \u001b[38;5;129;01mnot\u001b[39;00m valid\u001b[38;5;241m.\u001b[39mall():\n\u001b[1;32m--> 286\u001b[0m     \u001b[38;5;28;01mraise\u001b[39;00m \u001b[38;5;167;01mValueError\u001b[39;00m(\n\u001b[0;32m    287\u001b[0m         \u001b[38;5;124m\"\u001b[39m\u001b[38;5;124mExpected value argument \u001b[39m\u001b[38;5;124m\"\u001b[39m\n\u001b[0;32m    288\u001b[0m         \u001b[38;5;124mf\u001b[39m\u001b[38;5;124m\"\u001b[39m\u001b[38;5;124m(\u001b[39m\u001b[38;5;132;01m{\u001b[39;00m\u001b[38;5;28mtype\u001b[39m(value)\u001b[38;5;241m.\u001b[39m\u001b[38;5;18m__name__\u001b[39m\u001b[38;5;132;01m}\u001b[39;00m\u001b[38;5;124m of shape \u001b[39m\u001b[38;5;132;01m{\u001b[39;00m\u001b[38;5;28mtuple\u001b[39m(value\u001b[38;5;241m.\u001b[39mshape)\u001b[38;5;132;01m}\u001b[39;00m\u001b[38;5;124m) \u001b[39m\u001b[38;5;124m\"\u001b[39m\n\u001b[0;32m    289\u001b[0m         \u001b[38;5;124mf\u001b[39m\u001b[38;5;124m\"\u001b[39m\u001b[38;5;124mto be within the support (\u001b[39m\u001b[38;5;132;01m{\u001b[39;00m\u001b[38;5;28mrepr\u001b[39m(support)\u001b[38;5;132;01m}\u001b[39;00m\u001b[38;5;124m) \u001b[39m\u001b[38;5;124m\"\u001b[39m\n\u001b[0;32m    290\u001b[0m         \u001b[38;5;124mf\u001b[39m\u001b[38;5;124m\"\u001b[39m\u001b[38;5;124mof the distribution \u001b[39m\u001b[38;5;132;01m{\u001b[39;00m\u001b[38;5;28mrepr\u001b[39m(\u001b[38;5;28mself\u001b[39m)\u001b[38;5;132;01m}\u001b[39;00m\u001b[38;5;124m, \u001b[39m\u001b[38;5;124m\"\u001b[39m\n\u001b[0;32m    291\u001b[0m         \u001b[38;5;124mf\u001b[39m\u001b[38;5;124m\"\u001b[39m\u001b[38;5;124mbut found invalid values:\u001b[39m\u001b[38;5;130;01m\\n\u001b[39;00m\u001b[38;5;132;01m{\u001b[39;00mvalue\u001b[38;5;132;01m}\u001b[39;00m\u001b[38;5;124m\"\u001b[39m\n\u001b[0;32m    292\u001b[0m     )\n",
      "\u001b[1;31mValueError\u001b[0m: Error while computing log_prob_sum at site 'layer_0.weight':\nExpected value argument (Tensor of shape (100, 5)) to be within the support (Real()) of the distribution Normal(loc: torch.Size([100, 5]), scale: torch.Size([100, 5])), but found invalid values:\ntensor([[nan, nan, nan, nan, nan],\n        [nan, nan, nan, nan, nan],\n        [nan, nan, nan, nan, nan],\n        [nan, nan, nan, nan, nan],\n        [nan, nan, nan, nan, nan],\n        [nan, nan, nan, nan, nan],\n        [nan, nan, nan, nan, nan],\n        [nan, nan, nan, nan, nan],\n        [nan, nan, nan, nan, nan],\n        [nan, nan, nan, nan, nan],\n        [nan, nan, nan, nan, nan],\n        [nan, nan, nan, nan, nan],\n        [nan, nan, nan, nan, nan],\n        [nan, nan, nan, nan, nan],\n        [nan, nan, nan, nan, nan],\n        [nan, nan, nan, nan, nan],\n        [nan, nan, nan, nan, nan],\n        [nan, nan, nan, nan, nan],\n        [nan, nan, nan, nan, nan],\n        [nan, nan, nan, nan, nan],\n        [nan, nan, nan, nan, nan],\n        [nan, nan, nan, nan, nan],\n        [nan, nan, nan, nan, nan],\n        [nan, nan, nan, nan, nan],\n        [nan, nan, nan, nan, nan],\n        [nan, nan, nan, nan, nan],\n        [nan, nan, nan, nan, nan],\n        [nan, nan, nan, nan, nan],\n        [nan, nan, nan, nan, nan],\n        [nan, nan, nan, nan, nan],\n        [nan, nan, nan, nan, nan],\n        [nan, nan, nan, nan, nan],\n        [nan, nan, nan, nan, nan],\n        [nan, nan, nan, nan, nan],\n        [nan, nan, nan, nan, nan],\n        [nan, nan, nan, nan, nan],\n        [nan, nan, nan, nan, nan],\n        [nan, nan, nan, nan, nan],\n        [nan, nan, nan, nan, nan],\n        [nan, nan, nan, nan, nan],\n        [nan, nan, nan, nan, nan],\n        [nan, nan, nan, nan, nan],\n        [nan, nan, nan, nan, nan],\n        [nan, nan, nan, nan, nan],\n        [nan, nan, nan, nan, nan],\n        [nan, nan, nan, nan, nan],\n        [nan, nan, nan, nan, nan],\n        [nan, nan, nan, nan, nan],\n        [nan, nan, nan, nan, nan],\n        [nan, nan, nan, nan, nan],\n        [nan, nan, nan, nan, nan],\n        [nan, nan, nan, nan, nan],\n        [nan, nan, nan, nan, nan],\n        [nan, nan, nan, nan, nan],\n        [nan, nan, nan, nan, nan],\n        [nan, nan, nan, nan, nan],\n        [nan, nan, nan, nan, nan],\n        [nan, nan, nan, nan, nan],\n        [nan, nan, nan, nan, nan],\n        [nan, nan, nan, nan, nan],\n        [nan, nan, nan, nan, nan],\n        [nan, nan, nan, nan, nan],\n        [nan, nan, nan, nan, nan],\n        [nan, nan, nan, nan, nan],\n        [nan, nan, nan, nan, nan],\n        [nan, nan, nan, nan, nan],\n        [nan, nan, nan, nan, nan],\n        [nan, nan, nan, nan, nan],\n        [nan, nan, nan, nan, nan],\n        [nan, nan, nan, nan, nan],\n        [nan, nan, nan, nan, nan],\n        [nan, nan, nan, nan, nan],\n        [nan, nan, nan, nan, nan],\n        [nan, nan, nan, nan, nan],\n        [nan, nan, nan, nan, nan],\n        [nan, nan, nan, nan, nan],\n        [nan, nan, nan, nan, nan],\n        [nan, nan, nan, nan, nan],\n        [nan, nan, nan, nan, nan],\n        [nan, nan, nan, nan, nan],\n        [nan, nan, nan, nan, nan],\n        [nan, nan, nan, nan, nan],\n        [nan, nan, nan, nan, nan],\n        [nan, nan, nan, nan, nan],\n        [nan, nan, nan, nan, nan],\n        [nan, nan, nan, nan, nan],\n        [nan, nan, nan, nan, nan],\n        [nan, nan, nan, nan, nan],\n        [nan, nan, nan, nan, nan],\n        [nan, nan, nan, nan, nan],\n        [nan, nan, nan, nan, nan],\n        [nan, nan, nan, nan, nan],\n        [nan, nan, nan, nan, nan],\n        [nan, nan, nan, nan, nan],\n        [nan, nan, nan, nan, nan],\n        [nan, nan, nan, nan, nan],\n        [nan, nan, nan, nan, nan],\n        [nan, nan, nan, nan, nan],\n        [nan, nan, nan, nan, nan],\n        [nan, nan, nan, nan, nan]], device='cuda:0', requires_grad=True)\n      Trace Shapes:        \n       Param Sites:        \n      Sample Sites:        \nlayer_0.weight dist | 100 5\n              value | 100 5\n"
     ]
    }
   ],
   "source": [
    "# Model \n",
    "net = MLP(n_features, 1, [n_hidden_1, n_hidden_2], 'tanh').to(device)\n",
    "\n",
    "prior = tyxe.priors.IIDPrior(dist.Normal(\n",
    "        torch.tensor(0, device=device, dtype=torch.float),\n",
    "        torch.tensor(1, device=device, dtype=torch.float)))\n",
    "prior_name = \", IID prior\"\n",
    "likelihood = tyxe.likelihoods.HomoskedasticGaussian(len(X_train), scale=1e-2)\n",
    "likelihood_name = \", Homoskedastic Gaussian likelihood\"\n",
    "kernel = partial(pyro.infer.mcmc.HMC, step_size=1e-3, num_steps=20, target_accept_prob=0.7)\n",
    "kernel_name = \"HMC\"\n",
    "bnn = tyxe.bnn.MCMC_BNN(net, prior, likelihood, kernel)\n",
    "bnn.name = kernel_name + \", MCMC BNN\" + likelihood_name + prior_name\n",
    "\n",
    "# Fit\n",
    "pyro.clear_param_store()\n",
    "bnn.fit(train_loader, 1000, warmup_steps=500)"
   ]
  },
  {
   "cell_type": "markdown",
   "id": "a69c286b",
   "metadata": {},
   "source": [
    "### We evaluate the model on train, test and OOD data."
   ]
  },
  {
   "cell_type": "code",
   "execution_count": 18,
   "id": "a00c7ce3",
   "metadata": {
    "scrolled": true
   },
   "outputs": [
    {
     "name": "stdout",
     "output_type": "stream",
     "text": [
      "Train evaluation:\n",
      "Inference type: HMC, MCMC BNN, Homoskedastic Gaussian likelihood, IID prior\n",
      "Evaluated on: airfoil, Train data\n",
      "Number of posterior samples: 10000\n",
      "Average NLPD: -0.9001517\n",
      "SD of NLPD: 0.7879529\n",
      "Total NLPD: -864.14557\n",
      "Average loss: 0.0001516125\n",
      "Total loss: 0.1455480373\n",
      "Average standard deviation: 0.100996174\n",
      "\n",
      "Test evaluation:\n",
      "Inference type: HMC, MCMC BNN, Homoskedastic Gaussian likelihood, IID prior\n",
      "Evaluated on: airfoil, Test data\n",
      "Number of posterior samples: 10000\n",
      "Average NLPD: -0.8513045\n",
      "SD of NLPD: 0.8421962\n",
      "Total NLPD: -205.16437\n",
      "Average loss: 0.0001795184\n",
      "Total loss: 0.0432639401\n",
      "Average standard deviation: 0.10191046\n",
      "\n",
      "OOD evaluation:\n",
      "Inference type: HMC, MCMC BNN, Homoskedastic Gaussian likelihood, IID prior\n",
      "Evaluated on: airfoil, OOD data\n",
      "Number of posterior samples: 10000\n",
      "Average NLPD: 13.818812\n",
      "SD of NLPD: 67.7841\n",
      "Total NLPD: 4173.2812\n",
      "Average loss: 0.0158783523\n",
      "Total loss: 4.7952623963\n",
      "Average standard deviation: 0.12639904\n"
     ]
    }
   ],
   "source": [
    "posterior_samples = 10000\n",
    "\n",
    "# Train\n",
    "train_evaluation = evaluate_regr(bnn, train_loader, loss_function, posterior_samples=posterior_samples, rounded=10,\n",
    "                           dataset=\"airfoil, Train data\", device='cuda')\n",
    "test_evaluation = evaluate_regr(bnn, test_loader, loss_function, posterior_samples=posterior_samples, rounded=10,\n",
    "                           dataset=\"airfoil, Test data\", device='cuda')\n",
    "OOD_evaluation = evaluate_regr(bnn, OOD_loader, loss_function, posterior_samples=posterior_samples, rounded=10,\n",
    "                           dataset=\"airfoil, OOD data\", device='cuda')\n",
    "\n",
    "print(\"Train evaluation:\")\n",
    "for key,  value in train_evaluation.items():\n",
    "    print(key + str(\":\"), value)\n",
    "print(\"\\nTest evaluation:\")\n",
    "for key,  value in test_evaluation.items():\n",
    "    print(key + str(\":\"), value)\n",
    "print(\"\\nOOD evaluation:\")\n",
    "for key,  value in OOD_evaluation.items():\n",
    "    print(key + str(\":\"), value)"
   ]
  },
  {
   "cell_type": "markdown",
   "id": "4be4351a",
   "metadata": {},
   "source": [
    "### Variational inference\n"
   ]
  },
  {
   "cell_type": "code",
   "execution_count": 19,
   "id": "21c8be49",
   "metadata": {},
   "outputs": [],
   "source": [
    "# Only run this to select new domain split\n",
    "\n",
    "def reset():\n",
    "    # Data\n",
    "    dom_idx, OOD_idx = hyperplane_split(df.values, OOD_size=0.2, verbose=1)\n",
    "\n",
    "    # Minmax scaling for better network performace\n",
    "    scaler = MinMaxScaler()\n",
    "    D = df[dom_idx].values\n",
    "    D = scaler.fit_transform(D)\n",
    "\n",
    "    # Split in-domain data to data and labels\n",
    "    X, y = D[:,:-1], D[:,-1]\n",
    "\n",
    "    # Split to train/test\n",
    "    X_train, X_test, y_train, y_test = train_test_split(X, y, test_size=0.2)#, random_state=42)\n",
    "\n",
    "    # Separate OOD data\n",
    "    OOD = df[OOD_idx].values\n",
    "    OOD = scaler.transform(OOD)         # need to also transform it to be compatible with the NN.\n",
    "    X_OOD, y_OOD = OOD[:,:-1], OOD[:,-1]\n",
    "\n",
    "    # Split to train / test\n",
    "    X_train, X_test, y_train, y_test = train_test_split(X, y, test_size=0.2)#, random_state=42)\n",
    "\n",
    "    # Transformation required for regression problem\n",
    "    y_train = y_train.reshape(-1, 1)\n",
    "    y_test = y_test.reshape(-1, 1)\n",
    "    y_OOD = y_OOD.reshape(-1, 1)\n",
    "\n",
    "    # Tensor datasets\n",
    "    train_dataset = data_loaders.create_torch_dataset(X_train, y_train, to_LongTensor=False)\n",
    "    test_dataset = data_loaders.create_torch_dataset(X_test, y_test, to_LongTensor=False)\n",
    "    OOD_dataset = data_loaders.create_torch_dataset(X_OOD, y_OOD, to_LongTensor=False)\n",
    "\n",
    "    # Data loaders on gpu\n",
    "    train_loader = data_loaders.create_loader(train_dataset, batch_size_train, device)\n",
    "    test_loader = data_loaders.create_loader(test_dataset, batch_size_test, device)\n",
    "    OOD_loader = data_loaders.create_loader(OOD_dataset, batch_size_test, device)\n",
    "    \n",
    "    pass\n",
    "\n",
    "# reset()"
   ]
  },
  {
   "cell_type": "code",
   "execution_count": 12,
   "id": "9026c932",
   "metadata": {},
   "outputs": [],
   "source": [
    "train_size = len(X_train)\n",
    "test_size = len(X_test)\n",
    "\n",
    "# Model \n",
    "var_net = MLP(n_features, 1, [n_hidden_1, n_hidden_2], 'relu').to(device)\n",
    "prior = tyxe.priors.IIDPrior(\n",
    "    dist.Normal(\n",
    "        torch.tensor(0, device=device, dtype=torch.float),\n",
    "        torch.tensor(1, device=device, dtype=torch.float),\n",
    "    ),\n",
    ")\n",
    "prior_name = \", IID prior\"\n",
    "obs_model = tyxe.likelihoods.HomoskedasticGaussian(train_size, scale=0.1)\n",
    "likelihood_name = \", Homoskedastic Gaussian likelihood\"\n",
    "guide_builder = partial(tyxe.guides.AutoNormal, init_scale=0.01)\n",
    "guide_name = \"Mean field\"\n",
    "var_bnn = tyxe.VariationalBNN(var_net, prior, obs_model, guide_builder)\n",
    "var_bnn.name = guide_name + \" Variational BNN\" + likelihood_name + prior_name"
   ]
  },
  {
   "cell_type": "code",
   "execution_count": 11,
   "id": "8e54bd82",
   "metadata": {
    "scrolled": false
   },
   "outputs": [
    {
     "ename": "KeyboardInterrupt",
     "evalue": "",
     "output_type": "error",
     "traceback": [
      "\u001b[1;31m---------------------------------------------------------------------------\u001b[0m",
      "\u001b[1;31mKeyboardInterrupt\u001b[0m                         Traceback (most recent call last)",
      "Input \u001b[1;32mIn [11]\u001b[0m, in \u001b[0;36m<cell line: 27>\u001b[1;34m()\u001b[0m\n\u001b[0;32m     25\u001b[0m \u001b[38;5;28;01mdef\u001b[39;00m \u001b[38;5;21mcallback\u001b[39m(bnn, i, e):\n\u001b[0;32m     26\u001b[0m     elbos\u001b[38;5;241m.\u001b[39mappend(e)\n\u001b[1;32m---> 27\u001b[0m \u001b[43mvar_bnn\u001b[49m\u001b[38;5;241;43m.\u001b[39;49m\u001b[43mfit\u001b[49m\u001b[43m(\u001b[49m\u001b[43mtrain_loader\u001b[49m\u001b[43m,\u001b[49m\u001b[43m \u001b[49m\u001b[43moptim\u001b[49m\u001b[43m,\u001b[49m\u001b[43m \u001b[49m\u001b[43mn_epochs\u001b[49m\u001b[43m,\u001b[49m\u001b[43m \u001b[49m\u001b[43mcallback\u001b[49m\u001b[43m,\u001b[49m\u001b[43m \u001b[49m\u001b[43mdevice\u001b[49m\u001b[38;5;241;43m=\u001b[39;49m\u001b[43mdevice\u001b[49m\u001b[43m)\u001b[49m\n",
      "File \u001b[1;32mc:\\users\\administrator\\documents\\alex\\master\\internship\\github\\tyxe\\tyxe\\bnn.py:207\u001b[0m, in \u001b[0;36mVariationalBNN.fit\u001b[1;34m(self, data_loader, optim, num_epochs, callback, num_particles, closed_form_kl, device)\u001b[0m\n\u001b[0;32m    205\u001b[0m num_batch \u001b[38;5;241m=\u001b[39m \u001b[38;5;241m1\u001b[39m\n\u001b[0;32m    206\u001b[0m \u001b[38;5;28;01mfor\u001b[39;00m num_batch, (input_data, observation_data) \u001b[38;5;129;01min\u001b[39;00m \u001b[38;5;28menumerate\u001b[39m(\u001b[38;5;28miter\u001b[39m(data_loader), \u001b[38;5;241m1\u001b[39m):\n\u001b[1;32m--> 207\u001b[0m     elbo \u001b[38;5;241m+\u001b[39m\u001b[38;5;241m=\u001b[39m \u001b[43msvi\u001b[49m\u001b[38;5;241;43m.\u001b[39;49m\u001b[43mstep\u001b[49m\u001b[43m(\u001b[49m\u001b[38;5;28;43mtuple\u001b[39;49m\u001b[43m(\u001b[49m\u001b[43m_to\u001b[49m\u001b[43m(\u001b[49m\u001b[43minput_data\u001b[49m\u001b[43m,\u001b[49m\u001b[43m \u001b[49m\u001b[43mdevice\u001b[49m\u001b[43m)\u001b[49m\u001b[43m)\u001b[49m\u001b[43m,\u001b[49m\u001b[43m \u001b[49m\u001b[38;5;28;43mtuple\u001b[39;49m\u001b[43m(\u001b[49m\u001b[43m_to\u001b[49m\u001b[43m(\u001b[49m\u001b[43mobservation_data\u001b[49m\u001b[43m,\u001b[49m\u001b[43m \u001b[49m\u001b[43mdevice\u001b[49m\u001b[43m)\u001b[49m\u001b[43m)\u001b[49m\u001b[43m[\u001b[49m\u001b[38;5;241;43m0\u001b[39;49m\u001b[43m]\u001b[49m\u001b[43m)\u001b[49m\n\u001b[0;32m    209\u001b[0m \u001b[38;5;66;03m# the callback can stop training by returning True\u001b[39;00m\n\u001b[0;32m    210\u001b[0m \u001b[38;5;28;01mif\u001b[39;00m callback \u001b[38;5;129;01mis\u001b[39;00m \u001b[38;5;129;01mnot\u001b[39;00m \u001b[38;5;28;01mNone\u001b[39;00m \u001b[38;5;129;01mand\u001b[39;00m callback(\u001b[38;5;28mself\u001b[39m, i, elbo \u001b[38;5;241m/\u001b[39m num_batch):\n",
      "File \u001b[1;32m~\\anaconda3\\envs\\torch\\lib\\site-packages\\pyro\\infer\\svi.py:128\u001b[0m, in \u001b[0;36mSVI.step\u001b[1;34m(self, *args, **kwargs)\u001b[0m\n\u001b[0;32m    126\u001b[0m \u001b[38;5;66;03m# get loss and compute gradients\u001b[39;00m\n\u001b[0;32m    127\u001b[0m \u001b[38;5;28;01mwith\u001b[39;00m poutine\u001b[38;5;241m.\u001b[39mtrace(param_only\u001b[38;5;241m=\u001b[39m\u001b[38;5;28;01mTrue\u001b[39;00m) \u001b[38;5;28;01mas\u001b[39;00m param_capture:\n\u001b[1;32m--> 128\u001b[0m     loss \u001b[38;5;241m=\u001b[39m \u001b[38;5;28mself\u001b[39m\u001b[38;5;241m.\u001b[39mloss_and_grads(\u001b[38;5;28mself\u001b[39m\u001b[38;5;241m.\u001b[39mmodel, \u001b[38;5;28mself\u001b[39m\u001b[38;5;241m.\u001b[39mguide, \u001b[38;5;241m*\u001b[39margs, \u001b[38;5;241m*\u001b[39m\u001b[38;5;241m*\u001b[39mkwargs)\n\u001b[0;32m    130\u001b[0m params \u001b[38;5;241m=\u001b[39m \u001b[38;5;28mset\u001b[39m(site[\u001b[38;5;124m\"\u001b[39m\u001b[38;5;124mvalue\u001b[39m\u001b[38;5;124m\"\u001b[39m]\u001b[38;5;241m.\u001b[39munconstrained()\n\u001b[0;32m    131\u001b[0m              \u001b[38;5;28;01mfor\u001b[39;00m site \u001b[38;5;129;01min\u001b[39;00m param_capture\u001b[38;5;241m.\u001b[39mtrace\u001b[38;5;241m.\u001b[39mnodes\u001b[38;5;241m.\u001b[39mvalues())\n\u001b[0;32m    133\u001b[0m \u001b[38;5;66;03m# actually perform gradient steps\u001b[39;00m\n\u001b[0;32m    134\u001b[0m \u001b[38;5;66;03m# torch.optim objects gets instantiated for any params that haven't been seen yet\u001b[39;00m\n",
      "File \u001b[1;32m~\\anaconda3\\envs\\torch\\lib\\site-packages\\pyro\\infer\\trace_elbo.py:126\u001b[0m, in \u001b[0;36mTrace_ELBO.loss_and_grads\u001b[1;34m(self, model, guide, *args, **kwargs)\u001b[0m\n\u001b[0;32m    124\u001b[0m loss \u001b[38;5;241m=\u001b[39m \u001b[38;5;241m0.0\u001b[39m\n\u001b[0;32m    125\u001b[0m \u001b[38;5;66;03m# grab a trace from the generator\u001b[39;00m\n\u001b[1;32m--> 126\u001b[0m \u001b[38;5;28;01mfor\u001b[39;00m model_trace, guide_trace \u001b[38;5;129;01min\u001b[39;00m \u001b[38;5;28mself\u001b[39m\u001b[38;5;241m.\u001b[39m_get_traces(model, guide, args, kwargs):\n\u001b[0;32m    127\u001b[0m     loss_particle, surrogate_loss_particle \u001b[38;5;241m=\u001b[39m \u001b[38;5;28mself\u001b[39m\u001b[38;5;241m.\u001b[39m_differentiable_loss_particle(model_trace, guide_trace)\n\u001b[0;32m    128\u001b[0m     loss \u001b[38;5;241m+\u001b[39m\u001b[38;5;241m=\u001b[39m loss_particle \u001b[38;5;241m/\u001b[39m \u001b[38;5;28mself\u001b[39m\u001b[38;5;241m.\u001b[39mnum_particles\n",
      "File \u001b[1;32m~\\anaconda3\\envs\\torch\\lib\\site-packages\\pyro\\infer\\elbo.py:170\u001b[0m, in \u001b[0;36mELBO._get_traces\u001b[1;34m(self, model, guide, args, kwargs)\u001b[0m\n\u001b[0;32m    168\u001b[0m \u001b[38;5;28;01melse\u001b[39;00m:\n\u001b[0;32m    169\u001b[0m     \u001b[38;5;28;01mfor\u001b[39;00m i \u001b[38;5;129;01min\u001b[39;00m \u001b[38;5;28mrange\u001b[39m(\u001b[38;5;28mself\u001b[39m\u001b[38;5;241m.\u001b[39mnum_particles):\n\u001b[1;32m--> 170\u001b[0m         \u001b[38;5;28;01myield\u001b[39;00m \u001b[38;5;28;43mself\u001b[39;49m\u001b[38;5;241;43m.\u001b[39;49m\u001b[43m_get_trace\u001b[49m\u001b[43m(\u001b[49m\u001b[43mmodel\u001b[49m\u001b[43m,\u001b[49m\u001b[43m \u001b[49m\u001b[43mguide\u001b[49m\u001b[43m,\u001b[49m\u001b[43m \u001b[49m\u001b[43margs\u001b[49m\u001b[43m,\u001b[49m\u001b[43m \u001b[49m\u001b[43mkwargs\u001b[49m\u001b[43m)\u001b[49m\n",
      "File \u001b[1;32m~\\anaconda3\\envs\\torch\\lib\\site-packages\\pyro\\infer\\trace_mean_field_elbo.py:67\u001b[0m, in \u001b[0;36mTraceMeanField_ELBO._get_trace\u001b[1;34m(self, model, guide, args, kwargs)\u001b[0m\n\u001b[0;32m     66\u001b[0m \u001b[38;5;28;01mdef\u001b[39;00m \u001b[38;5;21m_get_trace\u001b[39m(\u001b[38;5;28mself\u001b[39m, model, guide, args, kwargs):\n\u001b[1;32m---> 67\u001b[0m     model_trace, guide_trace \u001b[38;5;241m=\u001b[39m \u001b[38;5;28;43msuper\u001b[39;49m\u001b[43m(\u001b[49m\u001b[43m)\u001b[49m\u001b[38;5;241;43m.\u001b[39;49m\u001b[43m_get_trace\u001b[49m\u001b[43m(\u001b[49m\n\u001b[0;32m     68\u001b[0m \u001b[43m        \u001b[49m\u001b[43mmodel\u001b[49m\u001b[43m,\u001b[49m\u001b[43m \u001b[49m\u001b[43mguide\u001b[49m\u001b[43m,\u001b[49m\u001b[43m \u001b[49m\u001b[43margs\u001b[49m\u001b[43m,\u001b[49m\u001b[43m \u001b[49m\u001b[43mkwargs\u001b[49m\u001b[43m)\u001b[49m\n\u001b[0;32m     69\u001b[0m     \u001b[38;5;28;01mif\u001b[39;00m is_validation_enabled():\n\u001b[0;32m     70\u001b[0m         _check_mean_field_requirement(model_trace, guide_trace)\n",
      "File \u001b[1;32m~\\anaconda3\\envs\\torch\\lib\\site-packages\\pyro\\infer\\trace_elbo.py:52\u001b[0m, in \u001b[0;36mTrace_ELBO._get_trace\u001b[1;34m(self, model, guide, args, kwargs)\u001b[0m\n\u001b[0;32m     47\u001b[0m \u001b[38;5;28;01mdef\u001b[39;00m \u001b[38;5;21m_get_trace\u001b[39m(\u001b[38;5;28mself\u001b[39m, model, guide, args, kwargs):\n\u001b[0;32m     48\u001b[0m     \u001b[38;5;124;03m\"\"\"\u001b[39;00m\n\u001b[0;32m     49\u001b[0m \u001b[38;5;124;03m    Returns a single trace from the guide, and the model that is run\u001b[39;00m\n\u001b[0;32m     50\u001b[0m \u001b[38;5;124;03m    against it.\u001b[39;00m\n\u001b[0;32m     51\u001b[0m \u001b[38;5;124;03m    \"\"\"\u001b[39;00m\n\u001b[1;32m---> 52\u001b[0m     model_trace, guide_trace \u001b[38;5;241m=\u001b[39m \u001b[43mget_importance_trace\u001b[49m\u001b[43m(\u001b[49m\n\u001b[0;32m     53\u001b[0m \u001b[43m        \u001b[49m\u001b[38;5;124;43m\"\u001b[39;49m\u001b[38;5;124;43mflat\u001b[39;49m\u001b[38;5;124;43m\"\u001b[39;49m\u001b[43m,\u001b[49m\u001b[43m \u001b[49m\u001b[38;5;28;43mself\u001b[39;49m\u001b[38;5;241;43m.\u001b[39;49m\u001b[43mmax_plate_nesting\u001b[49m\u001b[43m,\u001b[49m\u001b[43m \u001b[49m\u001b[43mmodel\u001b[49m\u001b[43m,\u001b[49m\u001b[43m \u001b[49m\u001b[43mguide\u001b[49m\u001b[43m,\u001b[49m\u001b[43m \u001b[49m\u001b[43margs\u001b[49m\u001b[43m,\u001b[49m\u001b[43m \u001b[49m\u001b[43mkwargs\u001b[49m\u001b[43m)\u001b[49m\n\u001b[0;32m     54\u001b[0m     \u001b[38;5;28;01mif\u001b[39;00m is_validation_enabled():\n\u001b[0;32m     55\u001b[0m         check_if_enumerated(guide_trace)\n",
      "File \u001b[1;32m~\\anaconda3\\envs\\torch\\lib\\site-packages\\pyro\\infer\\enum.py:55\u001b[0m, in \u001b[0;36mget_importance_trace\u001b[1;34m(graph_type, max_plate_nesting, model, guide, args, kwargs, detach)\u001b[0m\n\u001b[0;32m     52\u001b[0m guide_trace \u001b[38;5;241m=\u001b[39m prune_subsample_sites(guide_trace)\n\u001b[0;32m     53\u001b[0m model_trace \u001b[38;5;241m=\u001b[39m prune_subsample_sites(model_trace)\n\u001b[1;32m---> 55\u001b[0m \u001b[43mmodel_trace\u001b[49m\u001b[38;5;241;43m.\u001b[39;49m\u001b[43mcompute_log_prob\u001b[49m\u001b[43m(\u001b[49m\u001b[43m)\u001b[49m\n\u001b[0;32m     56\u001b[0m guide_trace\u001b[38;5;241m.\u001b[39mcompute_score_parts()\n\u001b[0;32m     57\u001b[0m \u001b[38;5;28;01mif\u001b[39;00m is_validation_enabled():\n",
      "File \u001b[1;32m~\\anaconda3\\envs\\torch\\lib\\site-packages\\pyro\\poutine\\trace_struct.py:216\u001b[0m, in \u001b[0;36mTrace.compute_log_prob\u001b[1;34m(self, site_filter)\u001b[0m\n\u001b[0;32m    214\u001b[0m \u001b[38;5;28;01mif\u001b[39;00m \u001b[38;5;124m\"\u001b[39m\u001b[38;5;124mlog_prob\u001b[39m\u001b[38;5;124m\"\u001b[39m \u001b[38;5;129;01mnot\u001b[39;00m \u001b[38;5;129;01min\u001b[39;00m site:\n\u001b[0;32m    215\u001b[0m     \u001b[38;5;28;01mtry\u001b[39;00m:\n\u001b[1;32m--> 216\u001b[0m         log_p \u001b[38;5;241m=\u001b[39m site[\u001b[38;5;124m\"\u001b[39m\u001b[38;5;124mfn\u001b[39m\u001b[38;5;124m\"\u001b[39m]\u001b[38;5;241m.\u001b[39mlog_prob(site[\u001b[38;5;124m\"\u001b[39m\u001b[38;5;124mvalue\u001b[39m\u001b[38;5;124m\"\u001b[39m], \u001b[38;5;241m*\u001b[39msite[\u001b[38;5;124m\"\u001b[39m\u001b[38;5;124margs\u001b[39m\u001b[38;5;124m\"\u001b[39m], \u001b[38;5;241m*\u001b[39m\u001b[38;5;241m*\u001b[39msite[\u001b[38;5;124m\"\u001b[39m\u001b[38;5;124mkwargs\u001b[39m\u001b[38;5;124m\"\u001b[39m])\n\u001b[0;32m    217\u001b[0m     \u001b[38;5;28;01mexcept\u001b[39;00m \u001b[38;5;167;01mValueError\u001b[39;00m:\n\u001b[0;32m    218\u001b[0m         _, exc_value, traceback \u001b[38;5;241m=\u001b[39m sys\u001b[38;5;241m.\u001b[39mexc_info()\n",
      "File \u001b[1;32m~\\anaconda3\\envs\\torch\\lib\\site-packages\\torch\\distributions\\independent.py:91\u001b[0m, in \u001b[0;36mIndependent.log_prob\u001b[1;34m(self, value)\u001b[0m\n\u001b[0;32m     90\u001b[0m \u001b[38;5;28;01mdef\u001b[39;00m \u001b[38;5;21mlog_prob\u001b[39m(\u001b[38;5;28mself\u001b[39m, value):\n\u001b[1;32m---> 91\u001b[0m     log_prob \u001b[38;5;241m=\u001b[39m \u001b[38;5;28;43mself\u001b[39;49m\u001b[38;5;241;43m.\u001b[39;49m\u001b[43mbase_dist\u001b[49m\u001b[38;5;241;43m.\u001b[39;49m\u001b[43mlog_prob\u001b[49m\u001b[43m(\u001b[49m\u001b[43mvalue\u001b[49m\u001b[43m)\u001b[49m\n\u001b[0;32m     92\u001b[0m     \u001b[38;5;28;01mreturn\u001b[39;00m _sum_rightmost(log_prob, \u001b[38;5;28mself\u001b[39m\u001b[38;5;241m.\u001b[39mreinterpreted_batch_ndims)\n",
      "File \u001b[1;32m~\\anaconda3\\envs\\torch\\lib\\site-packages\\torch\\distributions\\normal.py:73\u001b[0m, in \u001b[0;36mNormal.log_prob\u001b[1;34m(self, value)\u001b[0m\n\u001b[0;32m     71\u001b[0m \u001b[38;5;28;01mdef\u001b[39;00m \u001b[38;5;21mlog_prob\u001b[39m(\u001b[38;5;28mself\u001b[39m, value):\n\u001b[0;32m     72\u001b[0m     \u001b[38;5;28;01mif\u001b[39;00m \u001b[38;5;28mself\u001b[39m\u001b[38;5;241m.\u001b[39m_validate_args:\n\u001b[1;32m---> 73\u001b[0m         \u001b[38;5;28;43mself\u001b[39;49m\u001b[38;5;241;43m.\u001b[39;49m\u001b[43m_validate_sample\u001b[49m\u001b[43m(\u001b[49m\u001b[43mvalue\u001b[49m\u001b[43m)\u001b[49m\n\u001b[0;32m     74\u001b[0m     \u001b[38;5;66;03m# compute the variance\u001b[39;00m\n\u001b[0;32m     75\u001b[0m     var \u001b[38;5;241m=\u001b[39m (\u001b[38;5;28mself\u001b[39m\u001b[38;5;241m.\u001b[39mscale \u001b[38;5;241m*\u001b[39m\u001b[38;5;241m*\u001b[39m \u001b[38;5;241m2\u001b[39m)\n",
      "File \u001b[1;32m~\\anaconda3\\envs\\torch\\lib\\site-packages\\torch\\distributions\\distribution.py:285\u001b[0m, in \u001b[0;36mDistribution._validate_sample\u001b[1;34m(self, value)\u001b[0m\n\u001b[0;32m    283\u001b[0m \u001b[38;5;28;01massert\u001b[39;00m support \u001b[38;5;129;01mis\u001b[39;00m \u001b[38;5;129;01mnot\u001b[39;00m \u001b[38;5;28;01mNone\u001b[39;00m\n\u001b[0;32m    284\u001b[0m valid \u001b[38;5;241m=\u001b[39m support\u001b[38;5;241m.\u001b[39mcheck(value)\n\u001b[1;32m--> 285\u001b[0m \u001b[38;5;28;01mif\u001b[39;00m \u001b[38;5;129;01mnot\u001b[39;00m valid\u001b[38;5;241m.\u001b[39mall():\n\u001b[0;32m    286\u001b[0m     \u001b[38;5;28;01mraise\u001b[39;00m \u001b[38;5;167;01mValueError\u001b[39;00m(\n\u001b[0;32m    287\u001b[0m         \u001b[38;5;124m\"\u001b[39m\u001b[38;5;124mExpected value argument \u001b[39m\u001b[38;5;124m\"\u001b[39m\n\u001b[0;32m    288\u001b[0m         \u001b[38;5;124mf\u001b[39m\u001b[38;5;124m\"\u001b[39m\u001b[38;5;124m(\u001b[39m\u001b[38;5;132;01m{\u001b[39;00m\u001b[38;5;28mtype\u001b[39m(value)\u001b[38;5;241m.\u001b[39m\u001b[38;5;18m__name__\u001b[39m\u001b[38;5;132;01m}\u001b[39;00m\u001b[38;5;124m of shape \u001b[39m\u001b[38;5;132;01m{\u001b[39;00m\u001b[38;5;28mtuple\u001b[39m(value\u001b[38;5;241m.\u001b[39mshape)\u001b[38;5;132;01m}\u001b[39;00m\u001b[38;5;124m) \u001b[39m\u001b[38;5;124m\"\u001b[39m\n\u001b[1;32m   (...)\u001b[0m\n\u001b[0;32m    291\u001b[0m         \u001b[38;5;124mf\u001b[39m\u001b[38;5;124m\"\u001b[39m\u001b[38;5;124mbut found invalid values:\u001b[39m\u001b[38;5;130;01m\\n\u001b[39;00m\u001b[38;5;132;01m{\u001b[39;00mvalue\u001b[38;5;132;01m}\u001b[39;00m\u001b[38;5;124m\"\u001b[39m\n\u001b[0;32m    292\u001b[0m     )\n",
      "\u001b[1;31mKeyboardInterrupt\u001b[0m: "
     ]
    }
   ],
   "source": [
    "# Fit\n",
    "n_epochs = 30\n",
    "pyro.clear_param_store()\n",
    "optim = pyro.optim.Adam({\"lr\": 1e-3})\n",
    "elbos = []    \n",
    "def callback(bnn, i, e):\n",
    "    elbos.append(e)\n",
    "var_bnn.fit(train_loader, optim, n_epochs, callback, device=device)"
   ]
  },
  {
   "cell_type": "code",
   "execution_count": 24,
   "id": "0cf4d72c",
   "metadata": {},
   "outputs": [
    {
     "name": "stdout",
     "output_type": "stream",
     "text": [
      "Train evaluation:\n",
      "Inference type: Mean field Variational BNN, Categorical likelihood, IID prior\n",
      "Evaluated on: airfoil, Train data\n",
      "Number of posterior samples: 500\n",
      "Average NLPD: -1.0756485\n",
      "SD of NLPD: 0.287691\n",
      "Total NLPD: -1032.6226\n",
      "Average loss: 7.12993e-05\n",
      "Total loss: 0.0684473405\n",
      "Average standard deviation: 0.114498064\n",
      "\n",
      "Test evaluation:\n",
      "Inference type: Mean field Variational BNN, Categorical likelihood, IID prior\n",
      "Evaluated on: airfoil, Test data\n",
      "Number of posterior samples: 500\n",
      "Average NLPD: -1.0624819\n",
      "SD of NLPD: 0.26488808\n",
      "Total NLPD: -256.0581\n",
      "Average loss: 7.75138e-05\n",
      "Total loss: 0.0186808212\n",
      "Average standard deviation: 0.11554735\n",
      "\n",
      "OOD evaluation:\n",
      "Inference type: Mean field Variational BNN, Categorical likelihood, IID prior\n",
      "Evaluated on: airfoil, OOD data\n",
      "Number of posterior samples: 500\n",
      "Average NLPD: 0.09301762\n",
      "SD of NLPD: 1.6284838\n",
      "Total NLPD: 28.091322\n",
      "Average loss: 0.0006474491\n",
      "Total loss: 0.1955296285\n",
      "Average standard deviation: 0.12137825\n"
     ]
    }
   ],
   "source": [
    "posterior_samples = 500\n",
    "\n",
    "# Train\n",
    "train_evaluation = evaluate_regr(var_bnn, train_loader, loss_function, posterior_samples=posterior_samples, rounded=10,\n",
    "                           dataset=\"airfoil, Train data\", device=device)\n",
    "test_evaluation = evaluate_regr(var_bnn, test_loader, loss_function, posterior_samples=posterior_samples, rounded=10,\n",
    "                           dataset=\"airfoil, Test data\", device=device)\n",
    "OOD_evaluation = evaluate_regr(var_bnn, OOD_loader, loss_function, posterior_samples=posterior_samples, rounded=10,\n",
    "                           dataset=\"airfoil, OOD data\", device=device)\n",
    "\n",
    "print(\"Train evaluation:\")\n",
    "for key,  value in train_evaluation.items():\n",
    "    print(key + str(\":\"), value)\n",
    "print(\"\\nTest evaluation:\")\n",
    "for key,  value in test_evaluation.items():\n",
    "    print(key + str(\":\"), value)\n",
    "print(\"\\nOOD evaluation:\")\n",
    "for key,  value in OOD_evaluation.items():\n",
    "    print(key + str(\":\"), value)"
   ]
  },
  {
   "cell_type": "markdown",
   "id": "0cf5d1dd",
   "metadata": {},
   "source": [
    "# Draft below"
   ]
  },
  {
   "cell_type": "code",
   "execution_count": 25,
   "id": "13951e88",
   "metadata": {},
   "outputs": [
    {
     "data": {
      "text/plain": [
       "(tensor(0., device='cuda:0'), tensor(416.4776, device='cuda:0'))"
      ]
     },
     "execution_count": 25,
     "metadata": {},
     "output_type": "execute_result"
    }
   ],
   "source": [
    "X_ood, y_ood = data_loaders.separate_torch_dataset(OOD_dataset, device=device)\n",
    "\n",
    "var_bnn.evaluate(X_ood, y_ood, posterior_samples, reduction='mean')"
   ]
  },
  {
   "cell_type": "markdown",
   "id": "de473408",
   "metadata": {},
   "source": [
    "In the case of **Homoskedastic Gaussian** likelihood:\n",
    "\n",
    "Instead of calculating the likelihood for each test point\n",
    "$$ p(y_{test} | x_{test}, \\theta_t) = N ( f_{\\theta} (x_{test}), sd) $$\n",
    "and then doing Bayesian model averaging\n",
    "$$ p ( y_{test} | x_{test}, \\theta) = \\frac{1}{T} \\sum_t p(y_{test} | x_{test}, \\theta_t), \\ \\ \\ \\ \\theta_t \\sim p(\\theta | x,y) \\ \\ \\ \\ \\ \\text{(average over posterior samples)}$$\n",
    "to then calculate the NLPD\n",
    "$$ NLPD = -\\frac{1}{N} \\sum_i \\log p(y_i | x_i, \\theta), \\ \\ \\ \\ \\ \\text{(average over data)}$$\n",
    "\n",
    "could we split the data into batches and calculate an average prediction for each batch B:\n",
    "$$ \\bar{y}_{\\text{B}} = \\frac{1}{|\\text{B}|} \\sum_{x \\in \\text{B}} f_{\\theta}(x), \\ \\ \\ \\ \\ \\text{B=batch} $$\n",
    "and then compare against that average value?\n",
    "\n",
    "That is, for each $(x_{test}, y_{test})$ in batch B, calculate:\n",
    "$$ p( y_{test} | x_{test}, \\theta) = \\mathcal{N}( \\bar{y}_{\\text{B}}, \\sigma \\text{*}), $$\n",
    "and then calculate the NLPD as before\n",
    "$$ NLPD = -\\frac{1}{N} \\sum_i \\log p(y_{test} | x_{test}, \\theta). $$\n",
    "\n",
    "\n",
    "\\*where $\\sigma$ is the common posterior sd (due to HG assumption)"
   ]
  },
  {
   "cell_type": "code",
   "execution_count": null,
   "id": "3582b9cd",
   "metadata": {},
   "outputs": [],
   "source": []
  },
  {
   "cell_type": "markdown",
   "id": "78f0f5e5",
   "metadata": {},
   "source": [
    "### you are here"
   ]
  },
  {
   "cell_type": "code",
   "execution_count": 16,
   "id": "824d49f6",
   "metadata": {},
   "outputs": [
    {
     "data": {
      "text/plain": [
       "tensor(14.1355, device='cuda:0')"
      ]
     },
     "execution_count": 16,
     "metadata": {},
     "output_type": "execute_result"
    }
   ],
   "source": [
    "posterior_samples = 32\n",
    "\n",
    "nllh = torch.empty(0, device='cuda')\n",
    "for X, target in test_loader:\n",
    "    \n",
    "    pred_mean, pred_sd = bnn.predict(X, num_predictions=posterior_samples)\n",
    "    \n",
    "    nllh_batch = -1 * norm(pred_mean, pred_sd).log_prob(target)\n",
    "    nllh = torch.cat((nllh, nllh_batch))\n",
    "    \n",
    "nlpd = nllh.mean()\n",
    "nlpd"
   ]
  },
  {
   "cell_type": "code",
   "execution_count": 115,
   "id": "659da694",
   "metadata": {},
   "outputs": [
    {
     "data": {
      "text/plain": [
       "(tensor(1.0815, device='cuda:0'),\n",
       " tensor(0.1093, device='cuda:0'),\n",
       " tensor(1038.2397, device='cuda:0'))"
      ]
     },
     "execution_count": 115,
     "metadata": {},
     "output_type": "execute_result"
    }
   ],
   "source": [
    "NLPD(bnn, train_loader, 1000)\n",
    "    "
   ]
  },
  {
   "cell_type": "code",
   "execution_count": 33,
   "id": "bdfcd8d9",
   "metadata": {},
   "outputs": [],
   "source": [
    "def NLPD_2(\n",
    "    model, \n",
    "    loader, \n",
    "    posterior_samples, \n",
    "    likelihood = \"Homoskedastic Gaussian\",   # TODO: obtain this from model, implement other likelihoods\n",
    "    device='cuda',\n",
    "    verbose=0,\n",
    "    ):\n",
    "    \"\"\"\n",
    "    Calculate mean, sd and total NLPD for regression model.\n",
    "    Used inside evaluate_regr().\n",
    "    \"\"\"\n",
    "    \n",
    "    if likelihood == \"Homoskedastic Gaussian\":\n",
    "        sd = util.posterior_sd(model)\n",
    "    else:\n",
    "        raise(\"This type of likelihood is not impleneted yet.\")\n",
    "        \n",
    "    # torch tensor with number of posterior samples\n",
    "    T = torch.tensor(posterior_samples)\n",
    "    \n",
    "    NLPD = torch.empty(0, device='cuda')\n",
    "    with torch.no_grad():\n",
    "        for data, target in loader:\n",
    "            # pred is a matrix with dimensions (posterior_samples, batch_size, 1)\n",
    "            pred = model.predict(data, num_predictions=posterior_samples, aggregate=False)\n",
    "            \n",
    "            # warning: heavily vectorized operations ahead!\n",
    "            if likelihood == \"Homoskedastic Gaussian\":\n",
    "                # we transpose pred matrix and vanish the 3rd dimension (it's just 1)\n",
    "                # resulting matrix is of dimension (batch_size, posterior_samples)\n",
    "                log_p = norm(pred[:, :, -1].T, sd).log_prob(target)\n",
    "            else:\n",
    "                raise(\"This type of likelihood is not impleneted yet.\")\n",
    "            \n",
    "            # calculate NLPD\n",
    "            # log_p is now a matrix, we calculate logsumexp along axis=1\n",
    "            nlpd = -( torch.logsumexp(log_p, 1) - T.log() )\n",
    "            NLPD = torch.cat((NLPD, nlpd))\n",
    "\n",
    "    avg_NLPD = NLPD.mean()\n",
    "    sd_NLPD = NLPD.std()\n",
    "    total_NLPD = NLPD.sum()\n",
    "    \n",
    "    if verbose==1:\n",
    "        print(\"Average NLPD =\", avg_NLPD.cpu().detach().numpy())\n",
    "        print(\"SD of NLPD =\", sd_NLPD.cpu().detach().numpy())\n",
    "        print(\"Total NLPD =\", total_NLPD.cpu().detach().numpy())\n",
    "    \n",
    "    return avg_NLPD, sd_NLPD, total_NLPD"
   ]
  },
  {
   "cell_type": "code",
   "execution_count": null,
   "id": "ada20367",
   "metadata": {},
   "outputs": [],
   "source": [
    "T = number of posterior samples\n",
    "B = batch size\n",
    "\n",
    "nlpd = torch.empty(0, device='cuda')\n",
    "for X, target in loader:\n",
    "    \n",
    "    # pred is a matrix of dimensions (T, B, 1)\n",
    "    pred_mean = bnn.predict(X, num_predictions=posterior_samples, aggregate=False)\n",
    "    \n",
    "    # transpose pred matrix and vanish the 3rd \"fake\" dimension\n",
    "    # resulting matrix is of dimension BxT\n",
    "    pred = pred[:, :, -1].T\n",
    "    \n",
    "    # Homoskedastic Gaussian likelihood implies all parameters have a common shared posterior variance\n",
    "    sd = posterior_sd(bnn)      # flatten all parameters from all posterior samples and calculate the common sd\n",
    "    \n",
    "    # Calculate negative log likelihoods (or \"log probabilities\")\n",
    "    # nllh is a matrix of dimension BxT\n",
    "    # (nllh)_ij is the log likelihood of target_i conditioned on output of \"posterior\" network j with input X_i and the common sd\n",
    "    nllh = -1 * norm(pred, sd).log_prob(target)     # heavily vectorized pytorch magic\n",
    "    \n",
    "    # calculate NLPD\n",
    "    # logsumexp is calculated along axis 1 (one resulting value for each data point)\n",
    "    # result is of dimension Bx1\n",
    "    nlpd_batch = torch.logsumexp(log_p, 1) - T.log()     \n",
    "    \n",
    "    nlpd = torch.cat((nlpd, nlpd_batch))\n",
    "    \n",
    "avg_nlpd = nlpd.mean()"
   ]
  },
  {
   "cell_type": "code",
   "execution_count": null,
   "id": "26b44757",
   "metadata": {},
   "outputs": [],
   "source": [
    "# Below is empty space, to allow github scrolling at the bottom"
   ]
  },
  {
   "cell_type": "code",
   "execution_count": null,
   "id": "257c9153",
   "metadata": {},
   "outputs": [],
   "source": []
  },
  {
   "cell_type": "code",
   "execution_count": null,
   "id": "e8f95a38",
   "metadata": {},
   "outputs": [],
   "source": []
  },
  {
   "cell_type": "code",
   "execution_count": null,
   "id": "78fe486d",
   "metadata": {},
   "outputs": [],
   "source": []
  },
  {
   "cell_type": "code",
   "execution_count": null,
   "id": "c48f315e",
   "metadata": {},
   "outputs": [],
   "source": []
  },
  {
   "cell_type": "code",
   "execution_count": null,
   "id": "a4cef161",
   "metadata": {},
   "outputs": [],
   "source": []
  },
  {
   "cell_type": "code",
   "execution_count": null,
   "id": "52b765e4",
   "metadata": {},
   "outputs": [],
   "source": []
  },
  {
   "cell_type": "code",
   "execution_count": null,
   "id": "b98b3629",
   "metadata": {},
   "outputs": [],
   "source": []
  },
  {
   "cell_type": "code",
   "execution_count": null,
   "id": "7652adfc",
   "metadata": {},
   "outputs": [],
   "source": []
  },
  {
   "cell_type": "code",
   "execution_count": null,
   "id": "a2848dc4",
   "metadata": {},
   "outputs": [],
   "source": []
  },
  {
   "cell_type": "code",
   "execution_count": null,
   "id": "ae1f53d0",
   "metadata": {},
   "outputs": [],
   "source": []
  },
  {
   "cell_type": "code",
   "execution_count": null,
   "id": "4f4c98ea",
   "metadata": {},
   "outputs": [],
   "source": []
  },
  {
   "cell_type": "code",
   "execution_count": null,
   "id": "7a90cc6c",
   "metadata": {},
   "outputs": [],
   "source": []
  },
  {
   "cell_type": "code",
   "execution_count": null,
   "id": "a64c0798",
   "metadata": {},
   "outputs": [],
   "source": []
  },
  {
   "cell_type": "code",
   "execution_count": null,
   "id": "38a29235",
   "metadata": {},
   "outputs": [],
   "source": []
  },
  {
   "cell_type": "code",
   "execution_count": null,
   "id": "2fadaa1c",
   "metadata": {},
   "outputs": [],
   "source": []
  },
  {
   "cell_type": "code",
   "execution_count": null,
   "id": "06ee18a5",
   "metadata": {},
   "outputs": [],
   "source": []
  },
  {
   "cell_type": "code",
   "execution_count": null,
   "id": "996484bc",
   "metadata": {},
   "outputs": [],
   "source": []
  },
  {
   "cell_type": "code",
   "execution_count": null,
   "id": "46025de8",
   "metadata": {},
   "outputs": [],
   "source": []
  },
  {
   "cell_type": "code",
   "execution_count": null,
   "id": "3b3c1428",
   "metadata": {},
   "outputs": [],
   "source": []
  },
  {
   "cell_type": "code",
   "execution_count": null,
   "id": "a7a10d72",
   "metadata": {},
   "outputs": [],
   "source": []
  },
  {
   "cell_type": "code",
   "execution_count": null,
   "id": "11c5b1de",
   "metadata": {},
   "outputs": [],
   "source": []
  },
  {
   "cell_type": "code",
   "execution_count": null,
   "id": "cf3123e7",
   "metadata": {},
   "outputs": [],
   "source": []
  },
  {
   "cell_type": "code",
   "execution_count": null,
   "id": "514e845c",
   "metadata": {},
   "outputs": [],
   "source": []
  },
  {
   "cell_type": "code",
   "execution_count": null,
   "id": "0b563fa3",
   "metadata": {},
   "outputs": [],
   "source": []
  }
 ],
 "metadata": {
  "kernelspec": {
   "display_name": "Python 3 (ipykernel)",
   "language": "python",
   "name": "python3"
  },
  "language_info": {
   "codemirror_mode": {
    "name": "ipython",
    "version": 3
   },
   "file_extension": ".py",
   "mimetype": "text/x-python",
   "name": "python",
   "nbconvert_exporter": "python",
   "pygments_lexer": "ipython3",
   "version": "3.9.12"
  }
 },
 "nbformat": 4,
 "nbformat_minor": 5
}
