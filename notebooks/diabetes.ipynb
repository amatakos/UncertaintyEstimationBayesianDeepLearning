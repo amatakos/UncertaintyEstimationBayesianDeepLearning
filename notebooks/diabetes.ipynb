{
 "cells": [
  {
   "cell_type": "markdown",
   "id": "87cff8e1",
   "metadata": {},
   "source": [
    "### Imports"
   ]
  },
  {
   "cell_type": "code",
   "execution_count": 1,
   "id": "e223908d",
   "metadata": {},
   "outputs": [],
   "source": [
    "import os\n",
    "os.chdir(\"..\")\n",
    "\n",
    "from functools import partial\n",
    "\n",
    "from src import evaluate\n",
    "import utils\n",
    "from utils import data_loaders\n",
    "from src.train_test import fit_class\n",
    "from src.train_test import test_class\n",
    "from src import model\n",
    "\n",
    "import pandas as pd\n",
    "import numpy as np\n",
    "import numpy.random as npr\n",
    "import matplotlib.pyplot as plt\n",
    "from sklearn.model_selection import train_test_split\n",
    "from sklearn.model_selection import KFold\n",
    "from sklearn.preprocessing import MinMaxScaler\n",
    "import torch\n",
    "import torch.nn as nn\n",
    "import torch.nn.functional as F\n",
    "import torch.optim as optim\n",
    "from torch.utils.data import TensorDataset\n",
    "import torchmetrics as tm\n",
    "import pyro\n",
    "import pyro.distributions as dist\n",
    "import tyxe\n",
    "from utils.domain_split import hyperplane_split\n",
    "from utils.domain_split import hypersphere_split\n",
    "#npr.seed(42)\n",
    "#torch.manual_seed(42)\n",
    "\n",
    "device = torch.device('cuda' if torch.cuda.is_available() else 'cpu')"
   ]
  },
  {
   "cell_type": "markdown",
   "id": "4fafe961",
   "metadata": {},
   "source": [
    "### Read diabetes data"
   ]
  },
  {
   "cell_type": "code",
   "execution_count": 2,
   "id": "6827561d",
   "metadata": {
    "scrolled": true
   },
   "outputs": [
    {
     "data": {
      "text/html": [
       "<div>\n",
       "<style scoped>\n",
       "    .dataframe tbody tr th:only-of-type {\n",
       "        vertical-align: middle;\n",
       "    }\n",
       "\n",
       "    .dataframe tbody tr th {\n",
       "        vertical-align: top;\n",
       "    }\n",
       "\n",
       "    .dataframe thead th {\n",
       "        text-align: right;\n",
       "    }\n",
       "</style>\n",
       "<table border=\"1\" class=\"dataframe\">\n",
       "  <thead>\n",
       "    <tr style=\"text-align: right;\">\n",
       "      <th></th>\n",
       "      <th>0</th>\n",
       "      <th>1</th>\n",
       "      <th>2</th>\n",
       "      <th>3</th>\n",
       "      <th>4</th>\n",
       "      <th>5</th>\n",
       "      <th>6</th>\n",
       "      <th>7</th>\n",
       "      <th>8</th>\n",
       "    </tr>\n",
       "  </thead>\n",
       "  <tbody>\n",
       "    <tr>\n",
       "      <th>0</th>\n",
       "      <td>6</td>\n",
       "      <td>148</td>\n",
       "      <td>72</td>\n",
       "      <td>35</td>\n",
       "      <td>0</td>\n",
       "      <td>33.6</td>\n",
       "      <td>0.627</td>\n",
       "      <td>50</td>\n",
       "      <td>1</td>\n",
       "    </tr>\n",
       "    <tr>\n",
       "      <th>1</th>\n",
       "      <td>1</td>\n",
       "      <td>85</td>\n",
       "      <td>66</td>\n",
       "      <td>29</td>\n",
       "      <td>0</td>\n",
       "      <td>26.6</td>\n",
       "      <td>0.351</td>\n",
       "      <td>31</td>\n",
       "      <td>0</td>\n",
       "    </tr>\n",
       "    <tr>\n",
       "      <th>2</th>\n",
       "      <td>8</td>\n",
       "      <td>183</td>\n",
       "      <td>64</td>\n",
       "      <td>0</td>\n",
       "      <td>0</td>\n",
       "      <td>23.3</td>\n",
       "      <td>0.672</td>\n",
       "      <td>32</td>\n",
       "      <td>1</td>\n",
       "    </tr>\n",
       "    <tr>\n",
       "      <th>3</th>\n",
       "      <td>1</td>\n",
       "      <td>89</td>\n",
       "      <td>66</td>\n",
       "      <td>23</td>\n",
       "      <td>94</td>\n",
       "      <td>28.1</td>\n",
       "      <td>0.167</td>\n",
       "      <td>21</td>\n",
       "      <td>0</td>\n",
       "    </tr>\n",
       "    <tr>\n",
       "      <th>4</th>\n",
       "      <td>0</td>\n",
       "      <td>137</td>\n",
       "      <td>40</td>\n",
       "      <td>35</td>\n",
       "      <td>168</td>\n",
       "      <td>43.1</td>\n",
       "      <td>2.288</td>\n",
       "      <td>33</td>\n",
       "      <td>1</td>\n",
       "    </tr>\n",
       "  </tbody>\n",
       "</table>\n",
       "</div>"
      ],
      "text/plain": [
       "   0    1   2   3    4     5      6   7  8\n",
       "0  6  148  72  35    0  33.6  0.627  50  1\n",
       "1  1   85  66  29    0  26.6  0.351  31  0\n",
       "2  8  183  64   0    0  23.3  0.672  32  1\n",
       "3  1   89  66  23   94  28.1  0.167  21  0\n",
       "4  0  137  40  35  168  43.1  2.288  33  1"
      ]
     },
     "execution_count": 2,
     "metadata": {},
     "output_type": "execute_result"
    }
   ],
   "source": [
    "# Diabetes dataset\n",
    "df = pd.read_csv(\"data/classification/diabetes.csv\", header=None)\n",
    "df.head()"
   ]
  },
  {
   "cell_type": "markdown",
   "id": "83e6c998",
   "metadata": {},
   "source": [
    "### Separate to in-domain / OOD data with a hyperplane\n",
    "\n",
    "Note: this method still treats all of the variables as continuous."
   ]
  },
  {
   "cell_type": "code",
   "execution_count": 3,
   "id": "03b1a50c",
   "metadata": {},
   "outputs": [
    {
     "name": "stdout",
     "output_type": "stream",
     "text": [
      "Found random direction n = [ 0.00291585  0.36487657  0.23959316  0.34215381 -0.57152771  0.4429624\n",
      "  0.29465054 -0.28603365  0.02981058]\n",
      "Found split with ratio r = 0.20052083333333334\n"
     ]
    },
    {
     "data": {
      "text/html": [
       "<div>\n",
       "<style scoped>\n",
       "    .dataframe tbody tr th:only-of-type {\n",
       "        vertical-align: middle;\n",
       "    }\n",
       "\n",
       "    .dataframe tbody tr th {\n",
       "        vertical-align: top;\n",
       "    }\n",
       "\n",
       "    .dataframe thead th {\n",
       "        text-align: right;\n",
       "    }\n",
       "</style>\n",
       "<table border=\"1\" class=\"dataframe\">\n",
       "  <thead>\n",
       "    <tr style=\"text-align: right;\">\n",
       "      <th></th>\n",
       "      <th>0</th>\n",
       "      <th>1</th>\n",
       "      <th>2</th>\n",
       "      <th>3</th>\n",
       "      <th>4</th>\n",
       "      <th>5</th>\n",
       "      <th>6</th>\n",
       "      <th>7</th>\n",
       "      <th>8</th>\n",
       "    </tr>\n",
       "  </thead>\n",
       "  <tbody>\n",
       "    <tr>\n",
       "      <th>0</th>\n",
       "      <td>6</td>\n",
       "      <td>148</td>\n",
       "      <td>72</td>\n",
       "      <td>35</td>\n",
       "      <td>0</td>\n",
       "      <td>33.6</td>\n",
       "      <td>0.627</td>\n",
       "      <td>50</td>\n",
       "      <td>1</td>\n",
       "    </tr>\n",
       "    <tr>\n",
       "      <th>1</th>\n",
       "      <td>1</td>\n",
       "      <td>85</td>\n",
       "      <td>66</td>\n",
       "      <td>29</td>\n",
       "      <td>0</td>\n",
       "      <td>26.6</td>\n",
       "      <td>0.351</td>\n",
       "      <td>31</td>\n",
       "      <td>0</td>\n",
       "    </tr>\n",
       "    <tr>\n",
       "      <th>2</th>\n",
       "      <td>8</td>\n",
       "      <td>183</td>\n",
       "      <td>64</td>\n",
       "      <td>0</td>\n",
       "      <td>0</td>\n",
       "      <td>23.3</td>\n",
       "      <td>0.672</td>\n",
       "      <td>32</td>\n",
       "      <td>1</td>\n",
       "    </tr>\n",
       "    <tr>\n",
       "      <th>3</th>\n",
       "      <td>1</td>\n",
       "      <td>89</td>\n",
       "      <td>66</td>\n",
       "      <td>23</td>\n",
       "      <td>94</td>\n",
       "      <td>28.1</td>\n",
       "      <td>0.167</td>\n",
       "      <td>21</td>\n",
       "      <td>0</td>\n",
       "    </tr>\n",
       "    <tr>\n",
       "      <th>4</th>\n",
       "      <td>0</td>\n",
       "      <td>137</td>\n",
       "      <td>40</td>\n",
       "      <td>35</td>\n",
       "      <td>168</td>\n",
       "      <td>43.1</td>\n",
       "      <td>2.288</td>\n",
       "      <td>33</td>\n",
       "      <td>1</td>\n",
       "    </tr>\n",
       "  </tbody>\n",
       "</table>\n",
       "</div>"
      ],
      "text/plain": [
       "   0    1   2   3    4     5      6   7  8\n",
       "0  6  148  72  35    0  33.6  0.627  50  1\n",
       "1  1   85  66  29    0  26.6  0.351  31  0\n",
       "2  8  183  64   0    0  23.3  0.672  32  1\n",
       "3  1   89  66  23   94  28.1  0.167  21  0\n",
       "4  0  137  40  35  168  43.1  2.288  33  1"
      ]
     },
     "execution_count": 3,
     "metadata": {},
     "output_type": "execute_result"
    }
   ],
   "source": [
    "D = df.values\n",
    "\n",
    "dom_idx, OOD_idx = hyperplane_split(D, OOD_size=0.2, verbose=1)\n",
    "\n",
    "df[dom_idx].head()"
   ]
  },
  {
   "cell_type": "markdown",
   "id": "0dcc0e1c",
   "metadata": {},
   "source": [
    "### We continue the training / testing pipeline with in-domain data only"
   ]
  },
  {
   "cell_type": "code",
   "execution_count": 4,
   "id": "d46fea6d",
   "metadata": {},
   "outputs": [],
   "source": [
    "# Minmax scaling for better network performace\n",
    "scaler = MinMaxScaler()\n",
    "D = df[dom_idx].values\n",
    "D = scaler.fit_transform(D)\n",
    "\n",
    "# Split in-domain data to data and labels\n",
    "X, y = D[:,:-1], D[:,-1]\n",
    "\n",
    "# Split to train/test\n",
    "X_train, X_test, y_train, y_test = train_test_split(X, y, test_size=0.2)#, random_state=42)\n",
    "\n",
    "# Separate OOD data\n",
    "OOD = df[OOD_idx].values\n",
    "OOD = scaler.transform(OOD)         # need to also transform it to be compatible with the NN.\n",
    "X_OOD, y_OOD = OOD[:,:-1], OOD[:,-1]"
   ]
  },
  {
   "cell_type": "markdown",
   "id": "093e46ca",
   "metadata": {},
   "source": [
    "### Set network and batch size hyperparameters"
   ]
  },
  {
   "cell_type": "code",
   "execution_count": 5,
   "id": "d7da6416",
   "metadata": {},
   "outputs": [],
   "source": [
    "# Hyperparameters\n",
    "n_classes = len(set(y))\n",
    "n_features = X.shape[1]\n",
    "n_epochs = 1000\n",
    "n_hidden_1 = 30\n",
    "n_hidden_2 = 30\n",
    "learning_rate = 1e-3\n",
    "weight_decay = 1e-4\n",
    "batch_size_train = 64\n",
    "batch_size_test = 64"
   ]
  },
  {
   "cell_type": "markdown",
   "id": "7f9202da",
   "metadata": {},
   "source": [
    "### Prepare tensor dataset and loaders to pytorch format"
   ]
  },
  {
   "cell_type": "code",
   "execution_count": 6,
   "id": "b8d1c997",
   "metadata": {
    "scrolled": false
   },
   "outputs": [],
   "source": [
    "# Tensor datasets\n",
    "train_dataset = data_loaders.create_torch_dataset(X_train, y_train, to_LongTensor=True)\n",
    "test_dataset = data_loaders.create_torch_dataset(X_test, y_test, to_LongTensor=True)\n",
    "OOD_dataset = data_loaders.create_torch_dataset(X_OOD, y_OOD, to_LongTensor=True)\n",
    "\n",
    "# Data loaders on gpu\n",
    "train_loader = data_loaders.create_loader(train_dataset, batch_size_train, 'cuda')\n",
    "test_loader = data_loaders.create_loader(test_dataset, batch_size_test, 'cuda')\n",
    "OOD_loader = data_loaders.create_loader(OOD_dataset, batch_size_test, 'cuda')"
   ]
  },
  {
   "cell_type": "markdown",
   "id": "28ad80d4",
   "metadata": {},
   "source": [
    "### Model setup"
   ]
  },
  {
   "cell_type": "code",
   "execution_count": 7,
   "id": "a8f8b887",
   "metadata": {},
   "outputs": [],
   "source": [
    "diabetes_model = model.diabetes_laplace(n_features, n_hidden_1, n_hidden_2).to(device)"
   ]
  },
  {
   "cell_type": "markdown",
   "id": "926c67d2",
   "metadata": {},
   "source": [
    "### Optimizer"
   ]
  },
  {
   "cell_type": "code",
   "execution_count": 8,
   "id": "f08252b2",
   "metadata": {},
   "outputs": [],
   "source": [
    "loss_function = nn.CrossEntropyLoss()\n",
    "optimizer = optim.Adam(diabetes_model.parameters(), lr=learning_rate, weight_decay=weight_decay)"
   ]
  },
  {
   "cell_type": "markdown",
   "id": "a822877f",
   "metadata": {},
   "source": [
    "### Fit the model"
   ]
  },
  {
   "cell_type": "code",
   "execution_count": 9,
   "id": "b6696bec",
   "metadata": {},
   "outputs": [],
   "source": [
    "# Train the model\n",
    "train_losses = fit_class(diabetes_model, loss_function, optimizer, train_loader, n_epochs=n_epochs,\n",
    "               verbose=0, early_stopping=False, return_loss=True)"
   ]
  },
  {
   "cell_type": "code",
   "execution_count": 10,
   "id": "ec560b07",
   "metadata": {},
   "outputs": [
    {
     "data": {
      "image/png": "[encoded data removed]",
      "text/plain": [
       "<Figure size 648x432 with 1 Axes>"
      ]
     },
     "metadata": {
      "needs_background": "light"
     },
     "output_type": "display_data"
    }
   ],
   "source": [
    "plt.figure(figsize=(9,6))\n",
    "plt.plot(train_losses)\n",
    "plt.grid()\n",
    "plt.xlabel(\"Epoch\", fontsize=20)\n",
    "plt.ylabel(\"Loss\", fontsize=20)\n",
    "plt.title(\"BCE loss\", fontsize=20)\n",
    "plt.show()"
   ]
  },
  {
   "cell_type": "markdown",
   "id": "9afae5ce",
   "metadata": {},
   "source": [
    "### Test accuracy"
   ]
  },
  {
   "cell_type": "code",
   "execution_count": 11,
   "id": "79e6ef88",
   "metadata": {},
   "outputs": [
    {
     "name": "stdout",
     "output_type": "stream",
     "text": [
      "\n",
      "Accuracy: 89/123 = 72.35771942138672%\n"
     ]
    }
   ],
   "source": [
    "test_class(diabetes_model, loss_function, test_loader)"
   ]
  },
  {
   "cell_type": "markdown",
   "id": "bc2908a9",
   "metadata": {},
   "source": [
    "### OOD accuracy"
   ]
  },
  {
   "cell_type": "code",
   "execution_count": 12,
   "id": "7bef941e",
   "metadata": {
    "scrolled": true
   },
   "outputs": [
    {
     "name": "stdout",
     "output_type": "stream",
     "text": [
      "\n",
      "Accuracy: 119/154 = 77.2727279663086%\n"
     ]
    },
    {
     "data": {
      "text/plain": [
       "(2.077379584312439, 0.772727279663086)"
      ]
     },
     "execution_count": 12,
     "metadata": {},
     "output_type": "execute_result"
    }
   ],
   "source": [
    "# Test the model\n",
    "test_class(diabetes_model, loss_function, OOD_loader, return_loss=True, return_acc=True, rounded=5)"
   ]
  },
  {
   "cell_type": "markdown",
   "id": "763e72c8",
   "metadata": {},
   "source": [
    "### Now that we have a pipeline ready, let's use 10-fold cross validation to see the performance on the whole data"
   ]
  },
  {
   "cell_type": "code",
   "execution_count": 13,
   "id": "64f4da91",
   "metadata": {},
   "outputs": [],
   "source": [
    "def pipeline(X_train, X_test, y_train, y_test, verbose=0):\n",
    "\n",
    "    # Tensor datasets and data loaders on gpu\n",
    "    train_dataset = data_loaders.create_torch_dataset(X_train, y_train)\n",
    "    test_dataset = data_loaders.create_torch_dataset(X_test, y_test)\n",
    "    train_loader = data_loaders.create_loader(train_dataset, batch_size_train, 'cuda')\n",
    "    test_loader = data_loaders.create_loader(test_dataset, batch_size_test, 'cuda')\n",
    "\n",
    "    # Model setup\n",
    "    diabetes_model = model.diabetes_laplace(n_features, n_hidden_1, n_hidden_2).to(device)\n",
    "    loss_function = nn.CrossEntropyLoss()\n",
    "    optimizer = optim.Adam(diabetes_model.parameters(), lr=learning_rate, weight_decay=weight_decay)\n",
    "\n",
    "    # fit function optionally returns a list with the epoch-wise losses\n",
    "    train_loss, train_acc = fit_class(diabetes_model, loss_function, optimizer, train_loader, n_epochs=n_epochs,\n",
    "                           verbose=0, early_stopping=False, return_loss=True, return_acc=True) \n",
    "    test_loss, test_acc = test_class(diabetes_model, loss_function, test_loader, verbose=0, \n",
    "                                     return_loss=True, return_acc=True) \n",
    "    \n",
    "    if verbose:\n",
    "        print(f\"Total train loss for this fold: {train_loss[-1] : .6f}\")\n",
    "        print(f\"Average Train Cross-Entropy Loss: {train_loss[-1] / len(X_train) : .10f}\")\n",
    "        print(f\"Total test loss for this fold: {test_loss : .6f}\")\n",
    "        print(f\"Average Test Cross-Entropy Loss : {test_loss / len(X_test) : .10f}\" )\n",
    "\n",
    "    return train_acc, test_acc                # train acc is a list, test acc is a float\n",
    " "
   ]
  },
  {
   "cell_type": "code",
   "execution_count": 14,
   "id": "2f668f96",
   "metadata": {},
   "outputs": [
    {
     "name": "stdout",
     "output_type": "stream",
     "text": [
      "\n",
      "Training on fold no. 1\n",
      "\n",
      "Accuracy: 43/62 = 69.3548355102539%\n",
      "Total train loss for this fold:  3.309070\n",
      "Average Train Cross-Entropy Loss:  0.0059946926\n",
      "Total test loss for this fold:  0.670801\n",
      "Average Test Cross-Entropy Loss :  0.0108193774\n",
      "\n",
      "Training on fold no. 2\n",
      "\n",
      "Accuracy: 52/62 = 83.87096405029297%\n",
      "Total train loss for this fold:  3.159145\n",
      "Average Train Cross-Entropy Loss:  0.0057230895\n",
      "Total test loss for this fold:  0.508088\n",
      "Average Test Cross-Entropy Loss :  0.0081949667\n",
      "\n",
      "Training on fold no. 3\n",
      "\n",
      "Accuracy: 39/62 = 62.90322494506836%\n",
      "Total train loss for this fold:  3.295943\n",
      "Average Train Cross-Entropy Loss:  0.0059709118\n",
      "Total test loss for this fold:  1.015779\n",
      "Average Test Cross-Entropy Loss :  0.0163835249\n",
      "\n",
      "Training on fold no. 4\n",
      "\n",
      "Accuracy: 42/62 = 67.74192810058594%\n",
      "Total train loss for this fold:  2.966712\n",
      "Average Train Cross-Entropy Loss:  0.0053744783\n",
      "Total test loss for this fold:  0.601730\n",
      "Average Test Cross-Entropy Loss :  0.0097053301\n",
      "\n",
      "Training on fold no. 5\n",
      "\n",
      "Accuracy: 44/61 = 72.13114166259766%\n",
      "Total train loss for this fold:  3.602806\n",
      "Average Train Cross-Entropy Loss:  0.0065150198\n",
      "Total test loss for this fold:  0.667297\n",
      "Average Test Cross-Entropy Loss :  0.0109392991\n",
      "\n",
      "Training on fold no. 6\n",
      "\n",
      "Accuracy: 45/61 = 73.7704849243164%\n",
      "Total train loss for this fold:  3.104653\n",
      "Average Train Cross-Entropy Loss:  0.0056142012\n",
      "Total test loss for this fold:  0.619074\n",
      "Average Test Cross-Entropy Loss :  0.0101487461\n",
      "\n",
      "Training on fold no. 7\n",
      "\n",
      "Accuracy: 49/61 = 80.32786560058594%\n",
      "Total train loss for this fold:  3.838459\n",
      "Average Train Cross-Entropy Loss:  0.0069411553\n",
      "Total test loss for this fold:  0.528559\n",
      "Average Test Cross-Entropy Loss :  0.0086649002\n",
      "\n",
      "Training on fold no. 8\n",
      "\n",
      "Accuracy: 48/61 = 78.68852233886719%\n",
      "Total train loss for this fold:  3.470999\n",
      "Average Train Cross-Entropy Loss:  0.0062766714\n",
      "Total test loss for this fold:  0.542730\n",
      "Average Test Cross-Entropy Loss :  0.0088972176\n",
      "\n",
      "Training on fold no. 9\n",
      "\n",
      "Accuracy: 45/61 = 73.7704849243164%\n",
      "Total train loss for this fold:  3.713910\n",
      "Average Train Cross-Entropy Loss:  0.0067159309\n",
      "Total test loss for this fold:  0.525855\n",
      "Average Test Cross-Entropy Loss :  0.0086205807\n",
      "\n",
      "Training on fold no. 10\n",
      "\n",
      "Accuracy: 51/61 = 83.60655212402344%\n",
      "Total train loss for this fold:  3.344981\n",
      "Average Train Cross-Entropy Loss:  0.0060487893\n",
      "Total test loss for this fold:  0.531658\n",
      "Average Test Cross-Entropy Loss :  0.0087157019\n",
      "Train accuracies: [0.8460145  0.83695656 0.83152175 0.85688406 0.81735986 0.840868\n",
      " 0.80831826 0.80470163 0.79566008 0.83363473]\n",
      "Test accuracies: [0.69354836 0.83870964 0.62903225 0.67741928 0.72131142 0.73770485\n",
      " 0.80327866 0.78688522 0.73770485 0.83606552]\n",
      "\n",
      "Avg train accuracy over all folds: 0.82719\n",
      "Avg test accuracy over all folds: 0.74617\n"
     ]
    },
    {
     "data": {
      "image/png": "[encoded data removed]",
      "text/plain": [
       "<Figure size 648x432 with 1 Axes>"
      ]
     },
     "metadata": {
      "needs_background": "light"
     },
     "output_type": "display_data"
    }
   ],
   "source": [
    "n_splits = 10\n",
    "kf = KFold(n_splits)\n",
    "\n",
    "train_accs = np.zeros(n_splits)\n",
    "test_accs = np.zeros(n_splits)\n",
    "train_accs_plot = []                           # for plotting loss curves\n",
    "for i, (train_index, test_index) in enumerate(kf.split(X)):\n",
    "    \n",
    "    X_train, X_test = X[train_index], X[test_index]\n",
    "    y_train, y_test = y[train_index], y[test_index]\n",
    "    \n",
    "    print(\"\\nTraining on fold no. %d\" %(i+1))\n",
    "    epoch_wise_train_accs, test_accs[i] = pipeline(X_train, X_test, y_train, y_test, verbose=1)\n",
    "    train_accs[i] = epoch_wise_train_accs[-1]\n",
    "    train_accs_plot.append(epoch_wise_train_accs)\n",
    "    \n",
    "print(\"Train accuracies:\", train_accs)\n",
    "print(\"Test accuracies:\", test_accs)\n",
    "\n",
    "avg_train_acc_k_folds = train_accs.mean()\n",
    "avg_test_acc_k_folds = test_accs.mean()\n",
    "print(f\"\\nAvg train accuracy over all folds: {avg_train_acc_k_folds :.5f}\")\n",
    "print(f\"Avg test accuracy over all folds: {avg_test_acc_k_folds :.5f}\")\n",
    "\n",
    "plt.figure(figsize=(9,6))\n",
    "for accs in train_accs_plot:\n",
    "    accs = [acc.cpu().detach().numpy() for acc in accs]\n",
    "    plt.plot(accs)\n",
    "plt.grid()\n",
    "plt.xlabel(\"Epoch\", fontsize=20)\n",
    "plt.ylabel(\"Accuracy\", fontsize=20)\n",
    "plt.title(\"Train accuracy curves for 10 folds\", fontsize=20)\n",
    "plt.show()"
   ]
  },
  {
   "cell_type": "markdown",
   "id": "2953e45e",
   "metadata": {},
   "source": [
    "## Bayesian NN\n",
    "\n",
    "Let's sample from the posterior of the corresponding Bayesian NN using HMC and TyXe."
   ]
  },
  {
   "cell_type": "code",
   "execution_count": 15,
   "id": "aa8f4999",
   "metadata": {},
   "outputs": [],
   "source": [
    "# Only run this cell to select different domain split\n",
    "\n",
    "def reset():\n",
    "    # Data\n",
    "    dom_idx, OOD_idx = hyperplane_split(df.values, OOD_size=0.2, verbose=1)\n",
    "\n",
    "    # Minmax scaling for better network performace\n",
    "    scaler = MinMaxScaler()\n",
    "    D = df[dom_idx].values\n",
    "    D = scaler.fit_transform(D)\n",
    "\n",
    "    # Split in-domain data to data and labels\n",
    "    X, y = D[:,:-1], D[:,-1]\n",
    "\n",
    "    # Split to train/test\n",
    "    X_train, X_test, y_train, y_test = train_test_split(X, y, test_size=0.2)#, random_state=42)\n",
    "\n",
    "    # Separate OOD data\n",
    "    OOD = df[OOD_idx].values\n",
    "    OOD = scaler.transform(OOD)         # need to also transform it to be compatible with the NN.\n",
    "    X_OOD, y_OOD = OOD[:,:-1], OOD[:,-1]\n",
    "\n",
    "    # Split to train / test\n",
    "    X_train, X_test, y_train, y_test = train_test_split(X, y, test_size=0.2)#, random_state=42)\n",
    "\n",
    "\n",
    "    # Tensor datasets\n",
    "    train_dataset = data_loaders.create_torch_dataset(X_train, y_train, to_LongTensor=True)\n",
    "    test_dataset = data_loaders.create_torch_dataset(X_test, y_test, to_LongTensor=True)\n",
    "    OOD_dataset = data_loaders.create_torch_dataset(X_OOD, y_OOD, to_LongTensor=True)\n",
    "\n",
    "    # Data loaders on gpu\n",
    "    train_loader = data_loaders.create_loader(train_dataset, batch_size_train, 'cuda')\n",
    "    test_loader = data_loaders.create_loader(test_dataset, batch_size_test, 'cuda')\n",
    "    OOD_loader = data_loaders.create_loader(OOD_dataset, batch_size_test, 'cuda')\n",
    "    \n",
    "    pass\n",
    "\n",
    "# reset()"
   ]
  },
  {
   "cell_type": "code",
   "execution_count": 16,
   "id": "d9735a1e",
   "metadata": {},
   "outputs": [
    {
     "name": "stderr",
     "output_type": "stream",
     "text": [
      "Sample: 100%|███████████████████████████████████| 130000/130000 [30:45, 70.45it/s, step size=2.20e-02, acc. prob=0.890]\n"
     ]
    },
    {
     "data": {
      "text/plain": [
       "<pyro.infer.mcmc.api.MCMC at 0x20899deb9d0>"
      ]
     },
     "execution_count": 16,
     "metadata": {},
     "output_type": "execute_result"
    }
   ],
   "source": [
    "train_size = len(X_train)\n",
    "test_size = len(X_test)\n",
    "\n",
    "# Model \n",
    "net = model.diabetes_laplace(n_features, n_hidden_1, n_hidden_2).to(device)\n",
    "prior = tyxe.priors.IIDPrior(\n",
    "    dist.Normal(\n",
    "        torch.tensor(0, device=device, dtype=torch.float),\n",
    "        torch.tensor(1, device=device, dtype=torch.float),\n",
    "    ),\n",
    ")\n",
    "prior_name = \", IID prior\"\n",
    "likelihood = tyxe.likelihoods.Categorical(train_size)\n",
    "likelihood_name = \", Categorical likelihood\"\n",
    "kernel = partial(pyro.infer.mcmc.HMC, step_size=1e-3, num_steps=20, target_accept_prob=0.7)\n",
    "kernel_name = \"HMC\"\n",
    "bnn = tyxe.bnn.MCMC_BNN(net, prior, likelihood, kernel)\n",
    "bnn.name = kernel_name + \", MCMC BNN\" + likelihood_name + prior_name\n",
    "\n",
    "# Fit\n",
    "pyro.clear_param_store()\n",
    "bnn.fit(train_loader, 100000, warmup_steps=30000)"
   ]
  },
  {
   "cell_type": "code",
   "execution_count": 21,
   "id": "dc5393c0",
   "metadata": {},
   "outputs": [
    {
     "name": "stdout",
     "output_type": "stream",
     "text": [
      "Train evaluation:\n",
      "Inference type: HMC, MCMC BNN, Categorical likelihood, IID prior\n",
      "Evaluated on: Diabetes, Train data\n",
      "Number of posterior samples: 10000\n",
      "Average NLPD: 0.3960677981\n",
      "Average accuracy: 0.8187372684\n",
      "Average AUROC: 0.898447752\n",
      "Average ECE: 0.0493310727\n",
      "\n",
      "Test evaluation:\n",
      "Inference type: HMC, MCMC BNN, Categorical likelihood, IID prior\n",
      "Evaluated on: Diabetes, Test data\n",
      "Number of posterior samples: 10000\n",
      "Average NLPD: 0.7017105222\n",
      "Average accuracy: 0.7073170543\n",
      "Average AUROC: 0.7742465734\n",
      "Average ECE: 0.1099061668\n",
      "\n",
      "OOD evaluation:\n",
      "Inference type: HMC, MCMC BNN, Categorical likelihood, IID prior\n",
      "Evaluated on: Diabetes, OOD data\n",
      "Number of posterior samples: 10000\n",
      "Average NLPD: 0.3801212311\n",
      "Average accuracy: 0.8246753216\n",
      "Average AUROC: 0.8505426645\n",
      "Average ECE: 0.0727855936\n"
     ]
    }
   ],
   "source": [
    "# Predict\n",
    "posterior_samples = 10000        # how many posterior \"networks\" to use for prediction\n",
    "\n",
    "train_evaluation = evaluate.evaluate_class(\n",
    "    model=bnn, \n",
    "    loader=train_loader, \n",
    "    posterior_samples=posterior_samples, \n",
    "    dataset='Diabetes, Train data', \n",
    "    num_classes=n_classes, \n",
    "    device=device,\n",
    "    rounded=10)\n",
    "\n",
    "test_evaluation = evaluate.evaluate_class(\n",
    "    model=bnn, \n",
    "    loader=test_loader, \n",
    "    posterior_samples=posterior_samples, \n",
    "    dataset='Diabetes, Test data', \n",
    "    num_classes=n_classes, \n",
    "    device=device,\n",
    "    rounded=10)\n",
    "\n",
    "OOD_evaluation = evaluate.evaluate_class(\n",
    "    model=bnn, \n",
    "    loader=OOD_loader, \n",
    "    posterior_samples=posterior_samples, \n",
    "    dataset='Diabetes, OOD data', \n",
    "    num_classes=n_classes, \n",
    "    device=device,\n",
    "    rounded=10)\n",
    "\n",
    "\n",
    "print(\"Train evaluation:\")\n",
    "for key,  value in train_evaluation.items():\n",
    "    print(key + str(\":\"), value)\n",
    "    \n",
    "print(\"\\nTest evaluation:\")\n",
    "for key,  value in test_evaluation.items():\n",
    "    print(key + str(\":\"), value)\n",
    "    \n",
    "print(\"\\nOOD evaluation:\")\n",
    "for key,  value in OOD_evaluation.items():\n",
    "    print(key + str(\":\"), value)"
   ]
  },
  {
   "cell_type": "markdown",
   "id": "ebe7a023",
   "metadata": {},
   "source": [
    "### Variational inference"
   ]
  },
  {
   "cell_type": "code",
   "execution_count": 18,
   "id": "d5d0da06",
   "metadata": {},
   "outputs": [],
   "source": [
    "# Only run this cell to select different domain split\n",
    "\n",
    "def reset():\n",
    "    # Data\n",
    "    dom_idx, OOD_idx = hyperplane_split(df.values, OOD_size=0.2, verbose=1)\n",
    "\n",
    "    # Minmax scaling for better network performace\n",
    "    scaler = MinMaxScaler()\n",
    "    D = df[dom_idx].values\n",
    "    D = scaler.fit_transform(D)\n",
    "\n",
    "    # Split in-domain data to data and labels\n",
    "    X, y = D[:,:-1], D[:,-1]\n",
    "\n",
    "    # Split to train/test\n",
    "    X_train, X_test, y_train, y_test = train_test_split(X, y, test_size=0.2)#, random_state=42)\n",
    "\n",
    "    # Separate OOD data\n",
    "    OOD = df[OOD_idx].values\n",
    "    OOD = scaler.transform(OOD)         # need to also transform it to be compatible with the NN.\n",
    "    X_OOD, y_OOD = OOD[:,:-1], OOD[:,-1]\n",
    "\n",
    "    # Split to train / test\n",
    "    X_train, X_test, y_train, y_test = train_test_split(X, y, test_size=0.2)#, random_state=42)\n",
    "\n",
    "    # Tensor datasets\n",
    "    train_dataset = data_loaders.create_torch_dataset(X_train, y_train, to_LongTensor=True)\n",
    "    test_dataset = data_loaders.create_torch_dataset(X_test, y_test, to_LongTensor=True)\n",
    "    OOD_dataset = data_loaders.create_torch_dataset(X_OOD, y_OOD, to_LongTensor=True)\n",
    "\n",
    "    # Data loaders on gpu\n",
    "    train_loader = data_loaders.create_loader(train_dataset, batch_size_train, 'cuda')\n",
    "    test_loader = data_loaders.create_loader(test_dataset, batch_size_test, 'cuda')\n",
    "    OOD_loader = data_loaders.create_loader(OOD_dataset, batch_size_test, 'cuda')\n",
    "    \n",
    "    pass\n",
    "\n",
    "# reset()"
   ]
  },
  {
   "cell_type": "code",
   "execution_count": 22,
   "id": "843c7a85",
   "metadata": {},
   "outputs": [
    {
     "data": {
      "text/plain": [
       "<pyro.infer.svi.SVI at 0x20885cda850>"
      ]
     },
     "execution_count": 22,
     "metadata": {},
     "output_type": "execute_result"
    }
   ],
   "source": [
    "train_size = len(X_train)\n",
    "test_size = len(X_test)\n",
    "\n",
    "# Model \n",
    "var_net = model.diabetes_laplace(n_features, n_hidden_1, n_hidden_2).to(device)\n",
    "prior = tyxe.priors.IIDPrior(\n",
    "    dist.Normal(\n",
    "        torch.tensor(0, device=device, dtype=torch.float),\n",
    "        torch.tensor(1, device=device, dtype=torch.float),\n",
    "    ),\n",
    ")\n",
    "prior_name = \", IID prior\"\n",
    "obs_model = tyxe.likelihoods.Categorical(train_size)\n",
    "likelihood_name = \", Categorical likelihood\"\n",
    "guide_builder = partial(tyxe.guides.AutoNormal, init_scale=0.01)\n",
    "guide_name = \"Mean field\"\n",
    "var_bnn = tyxe.VariationalBNN(var_net, prior, obs_model, guide_builder)\n",
    "var_bnn.name = guide_name + \" Variational BNN\" + likelihood_name + prior_name\n",
    "\n",
    "# Fit\n",
    "pyro.clear_param_store()\n",
    "optim = pyro.optim.Adam({\"lr\": 1e-3})\n",
    "elbos = []    \n",
    "def callback(bnn, i, e):\n",
    "    elbos.append(e)\n",
    "var_bnn.fit(train_loader, optim, n_epochs, callback, device=device)"
   ]
  },
  {
   "cell_type": "code",
   "execution_count": 23,
   "id": "ecbb9fa4",
   "metadata": {
    "scrolled": true
   },
   "outputs": [
    {
     "data": {
      "image/png": "[encoded data removed]",
      "text/plain": [
       "<Figure size 648x432 with 1 Axes>"
      ]
     },
     "metadata": {
      "needs_background": "light"
     },
     "output_type": "display_data"
    },
    {
     "name": "stdout",
     "output_type": "stream",
     "text": [
      "Train evaluation:\n",
      "Inference type: Mean field Variational BNN, Categorical likelihood, IID prior\n",
      "Evaluated on: Diabetes, Train data\n",
      "Number of posterior samples: 10000\n",
      "Average NLPD: 0.5009188056\n",
      "Average accuracy: 0.7657840848\n",
      "Average AUROC: 0.8437219858\n",
      "Average ECE: 0.0827813447\n",
      "\n",
      "Test evaluation:\n",
      "Inference type: Mean field Variational BNN, Categorical likelihood, IID prior\n",
      "Evaluated on: Diabetes, Test data\n",
      "Number of posterior samples: 10000\n",
      "Average NLPD: 0.5398668647\n",
      "Average accuracy: 0.7723577023\n",
      "Average AUROC: 0.7887670994\n",
      "Average ECE: 0.1129497364\n",
      "\n",
      "OOD evaluation:\n",
      "Inference type: Mean field Variational BNN, Categorical likelihood, IID prior\n",
      "Evaluated on: Diabetes, OOD data\n",
      "Number of posterior samples: 10000\n",
      "Average NLPD: 0.4539698064\n",
      "Average accuracy: 0.7532467246\n",
      "Average AUROC: 0.8294574022\n",
      "Average ECE: 0.0956760198\n"
     ]
    }
   ],
   "source": [
    "# Predict\n",
    "posterior_samples = 10000        # how many posterior \"networks\" to use for prediction\n",
    "\n",
    "train_evaluation = evaluate.evaluate_class(\n",
    "    model=var_bnn, \n",
    "    loader=train_loader, \n",
    "    posterior_samples=posterior_samples, \n",
    "    dataset='Diabetes, Train data', \n",
    "    num_classes=n_classes, \n",
    "    device=device,\n",
    "    rounded=10)\n",
    "\n",
    "test_evaluation = evaluate.evaluate_class(\n",
    "    model=var_bnn, \n",
    "    loader=test_loader, \n",
    "    posterior_samples=posterior_samples, \n",
    "    dataset='Diabetes, Test data', \n",
    "    num_classes=n_classes, \n",
    "    device=device,\n",
    "    rounded=10)\n",
    "\n",
    "OOD_evaluation = evaluate.evaluate_class(\n",
    "    model=var_bnn, \n",
    "    loader=OOD_loader, \n",
    "    posterior_samples=posterior_samples, \n",
    "    dataset='Diabetes, OOD data', \n",
    "    num_classes=n_classes, \n",
    "    device=device,\n",
    "    rounded=10)\n",
    "\n",
    "\n",
    "# Plot\n",
    "plt.figure(figsize=(9,6))\n",
    "plt.plot(elbos)\n",
    "plt.grid()\n",
    "plt.xlabel(\"Epoch\", fontsize=20)\n",
    "plt.ylabel(\"ELBO\", fontsize=20)\n",
    "plt.title(\"ELBO plot\", fontsize=20)\n",
    "plt.show()\n",
    "\n",
    "\n",
    "print(\"Train evaluation:\")\n",
    "for key,  value in train_evaluation.items():\n",
    "    print(key + str(\":\"), value)\n",
    "    \n",
    "print(\"\\nTest evaluation:\")\n",
    "for key,  value in test_evaluation.items():\n",
    "    print(key + str(\":\"), value)\n",
    "    \n",
    "print(\"\\nOOD evaluation:\")\n",
    "for key,  value in OOD_evaluation.items():\n",
    "    print(key + str(\":\"), value)"
   ]
  }
 ],
 "metadata": {
  "kernelspec": {
   "display_name": "Python 3 (ipykernel)",
   "language": "python",
   "name": "python3"
  },
  "language_info": {
   "codemirror_mode": {
    "name": "ipython",
    "version": 3
   },
   "file_extension": ".py",
   "mimetype": "text/x-python",
   "name": "python",
   "nbconvert_exporter": "python",
   "pygments_lexer": "ipython3",
   "version": "3.9.12"
  }
 },
 "nbformat": 4,
 "nbformat_minor": 5
}
