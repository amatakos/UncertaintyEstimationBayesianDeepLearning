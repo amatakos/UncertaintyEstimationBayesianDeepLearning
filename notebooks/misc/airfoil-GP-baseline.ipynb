{
 "cells": [
  {
   "cell_type": "code",
   "execution_count": 1,
   "id": "7f9e2365",
   "metadata": {},
   "outputs": [],
   "source": [
    "import os\n",
    "os.chdir(\"..\")\n",
    "\n",
    "import pandas as pd\n",
    "import numpy as np\n",
    "import tensorflow as tf\n",
    "import tensorflow_probability as tfp\n",
    "import gpflow\n",
    "\n",
    "from sklearn.model_selection import train_test_split\n",
    "from sklearn.model_selection import KFold\n",
    "from sklearn.preprocessing import MinMaxScaler\n",
    "\n",
    "from tqdm import tqdm, trange\n",
    "from gpflow.utilities import positive, to_default_float, set_trainable, print_summary\n",
    "from gpflow.config import default_float, default_jitter\n",
    "from gpflow.ci_utils import ci_niter"
   ]
  },
  {
   "cell_type": "markdown",
   "id": "3b190e1f",
   "metadata": {},
   "source": [
    "# Load data, scale, and split"
   ]
  },
  {
   "cell_type": "code",
   "execution_count": 2,
   "id": "69106929",
   "metadata": {},
   "outputs": [
    {
     "data": {
      "text/html": [
       "<div>\n",
       "<style scoped>\n",
       "    .dataframe tbody tr th:only-of-type {\n",
       "        vertical-align: middle;\n",
       "    }\n",
       "\n",
       "    .dataframe tbody tr th {\n",
       "        vertical-align: top;\n",
       "    }\n",
       "\n",
       "    .dataframe thead th {\n",
       "        text-align: right;\n",
       "    }\n",
       "</style>\n",
       "<table border=\"1\" class=\"dataframe\">\n",
       "  <thead>\n",
       "    <tr style=\"text-align: right;\">\n",
       "      <th></th>\n",
       "      <th>Frequency</th>\n",
       "      <th>AngleAttack</th>\n",
       "      <th>ChordLength</th>\n",
       "      <th>FreeStreamVelocity</th>\n",
       "      <th>SuctionSide</th>\n",
       "      <th>Sound</th>\n",
       "    </tr>\n",
       "  </thead>\n",
       "  <tbody>\n",
       "    <tr>\n",
       "      <th>0</th>\n",
       "      <td>800</td>\n",
       "      <td>0.0</td>\n",
       "      <td>0.3048</td>\n",
       "      <td>71.3</td>\n",
       "      <td>0.002663</td>\n",
       "      <td>126.201</td>\n",
       "    </tr>\n",
       "    <tr>\n",
       "      <th>1</th>\n",
       "      <td>1000</td>\n",
       "      <td>0.0</td>\n",
       "      <td>0.3048</td>\n",
       "      <td>71.3</td>\n",
       "      <td>0.002663</td>\n",
       "      <td>125.201</td>\n",
       "    </tr>\n",
       "    <tr>\n",
       "      <th>2</th>\n",
       "      <td>1250</td>\n",
       "      <td>0.0</td>\n",
       "      <td>0.3048</td>\n",
       "      <td>71.3</td>\n",
       "      <td>0.002663</td>\n",
       "      <td>125.951</td>\n",
       "    </tr>\n",
       "    <tr>\n",
       "      <th>3</th>\n",
       "      <td>1600</td>\n",
       "      <td>0.0</td>\n",
       "      <td>0.3048</td>\n",
       "      <td>71.3</td>\n",
       "      <td>0.002663</td>\n",
       "      <td>127.591</td>\n",
       "    </tr>\n",
       "    <tr>\n",
       "      <th>4</th>\n",
       "      <td>2000</td>\n",
       "      <td>0.0</td>\n",
       "      <td>0.3048</td>\n",
       "      <td>71.3</td>\n",
       "      <td>0.002663</td>\n",
       "      <td>127.461</td>\n",
       "    </tr>\n",
       "  </tbody>\n",
       "</table>\n",
       "</div>"
      ],
      "text/plain": [
       "   Frequency  AngleAttack  ChordLength  FreeStreamVelocity  SuctionSide  \\\n",
       "0        800          0.0       0.3048                71.3     0.002663   \n",
       "1       1000          0.0       0.3048                71.3     0.002663   \n",
       "2       1250          0.0       0.3048                71.3     0.002663   \n",
       "3       1600          0.0       0.3048                71.3     0.002663   \n",
       "4       2000          0.0       0.3048                71.3     0.002663   \n",
       "\n",
       "     Sound  \n",
       "0  126.201  \n",
       "1  125.201  \n",
       "2  125.951  \n",
       "3  127.591  \n",
       "4  127.461  "
      ]
     },
     "execution_count": 2,
     "metadata": {},
     "output_type": "execute_result"
    }
   ],
   "source": [
    "df = pd.read_csv(\"data/regression/airfoil.csv\")\n",
    "df.head()"
   ]
  },
  {
   "cell_type": "code",
   "execution_count": 3,
   "id": "6ac21a66",
   "metadata": {},
   "outputs": [],
   "source": [
    "# Minmax scaling for better network performace\n",
    "scaler = MinMaxScaler()\n",
    "D = df.values\n",
    "D = scaler.fit_transform(D)\n",
    "\n",
    "# Split in-domain data to data and labels\n",
    "X, y = D[:,:-1], D[:,-1]\n",
    "\n",
    "# Split to train/test\n",
    "X_train, X_test, y_train, y_test = train_test_split(X, y, test_size=0.2)#, random_state=42)\n",
    "\n"
   ]
  },
  {
   "cell_type": "markdown",
   "id": "308b341c",
   "metadata": {},
   "source": [
    "# Helpers for GP model training"
   ]
  },
  {
   "cell_type": "code",
   "execution_count": 4,
   "id": "99a8c0ea",
   "metadata": {},
   "outputs": [],
   "source": [
    "def train(m, maxit=500):\n",
    "    optimizer = tf.optimizers.Adam(learning_rate=0.1)\n",
    "\n",
    "    with trange(maxit) as t:\n",
    "        for i in t:\n",
    "            with tf.GradientTape() as tape:\n",
    "                tape.watch(m.trainable_variables)\n",
    "                obj = -m.log_posterior_density()\n",
    "                grads = tape.gradient(obj, m.trainable_variables)\n",
    "                optimizer.apply_gradients(zip(grads, m.trainable_variables))\n",
    "\n",
    "                t.set_description('Iteration %i' % (i+1))\n",
    "                t.set_postfix(elbo=obj.numpy())"
   ]
  },
  {
   "cell_type": "markdown",
   "id": "c38b6571",
   "metadata": {},
   "source": [
    "# GP model definition and training\n",
    "\n",
    "Set up a GP model such that\n",
    "\n",
    "$$ f(x) \\sim \\mathcal{GP}(0,\\kappa(x,x')), $$\n",
    "$$ y_i = \\prod_{i=1}^n p(y_i \\mid f(x_i)), $$\n",
    "\n",
    "where $\\kappa(x,x')$ defines the Gaussian process prior through a covariance function. If you use the ArcCosine covariance function, the model corresponds to (under certain assumptions on the priors on the weights) an infinitely wide single hidden layer feedforward neural network.\n",
    "\n",
    "Below there are also some other options that can be used for classification and/or alternative model specification."
   ]
  },
  {
   "cell_type": "code",
   "execution_count": 5,
   "id": "110079fe",
   "metadata": {},
   "outputs": [
    {
     "name": "stderr",
     "output_type": "stream",
     "text": [
      "2022-06-29 09:03:32.695375: I tensorflow/core/platform/cpu_feature_guard.cc:142] This TensorFlow binary is optimized with oneAPI Deep Neural Network Library (oneDNN) to use the following CPU instructions in performance-critical operations:  AVX2 FMA\n",
      "To enable them in other operations, rebuild TensorFlow with the appropriate compiler flags.\n",
      "  0%|                                                   | 0/100 [00:00<?, ?it/s]2022-06-29 09:03:32.743303: W tensorflow/python/util/util.cc:348] Sets are not currently considered sequences, but this may change in the future, so consider avoiding using them.\n",
      "Iteration 100: 100%|███████████| 100/100 [00:39<00:00,  2.55it/s, elbo=-1.19e+3]\n"
     ]
    }
   ],
   "source": [
    "# The corresponding covariance function\n",
    "k = gpflow.kernels.ArcCosine(order = 1)\n",
    "#k.weight_variances.prior = tfp.distributions.Gamma(to_default_float(2), to_default_float(3))\n",
    "#k.bias_variance.prior = tfp.distributions.Gamma(to_default_float(2), to_default_float(3))\n",
    "#k.variance.prior = tfp.distributions.Gamma(to_default_float(2), to_default_float(3))\n",
    " \n",
    "# Aleternative model with ARD RBF kernel\n",
    "#k = gpflow.kernels.RBF(lengthscales=np.ones((1,X_train.shape[1])))    \n",
    "    \n",
    "# Create a general GP model (use this for classification)\n",
    "#m = gpflow.models.VGP((X_train, y_train.reshape(-1,1)), likelihood=gpflow.likelihoods.Bernoulli(), kernel=k)\n",
    "\n",
    "# Create GP model (this is with a Gaussian likelihood, but use the one below instead)\n",
    "#m = gpflow.models.VGP((X_train, y_train.reshape(-1,1)), likelihood=gpflow.likelihoods.Gaussian(), kernel=k)\n",
    "\n",
    "# Create GP regression model (more efficient, leverages conjugacy in the model)\n",
    "m = gpflow.models.GPR((X_train, y_train.reshape(-1,1)), kernel=k)\n",
    "\n",
    "# Train GP model\n",
    "train(m,maxit=100)"
   ]
  },
  {
   "cell_type": "code",
   "execution_count": 6,
   "id": "9e136e7d",
   "metadata": {},
   "outputs": [
    {
     "data": {
      "text/html": [
       "<table>\n",
       "<thead>\n",
       "<tr><th>name                       </th><th>class    </th><th>transform       </th><th>prior  </th><th>trainable  </th><th>shape  </th><th>dtype  </th><th style=\"text-align: right;\">     value</th></tr>\n",
       "</thead>\n",
       "<tbody>\n",
       "<tr><td>GPR.kernel.variance        </td><td>Parameter</td><td>Softplus        </td><td>       </td><td>True       </td><td>()     </td><td>float64</td><td style=\"text-align: right;\">4.69891   </td></tr>\n",
       "<tr><td>GPR.kernel.bias_variance   </td><td>Parameter</td><td>Softplus        </td><td>       </td><td>True       </td><td>()     </td><td>float64</td><td style=\"text-align: right;\">0.150488  </td></tr>\n",
       "<tr><td>GPR.kernel.weight_variances</td><td>Parameter</td><td>Softplus        </td><td>       </td><td>True       </td><td>()     </td><td>float64</td><td style=\"text-align: right;\">4.35911   </td></tr>\n",
       "<tr><td>GPR.likelihood.variance    </td><td>Parameter</td><td>Softplus + Shift</td><td>       </td><td>True       </td><td>()     </td><td>float64</td><td style=\"text-align: right;\">0.00379392</td></tr>\n",
       "</tbody>\n",
       "</table>"
      ],
      "text/plain": [
       "<IPython.core.display.HTML object>"
      ]
     },
     "metadata": {},
     "output_type": "display_data"
    }
   ],
   "source": [
    "print_summary(m,'notebook')"
   ]
  },
  {
   "cell_type": "code",
   "execution_count": 7,
   "id": "179286ea",
   "metadata": {},
   "outputs": [
    {
     "name": "stdout",
     "output_type": "stream",
     "text": [
      "NLPD -1.366751\n"
     ]
    }
   ],
   "source": [
    "nlpd = tf.reduce_mean(-m.predict_log_density((X_test,y_test.reshape(-1,1))))\n",
    "\n",
    "print('NLPD %f' % nlpd)"
   ]
  },
  {
   "cell_type": "code",
   "execution_count": null,
   "id": "abfe74dd",
   "metadata": {},
   "outputs": [],
   "source": []
  },
  {
   "cell_type": "code",
   "execution_count": null,
   "id": "fc8eb75f",
   "metadata": {},
   "outputs": [],
   "source": []
  },
  {
   "cell_type": "code",
   "execution_count": null,
   "id": "94c8a53b",
   "metadata": {},
   "outputs": [],
   "source": []
  }
 ],
 "metadata": {
  "kernelspec": {
   "display_name": "Python 3 (ipykernel)",
   "language": "python",
   "name": "python3"
  },
  "language_info": {
   "codemirror_mode": {
    "name": "ipython",
    "version": 3
   },
   "file_extension": ".py",
   "mimetype": "text/x-python",
   "name": "python",
   "nbconvert_exporter": "python",
   "pygments_lexer": "ipython3",
   "version": "3.9.5"
  }
 },
 "nbformat": 4,
 "nbformat_minor": 5
}
