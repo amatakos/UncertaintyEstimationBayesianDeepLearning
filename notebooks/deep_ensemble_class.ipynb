{
 "cells": [
  {
   "cell_type": "markdown",
   "id": "3b5fb4df",
   "metadata": {},
   "source": [
    "# Deep Ensemble for uncertainty estimation - classification example"
   ]
  },
  {
   "cell_type": "code",
   "execution_count": 1,
   "id": "916ba7a9",
   "metadata": {},
   "outputs": [],
   "source": [
    "import os\n",
    "path = os.getcwd()\n",
    "if path.split(sep=\"\\\\\")[-1]!='InternshipMatakos':\n",
    "    os.chdir(\"..\")\n",
    "    \n",
    "import numpy as np\n",
    "import pandas as pd\n",
    "\n",
    "from sklearn.model_selection import train_test_split\n",
    "from sklearn.model_selection import KFold\n",
    "from sklearn.preprocessing import MinMaxScaler\n",
    "\n",
    "import torch\n",
    "import torch.nn as nn\n",
    "import torch.nn.functional as F\n",
    "import torch.optim as optim\n",
    "\n",
    "from src.train_test import fit_class, fit_ensemble, \\\n",
    "    fit_ensemble, test_class, test_class_ensemble\n",
    "from src.model import MLP, DeepEnsembleClassification\n",
    "from src.evaluate import evaluate_class\n",
    "from src.utils import util\n",
    "from src.utils import data_loaders\n",
    "from src.utils.domain_split import hyperplane_split\n",
    "from src.utils.plotting import plot_train\n",
    "\n",
    "seed = np.random.randint(10000)\n",
    "seed = 3353 #3408\n",
    "np.random.seed(seed)\n",
    "torch.manual_seed(seed)\n",
    "\n",
    "device = torch.device('cuda' if torch.cuda.is_available() else 'cpu')"
   ]
  },
  {
   "cell_type": "markdown",
   "id": "192c75f5",
   "metadata": {},
   "source": [
    "I have specifically chosen this seed to produce a good domain split."
   ]
  },
  {
   "cell_type": "markdown",
   "id": "b832b6dd",
   "metadata": {},
   "source": [
    "### Diabetes dataset"
   ]
  },
  {
   "cell_type": "code",
   "execution_count": 3,
   "id": "f5ed870a",
   "metadata": {},
   "outputs": [
    {
     "data": {
      "text/html": [
       "<div>\n",
       "<style scoped>\n",
       "    .dataframe tbody tr th:only-of-type {\n",
       "        vertical-align: middle;\n",
       "    }\n",
       "\n",
       "    .dataframe tbody tr th {\n",
       "        vertical-align: top;\n",
       "    }\n",
       "\n",
       "    .dataframe thead th {\n",
       "        text-align: right;\n",
       "    }\n",
       "</style>\n",
       "<table border=\"1\" class=\"dataframe\">\n",
       "  <thead>\n",
       "    <tr style=\"text-align: right;\">\n",
       "      <th></th>\n",
       "      <th>6</th>\n",
       "      <th>148</th>\n",
       "      <th>72</th>\n",
       "      <th>35</th>\n",
       "      <th>0</th>\n",
       "      <th>33.6</th>\n",
       "      <th>0.627</th>\n",
       "      <th>50</th>\n",
       "      <th>1</th>\n",
       "    </tr>\n",
       "  </thead>\n",
       "  <tbody>\n",
       "    <tr>\n",
       "      <th>0</th>\n",
       "      <td>1</td>\n",
       "      <td>85</td>\n",
       "      <td>66</td>\n",
       "      <td>29</td>\n",
       "      <td>0</td>\n",
       "      <td>26.6</td>\n",
       "      <td>0.351</td>\n",
       "      <td>31</td>\n",
       "      <td>0</td>\n",
       "    </tr>\n",
       "    <tr>\n",
       "      <th>1</th>\n",
       "      <td>8</td>\n",
       "      <td>183</td>\n",
       "      <td>64</td>\n",
       "      <td>0</td>\n",
       "      <td>0</td>\n",
       "      <td>23.3</td>\n",
       "      <td>0.672</td>\n",
       "      <td>32</td>\n",
       "      <td>1</td>\n",
       "    </tr>\n",
       "    <tr>\n",
       "      <th>2</th>\n",
       "      <td>1</td>\n",
       "      <td>89</td>\n",
       "      <td>66</td>\n",
       "      <td>23</td>\n",
       "      <td>94</td>\n",
       "      <td>28.1</td>\n",
       "      <td>0.167</td>\n",
       "      <td>21</td>\n",
       "      <td>0</td>\n",
       "    </tr>\n",
       "    <tr>\n",
       "      <th>3</th>\n",
       "      <td>0</td>\n",
       "      <td>137</td>\n",
       "      <td>40</td>\n",
       "      <td>35</td>\n",
       "      <td>168</td>\n",
       "      <td>43.1</td>\n",
       "      <td>2.288</td>\n",
       "      <td>33</td>\n",
       "      <td>1</td>\n",
       "    </tr>\n",
       "    <tr>\n",
       "      <th>4</th>\n",
       "      <td>5</td>\n",
       "      <td>116</td>\n",
       "      <td>74</td>\n",
       "      <td>0</td>\n",
       "      <td>0</td>\n",
       "      <td>25.6</td>\n",
       "      <td>0.201</td>\n",
       "      <td>30</td>\n",
       "      <td>0</td>\n",
       "    </tr>\n",
       "  </tbody>\n",
       "</table>\n",
       "</div>"
      ],
      "text/plain": [
       "   6  148  72  35    0  33.6  0.627  50  1\n",
       "0  1   85  66  29    0  26.6  0.351  31  0\n",
       "1  8  183  64   0    0  23.3  0.672  32  1\n",
       "2  1   89  66  23   94  28.1  0.167  21  0\n",
       "3  0  137  40  35  168  43.1  2.288  33  1\n",
       "4  5  116  74   0    0  25.6  0.201  30  0"
      ]
     },
     "execution_count": 3,
     "metadata": {},
     "output_type": "execute_result"
    }
   ],
   "source": [
    "df = pd.read_csv('data/classification/diabetes.csv')\n",
    "df.head()"
   ]
  },
  {
   "cell_type": "markdown",
   "id": "fa86e6a1",
   "metadata": {},
   "source": [
    "## Load data, split domain, train/test, etc..."
   ]
  },
  {
   "cell_type": "code",
   "execution_count": 4,
   "id": "90d0421e",
   "metadata": {},
   "outputs": [
    {
     "name": "stdout",
     "output_type": "stream",
     "text": [
      "Found random direction n = [-0.46735987 -0.11818246 -0.23838448  0.10092845 -0.16384983 -0.05739857\n",
      " -0.49232007 -0.6341792   0.16090456]\n",
      "Found split with ratio r = 0.20078226857887874\n"
     ]
    }
   ],
   "source": [
    "D = df.values\n",
    "dom_idx, OOD_idx = hyperplane_split(D, OOD_size=0.2, verbose=1, seed=seed)\n",
    "df[dom_idx].head()\n",
    "\n",
    "# Minmax scaling for better network performace\n",
    "scaler = MinMaxScaler()\n",
    "D = df[dom_idx].values\n",
    "D = scaler.fit_transform(D)\n",
    "\n",
    "# Split in-domain data to data and labels\n",
    "X, y = D[:,:-1], D[:,-1]\n",
    "\n",
    "# Split to train/test\n",
    "X_train, X_test, y_train, y_test = train_test_split(X, y, test_size=0.2, random_state=seed)\n",
    "\n",
    "# Separate OOD data\n",
    "OOD = df[OOD_idx].values\n",
    "OOD = scaler.transform(OOD)         # need to also transform it to be compatible with the NN.\n",
    "X_OOD, y_OOD = OOD[:,:-1], OOD[:,-1]\n",
    "\n",
    "# Hyperparameters\n",
    "n_classes = len(set(y))\n",
    "n_features = X.shape[1]\n",
    "n_epochs = 1000\n",
    "n_hidden_1 = 100\n",
    "n_hidden_2 = 30\n",
    "n_hidden_3 = None\n",
    "learning_rate = 1e-3\n",
    "weight_decay = 1e-4\n",
    "batch_size_train = 64\n",
    "batch_size_test = 64\n",
    "\n",
    "# Tensor datasets\n",
    "train_dataset = data_loaders.create_torch_dataset(X_train, y_train)\n",
    "test_dataset = data_loaders.create_torch_dataset(X_test, y_test)\n",
    "OOD_dataset = data_loaders.create_torch_dataset(X_OOD, y_OOD)\n",
    "\n",
    "# Data loaders on gpu\n",
    "train_loader = data_loaders.create_loader(train_dataset, batch_size_train, device)\n",
    "test_loader = data_loaders.create_loader(test_dataset, batch_size_test, device)\n",
    "OOD_loader = data_loaders.create_loader(OOD_dataset, batch_size_test, device)"
   ]
  },
  {
   "cell_type": "markdown",
   "id": "732ed250",
   "metadata": {},
   "source": [
    "### Train a standard MLP for classification"
   ]
  },
  {
   "cell_type": "code",
   "execution_count": 5,
   "id": "719eabab",
   "metadata": {},
   "outputs": [],
   "source": [
    "model = MLP(n_features, n_classes, [n_hidden_1, n_hidden_2, ], 'tanh').to(device)\n",
    "loss_function = nn.NLLLoss() \n",
    "optimizer = optim.Adam(model.parameters(), lr=10*1e-4, weight_decay=weight_decay)"
   ]
  },
  {
   "cell_type": "code",
   "execution_count": 6,
   "id": "df0ce1f8",
   "metadata": {},
   "outputs": [
    {
     "data": {
      "image/png": "[encoded data removed]",
      "text/plain": [
       "<Figure size 1224x432 with 2 Axes>"
      ]
     },
     "metadata": {
      "needs_background": "light"
     },
     "output_type": "display_data"
    }
   ],
   "source": [
    "# Train the model\n",
    "train_losses, accs = fit_class(model, loss_function, optimizer, train_loader, n_epochs=100,\n",
    "               verbose=0, early_stopping='dev', return_losses=True, return_acc=True)\n",
    "\n",
    "plot_train(train_losses, accs)"
   ]
  },
  {
   "cell_type": "code",
   "execution_count": 7,
   "id": "ef62433d",
   "metadata": {
    "scrolled": false
   },
   "outputs": [
    {
     "name": "stdout",
     "output_type": "stream",
     "text": [
      "Train:\n",
      "Accuracy: 394/490 = 80.40816497802734%\n",
      "Test:\n",
      "Accuracy: 96/123 = 78.04877471923828%\n",
      "OOD:\n",
      "Accuracy: 100/154 = 64.93506622314453%\n"
     ]
    }
   ],
   "source": [
    "print(\"Train:\")\n",
    "test_class(model, loss_function, train_loader)\n",
    "print(\"Test:\")\n",
    "test_class(model, loss_function, test_loader)\n",
    "print(\"OOD:\")\n",
    "test_class(model, loss_function, OOD_loader)"
   ]
  },
  {
   "cell_type": "markdown",
   "id": "90e434e1",
   "metadata": {},
   "source": [
    "### Singleton ensemble (1 MLP)"
   ]
  },
  {
   "cell_type": "code",
   "execution_count": 8,
   "id": "73958ce0",
   "metadata": {},
   "outputs": [],
   "source": [
    "model = MLP(n_features, n_classes, [n_hidden_1, n_hidden_2, ], 'tanh').to(device)\n",
    "loss_function = nn.CrossEntropyLoss()\n",
    "\n",
    "M = 1\n",
    "ensemble = fit_ensemble(model, loss_function, lr=learning_rate, M=M, plot=False,\n",
    "                  loader=train_loader, n_epochs=n_epochs, early_stopping='train',\n",
    "                   verbose=0)\n",
    "ensemble = DeepEnsembleClassification(ensemble)"
   ]
  },
  {
   "cell_type": "code",
   "execution_count": 9,
   "id": "ef6ddbbd",
   "metadata": {
    "scrolled": true
   },
   "outputs": [
    {
     "name": "stdout",
     "output_type": "stream",
     "text": [
      "Train evaluation:\n",
      "Inference type: Deep Ensemble Classification (1 models)\n",
      "Evaluated on: Diabetes, Train data\n",
      "Neural network: [100, 30]\n",
      "Number of posterior samples: NA\n",
      "Average NLPD: -0.7501217127\n",
      "SD of NLPD: 0.0376505306\n",
      "Total NLPD: -367.559639223\n",
      "Average accuracy: 0.8163265586\n",
      "Average AUROC: 0.8830522299\n",
      "Average ECE: 0.0324991718\n",
      "\n",
      "Test evaluation:\n",
      "Inference type: Deep Ensemble Classification (1 models)\n",
      "Evaluated on: Diabetes, Test data\n",
      "Neural network: [100, 30]\n",
      "Number of posterior samples: NA\n",
      "Average NLPD: -0.7137402296\n",
      "SD of NLPD: 0.0113461156\n",
      "Total NLPD: -87.7900482408\n",
      "Average accuracy: 0.7723577023\n",
      "Average AUROC: 0.7984137535\n",
      "Average ECE: 0.1200973243\n",
      "\n",
      "OOD evaluation:\n",
      "Inference type: Deep Ensemble Classification (1 models)\n",
      "Evaluated on: Diabetes, OOD data\n",
      "Neural network: [100, 30]\n",
      "Number of posterior samples: NA\n",
      "Average NLPD: -0.5995692611\n",
      "SD of NLPD: 0.0194464517\n",
      "Total NLPD: -92.3336662094\n",
      "Average accuracy: 0.584415555\n",
      "Average AUROC: 0.7606275082\n",
      "Average ECE: 0.2419138104\n"
     ]
    }
   ],
   "source": [
    "train_evaluation = evaluate_class(\n",
    "    model=ensemble, \n",
    "    loader=train_loader, \n",
    "    dataset='Diabetes, Train data', \n",
    "    posterior_samples = 'NA', \n",
    "    num_classes=n_classes, \n",
    "    device=device,\n",
    "    rounded=10)\n",
    "\n",
    "test_evaluation = evaluate_class(\n",
    "    model=ensemble, \n",
    "    loader=test_loader, \n",
    "    dataset='Diabetes, Test data', \n",
    "    posterior_samples = 'NA', \n",
    "    num_classes=n_classes, \n",
    "    device=device,\n",
    "    rounded=10)\n",
    "\n",
    "OOD_evaluation = evaluate_class(\n",
    "    model=ensemble, \n",
    "    loader=OOD_loader, \n",
    "    dataset='Diabetes, OOD data', \n",
    "    posterior_samples = 'NA', \n",
    "    num_classes=n_classes, \n",
    "    device=device,\n",
    "    rounded=10)\n",
    "\n",
    "\n",
    "print(\"Train evaluation:\")\n",
    "util.print_dict(train_evaluation)\n",
    "\n",
    "print(\"\\nTest evaluation:\")\n",
    "util.print_dict(test_evaluation)\n",
    "\n",
    "print(\"\\nOOD evaluation:\")\n",
    "util.print_dict(OOD_evaluation)"
   ]
  },
  {
   "cell_type": "markdown",
   "id": "50584d65",
   "metadata": {},
   "source": [
    "### Ensemble of 30 MLPs"
   ]
  },
  {
   "cell_type": "code",
   "execution_count": 6,
   "id": "1e840f87",
   "metadata": {},
   "outputs": [],
   "source": [
    "model = MLP(n_features, n_classes, [n_hidden_1, n_hidden_2, ], 'tanh').to(device)\n",
    "loss_function = nn.CrossEntropyLoss()"
   ]
  },
  {
   "cell_type": "code",
   "execution_count": 7,
   "id": "50d53f6f",
   "metadata": {},
   "outputs": [],
   "source": [
    "M = 1\n",
    "ensemble = fit_ensemble(model, loss_function, lr=learning_rate, M=M, plot=False,\n",
    "                  loader=train_loader, n_epochs=n_epochs, early_stopping='train',\n",
    "                   verbose=0)"
   ]
  },
  {
   "cell_type": "code",
   "execution_count": 8,
   "id": "94958c11",
   "metadata": {
    "scrolled": true
   },
   "outputs": [
    {
     "data": {
      "text/plain": [
       "('Deep Ensemble Classification (1 models)', device(type='cuda', index=0))"
      ]
     },
     "execution_count": 8,
     "metadata": {},
     "output_type": "execute_result"
    }
   ],
   "source": [
    "# Turn this into a DeepEnsembleClassification object\n",
    "ensemble = DeepEnsembleClassification(ensemble)\n",
    "\n",
    "# Now it has a name and a device :)\n",
    "ensemble.name, ensemble.device"
   ]
  },
  {
   "cell_type": "code",
   "execution_count": 9,
   "id": "1143d3a5",
   "metadata": {},
   "outputs": [
    {
     "ename": "SyntaxError",
     "evalue": "invalid syntax (1419784708.py, line 38)",
     "output_type": "error",
     "traceback": [
      "\u001b[1;36m  Input \u001b[1;32mIn [9]\u001b[1;36m\u001b[0m\n\u001b[1;33m    for key,  value in OOD_evaluation.items()\u001b[0m\n\u001b[1;37m                                              ^\u001b[0m\n\u001b[1;31mSyntaxError\u001b[0m\u001b[1;31m:\u001b[0m invalid syntax\n"
     ]
    }
   ],
   "source": [
    "train_evaluation = evaluate_class(\n",
    "    model=ensemble, \n",
    "    loader=train_loader, \n",
    "    dataset='Diabetes, Train data', \n",
    "    posterior_samples = 'NA', \n",
    "    num_classes=n_classes, \n",
    "    device=device,\n",
    "    rounded=10)\n",
    "\n",
    "test_evaluation = evaluate_class(\n",
    "    model=ensemble, \n",
    "    loader=test_loader, \n",
    "    dataset='Diabetes, Test data', \n",
    "    posterior_samples = 'NA', \n",
    "    num_classes=n_classes, \n",
    "    device=device,\n",
    "    rounded=10)\n",
    "\n",
    "OOD_evaluation = evaluate_class(\n",
    "    model=ensemble, \n",
    "    loader=OOD_loader, \n",
    "    dataset='Diabetes, OOD data', \n",
    "    posterior_samples = 'NA', \n",
    "    num_classes=n_classes, \n",
    "    device=device,\n",
    "    rounded=10)\n",
    "\n",
    "\n",
    "print(\"Train evaluation:\")\n",
    "for key,  value in train_evaluation.items():\n",
    "    print(key + str(\":\"), value)\n",
    "    \n",
    "print(\"\\nTest evaluation:\")\n",
    "for key,  value in test_evaluation.items():\n",
    "    print(key + str(\":\"), value)\n",
    "    \n",
    "print(\"\\nOOD evaluation:\")\n",
    "for key,  value in OOD_evaluation.items() "
   ]
  },
  {
   "cell_type": "code",
   "execution_count": null,
   "id": "3299d58e",
   "metadata": {},
   "outputs": [],
   "source": []
  },
  {
   "cell_type": "code",
   "execution_count": null,
   "id": "80ff2fa3",
   "metadata": {},
   "outputs": [],
   "source": []
  },
  {
   "cell_type": "code",
   "execution_count": null,
   "id": "8759ffa1",
   "metadata": {},
   "outputs": [],
   "source": []
  },
  {
   "cell_type": "code",
   "execution_count": null,
   "id": "914eef82",
   "metadata": {},
   "outputs": [],
   "source": []
  },
  {
   "cell_type": "code",
   "execution_count": null,
   "id": "9de4f97d",
   "metadata": {},
   "outputs": [],
   "source": []
  },
  {
   "cell_type": "code",
   "execution_count": null,
   "id": "db933242",
   "metadata": {},
   "outputs": [],
   "source": []
  },
  {
   "cell_type": "code",
   "execution_count": null,
   "id": "2188114a",
   "metadata": {},
   "outputs": [],
   "source": []
  },
  {
   "cell_type": "code",
   "execution_count": null,
   "id": "1c86ab78",
   "metadata": {},
   "outputs": [],
   "source": []
  },
  {
   "cell_type": "code",
   "execution_count": null,
   "id": "4d98994b",
   "metadata": {},
   "outputs": [],
   "source": []
  },
  {
   "cell_type": "code",
   "execution_count": null,
   "id": "f2d30135",
   "metadata": {},
   "outputs": [],
   "source": []
  },
  {
   "cell_type": "code",
   "execution_count": null,
   "id": "1d2400d1",
   "metadata": {},
   "outputs": [],
   "source": []
  },
  {
   "cell_type": "code",
   "execution_count": null,
   "id": "78947159",
   "metadata": {},
   "outputs": [],
   "source": []
  },
  {
   "cell_type": "code",
   "execution_count": null,
   "id": "2d2099d3",
   "metadata": {},
   "outputs": [],
   "source": []
  },
  {
   "cell_type": "code",
   "execution_count": null,
   "id": "90b6f6e1",
   "metadata": {},
   "outputs": [],
   "source": []
  },
  {
   "cell_type": "code",
   "execution_count": null,
   "id": "82ce0aa9",
   "metadata": {},
   "outputs": [],
   "source": []
  },
  {
   "cell_type": "code",
   "execution_count": null,
   "id": "21f3c0f9",
   "metadata": {},
   "outputs": [],
   "source": []
  },
  {
   "cell_type": "code",
   "execution_count": null,
   "id": "f1e6c2d7",
   "metadata": {},
   "outputs": [],
   "source": []
  },
  {
   "cell_type": "code",
   "execution_count": null,
   "id": "203d7f45",
   "metadata": {},
   "outputs": [],
   "source": []
  },
  {
   "cell_type": "code",
   "execution_count": null,
   "id": "79f739e1",
   "metadata": {},
   "outputs": [],
   "source": []
  },
  {
   "cell_type": "code",
   "execution_count": null,
   "id": "bc2f6eea",
   "metadata": {},
   "outputs": [],
   "source": []
  },
  {
   "cell_type": "code",
   "execution_count": null,
   "id": "8fdae549",
   "metadata": {},
   "outputs": [],
   "source": []
  },
  {
   "cell_type": "code",
   "execution_count": null,
   "id": "fdb0ff5f",
   "metadata": {},
   "outputs": [],
   "source": []
  },
  {
   "cell_type": "code",
   "execution_count": null,
   "id": "f7251812",
   "metadata": {},
   "outputs": [],
   "source": []
  },
  {
   "cell_type": "code",
   "execution_count": null,
   "id": "71f20fe2",
   "metadata": {},
   "outputs": [],
   "source": []
  },
  {
   "cell_type": "code",
   "execution_count": null,
   "id": "6d8c954a",
   "metadata": {},
   "outputs": [],
   "source": []
  },
  {
   "cell_type": "code",
   "execution_count": null,
   "id": "c2a8914c",
   "metadata": {},
   "outputs": [],
   "source": []
  },
  {
   "cell_type": "code",
   "execution_count": null,
   "id": "6e2bbddd",
   "metadata": {},
   "outputs": [],
   "source": []
  },
  {
   "cell_type": "code",
   "execution_count": null,
   "id": "d89e4cdb",
   "metadata": {},
   "outputs": [],
   "source": []
  },
  {
   "cell_type": "code",
   "execution_count": null,
   "id": "3826707d",
   "metadata": {},
   "outputs": [],
   "source": []
  },
  {
   "cell_type": "code",
   "execution_count": null,
   "id": "e93caaee",
   "metadata": {},
   "outputs": [],
   "source": []
  },
  {
   "cell_type": "code",
   "execution_count": null,
   "id": "3e4041b6",
   "metadata": {},
   "outputs": [],
   "source": []
  },
  {
   "cell_type": "code",
   "execution_count": null,
   "id": "c8e222ec",
   "metadata": {},
   "outputs": [],
   "source": []
  },
  {
   "cell_type": "code",
   "execution_count": null,
   "id": "f323f111",
   "metadata": {},
   "outputs": [],
   "source": []
  },
  {
   "cell_type": "code",
   "execution_count": null,
   "id": "6c215473",
   "metadata": {},
   "outputs": [],
   "source": []
  },
  {
   "cell_type": "code",
   "execution_count": null,
   "id": "91137f55",
   "metadata": {},
   "outputs": [],
   "source": []
  },
  {
   "cell_type": "code",
   "execution_count": null,
   "id": "1939da20",
   "metadata": {},
   "outputs": [],
   "source": []
  },
  {
   "cell_type": "code",
   "execution_count": null,
   "id": "ce5da624",
   "metadata": {},
   "outputs": [],
   "source": []
  },
  {
   "cell_type": "code",
   "execution_count": null,
   "id": "f8567eca",
   "metadata": {},
   "outputs": [],
   "source": []
  },
  {
   "cell_type": "code",
   "execution_count": null,
   "id": "5f004569",
   "metadata": {},
   "outputs": [],
   "source": []
  },
  {
   "cell_type": "code",
   "execution_count": null,
   "id": "ba5a8578",
   "metadata": {},
   "outputs": [],
   "source": []
  }
 ],
 "metadata": {
  "kernelspec": {
   "display_name": "Python 3 (ipykernel)",
   "language": "python",
   "name": "python3"
  },
  "language_info": {
   "codemirror_mode": {
    "name": "ipython",
    "version": 3
   },
   "file_extension": ".py",
   "mimetype": "text/x-python",
   "name": "python",
   "nbconvert_exporter": "python",
   "pygments_lexer": "ipython3",
   "version": "3.9.12"
  }
 },
 "nbformat": 4,
 "nbformat_minor": 5
}
