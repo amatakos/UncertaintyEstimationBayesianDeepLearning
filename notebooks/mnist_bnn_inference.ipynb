{
 "cells": [
  {
   "cell_type": "markdown",
   "id": "08e0a919",
   "metadata": {},
   "source": [
    "# Approximate inference on BNNs with MNIST and TyXe"
   ]
  },
  {
   "cell_type": "code",
   "execution_count": 1,
   "id": "66c01f9c",
   "metadata": {},
   "outputs": [
    {
     "name": "stdout",
     "output_type": "stream",
     "text": [
      "Using cuda\n"
     ]
    }
   ],
   "source": [
    "import os\n",
    "os.chdir(\"..\")\n",
    "\n",
    "from functools import partial\n",
    "\n",
    "from src import model\n",
    "from src import evaluate\n",
    "from utils import data_loaders\n",
    "\n",
    "import numpy as np\n",
    "import matplotlib.pyplot as plt\n",
    "from sklearn.model_selection import train_test_split\n",
    "%matplotlib inline\n",
    "\n",
    "import torch\n",
    "import torch.nn as nn\n",
    "import torch.nn.functional as F\n",
    "from torchvision import datasets\n",
    "from torchvision import transforms\n",
    "\n",
    "import torchmetrics as tm\n",
    "\n",
    "import pyro\n",
    "import pyro.distributions as dist\n",
    "\n",
    "import tyxe\n",
    "pyro.set_rng_seed(42)\n",
    "\n",
    "device = torch.device('cuda' if torch.cuda.is_available() else 'cpu')\n",
    "#device = torch.device('cpu')\n",
    "print(\"Using\", device)"
   ]
  },
  {
   "cell_type": "markdown",
   "id": "e50eb942",
   "metadata": {},
   "source": [
    "### Download MNIST data"
   ]
  },
  {
   "cell_type": "code",
   "execution_count": 2,
   "id": "ca73fd85",
   "metadata": {},
   "outputs": [],
   "source": [
    "# Data transformations\n",
    "train_transform = transforms.Compose([transforms.ToTensor()])\n",
    "test_transform = transforms.Compose([transforms.ToTensor()])\n",
    "\n",
    "# Download MNIST data\n",
    "train_data = datasets.MNIST(root=\"data/classification\", train=True, transform=train_transform, download=True)\n",
    "test_data = datasets.MNIST(root=\"data/classification\", train=False, transform=test_transform)\n",
    "\n",
    "NUM_CLASSES = 10"
   ]
  },
  {
   "cell_type": "markdown",
   "id": "5a6683c2",
   "metadata": {},
   "source": [
    "### Take subset of Dataset (pytorch dataset object)\n",
    "\n",
    "This is done to increase performance, since these methods are computationally expensive."
   ]
  },
  {
   "cell_type": "code",
   "execution_count": 3,
   "id": "13ab9c1c",
   "metadata": {},
   "outputs": [],
   "source": [
    "# train_size = len(train_data)      # default value\n",
    "# test_size = len(test_data)        # default value\n",
    "train_size = 10000\n",
    "test_size = 10000\n",
    "train_batch_size = 128 \n",
    "test_batch_size = 128\n",
    "\n",
    "train_data = data_loaders.create_subset(train_data, train_size)\n",
    "test_data = data_loaders.create_subset(test_data, test_size)\n",
    "\n",
    "train_loader = data_loaders.create_loader(train_data, train_batch_size, device=device)\n",
    "test_loader = data_loaders.create_loader(test_data, test_batch_size, device=device)\n",
    "\n",
    "# Optionally separate X_train, y_train, X_test, y_test data\n",
    "X_train, y_train = data_loaders.separate_torch_dataset(train_data, device=device)\n",
    "X_test, y_test = data_loaders.separate_torch_dataset(test_data, device=device)"
   ]
  },
  {
   "cell_type": "markdown",
   "id": "1ac99b83",
   "metadata": {},
   "source": [
    "### Baseline CNN model"
   ]
  },
  {
   "cell_type": "code",
   "execution_count": 4,
   "id": "947e3031",
   "metadata": {},
   "outputs": [],
   "source": [
    "\"\"\"CNN architecture: \n",
    "    \n",
    "        1st Convolutional layer:\n",
    "            input channels : 1 (gray)\n",
    "            output channels : 16\n",
    "            kernel size : 5\n",
    "            padding: 2\n",
    "            \n",
    "        2nd Convolutional layer:\n",
    "            input channels : 16\n",
    "            output channels : 32\n",
    "            kernel size : 5\n",
    "            padding : 2\n",
    "            \n",
    "        Fully connected layer:\n",
    "            input channels : 32 * 7 * 7\n",
    "            output channels : 10\n",
    "\n",
    "\"\"\"\n",
    "\n",
    "net = model.CNN_MNIST().to(device)"
   ]
  },
  {
   "cell_type": "markdown",
   "id": "ef4fc8e7",
   "metadata": {},
   "source": [
    "## 1) Variational Inference"
   ]
  },
  {
   "cell_type": "markdown",
   "id": "1f825e8a",
   "metadata": {},
   "source": [
    "### Training hyperparameters"
   ]
  },
  {
   "cell_type": "code",
   "execution_count": 5,
   "id": "e71cda98",
   "metadata": {},
   "outputs": [],
   "source": [
    "# hyperparameters        \n",
    "n_epochs = 500\n",
    "learning_rate = 1e-3"
   ]
  },
  {
   "cell_type": "markdown",
   "id": "fbaa2fec",
   "metadata": {},
   "source": [
    "### Define the priors, likelihood, variational approximation form"
   ]
  },
  {
   "cell_type": "code",
   "execution_count": 6,
   "id": "07be1de6",
   "metadata": {},
   "outputs": [],
   "source": [
    "net = model.CNN_MNIST().to(device)\n",
    "name = \"\"\n",
    "# prior, note that weights and bias have the same sd\n",
    "prior = tyxe.priors.IIDPrior(\n",
    "    dist.Normal(\n",
    "        torch.tensor(0, device=device, dtype=torch.float),\n",
    "        torch.tensor(1, device=device, dtype=torch.float),\n",
    "    ),\n",
    ")\n",
    "prior_name = \", IID prior\"\n",
    "\n",
    "# likelihood\n",
    "obs_model = tyxe.likelihoods.Categorical(train_size)\n",
    "likelihood_name = \", Categorical likelihood\"\n",
    "\n",
    "# mean-field VI\n",
    "guide_builder = partial(tyxe.guides.AutoNormal, init_scale=0.01)\n",
    "guide_name = \"Mean field\"\n",
    "\n",
    "# bnn\n",
    "bnn = tyxe.VariationalBNN(net, prior, obs_model, guide_builder)\n",
    "bnn.name = guide_name + \" Variational BNN\" + likelihood_name + prior_name"
   ]
  },
  {
   "cell_type": "markdown",
   "id": "5ac651c6",
   "metadata": {},
   "source": [
    "### Fit the BNN"
   ]
  },
  {
   "cell_type": "code",
   "execution_count": 7,
   "id": "3c9b51bd",
   "metadata": {},
   "outputs": [
    {
     "name": "stdout",
     "output_type": "stream",
     "text": [
      "CPU times: total: 10min 3s\n",
      "Wall time: 10min 4s\n"
     ]
    },
    {
     "data": {
      "text/plain": [
       "<pyro.infer.svi.SVI at 0x1d7d9fcc070>"
      ]
     },
     "execution_count": 7,
     "metadata": {},
     "output_type": "execute_result"
    }
   ],
   "source": [
    "%%time\n",
    "pyro.clear_param_store()\n",
    "\n",
    "# Adam optimizer\n",
    "optim = pyro.optim.Adam({\"lr\": learning_rate})\n",
    "\n",
    "# callback function to keep track of ELBOs\n",
    "elbos = []\n",
    "def callback(bnn, i, e):\n",
    "    elbos.append(e)\n",
    "    \n",
    "# Fit the model\n",
    "bnn.fit(train_loader, optim, n_epochs, callback, device=device)"
   ]
  },
  {
   "cell_type": "markdown",
   "id": "474a0104",
   "metadata": {},
   "source": [
    "### Plot the ELBO curve"
   ]
  },
  {
   "cell_type": "code",
   "execution_count": 8,
   "id": "a85e9e8b",
   "metadata": {
    "scrolled": false
   },
   "outputs": [
    {
     "data": {
      "image/png": "[encoded data removed]",
      "text/plain": [
       "<Figure size 648x432 with 1 Axes>"
      ]
     },
     "metadata": {
      "needs_background": "light"
     },
     "output_type": "display_data"
    }
   ],
   "source": [
    "plt.figure(figsize=(9,6))\n",
    "plt.plot(elbos)\n",
    "plt.grid()\n",
    "plt.xlabel(\"Iterations\", fontsize=20)\n",
    "plt.ylabel(\"ELBO\", fontsize=20)\n",
    "plt.title(\"ELBO plot\", fontsize=20)\n",
    "plt.show()"
   ]
  },
  {
   "cell_type": "markdown",
   "id": "387145b0",
   "metadata": {},
   "source": [
    "### Predict and evaluate"
   ]
  },
  {
   "cell_type": "code",
   "execution_count": 9,
   "id": "f2e64e2f",
   "metadata": {
    "scrolled": false
   },
   "outputs": [
    {
     "name": "stderr",
     "output_type": "stream",
     "text": [
      "C:\\Users\\Administrator\\anaconda3\\envs\\torch\\lib\\site-packages\\torchmetrics\\utilities\\prints.py:36: UserWarning: No positive samples in targets, true positive value should be meaningless. Returning zero tensor in true positive score\n",
      "  warnings.warn(*args, **kwargs)\n"
     ]
    },
    {
     "name": "stdout",
     "output_type": "stream",
     "text": [
      "Train evaluation:\n",
      "Inference type: Mean field Variational BNN, Categorical likelihood, IID prior\n",
      "Evaluated on: MNIST, Train data\n",
      "Number of posterior samples: 1000\n",
      "Average NLPD: 0.0445\n",
      "Average accuracy: 0.9938\n",
      "Average AUROC: 1.0\n",
      "Average ECE: 0.0284\n",
      "\n",
      "Test evaluation:\n",
      "Inference type: Mean field Variational BNN, Categorical likelihood, IID prior\n",
      "Evaluated on: MNIST, Test data\n",
      "Number of posterior samples: 1000\n",
      "Average NLPD: 0.0682\n",
      "Average accuracy: 0.9814\n",
      "Average AUROC: 0.9998\n",
      "Average ECE: 0.02\n"
     ]
    },
    {
     "name": "stderr",
     "output_type": "stream",
     "text": [
      "C:\\Users\\Administrator\\anaconda3\\envs\\torch\\lib\\site-packages\\torchmetrics\\utilities\\prints.py:36: UserWarning: No positive samples in targets, true positive value should be meaningless. Returning zero tensor in true positive score\n",
      "  warnings.warn(*args, **kwargs)\n"
     ]
    }
   ],
   "source": [
    "# Predict\n",
    "posterior_samples = 1000        # how many posterior \"networks\" to use for prediction\n",
    "train_evaluation = evaluate.evaluate_class(bnn, train_loader, posterior_samples=posterior_samples, \n",
    "                               device=device, dataset=\"MNIST, Train data\", num_classes=10, rounded=4)\n",
    "test_evaluation = evaluate.evaluate_class(bnn, test_loader, posterior_samples=posterior_samples, \n",
    "                               device=device, dataset=\"MNIST, Test data\", num_classes=10, rounded=4)\n",
    "\n",
    "print(\"Train evaluation:\")\n",
    "for key, value in train_evaluation.items():\n",
    "    print(key + str(\":\"), value)\n",
    "print(\"\\nTest evaluation:\")\n",
    "for key, value in test_evaluation.items():\n",
    "    print(key + str(\":\"), value)"
   ]
  },
  {
   "cell_type": "markdown",
   "id": "509a623c",
   "metadata": {},
   "source": [
    "# One cell pipeline"
   ]
  },
  {
   "cell_type": "code",
   "execution_count": null,
   "id": "3abee7c8",
   "metadata": {},
   "outputs": [],
   "source": [
    "%%time\n",
    "# one cell pipeline\n",
    "\n",
    "device = torch.device('cuda' if torch.cuda.is_available() else 'cpu')\n",
    "# device = 'cpu'\n",
    "\n",
    "# Network hyperparameters        \n",
    "n_epochs = 500\n",
    "batch_size_train = 128\n",
    "batch_size_test = 128\n",
    "learning_rate = 1e-3\n",
    "\n",
    "\n",
    "# Dataset size\n",
    "train_size = 10000\n",
    "test_size = 10000\n",
    "\n",
    "\n",
    "# Data\n",
    "train_subset = data.create_subset(train_data, train_size)\n",
    "test_subset = data.create_subset(test_data, test_size)\n",
    "\n",
    "train_loader = data.create_loader(train_data, device=device)\n",
    "test_loader = data.create_loader(test_data, device=device)\n",
    "\n",
    "\n",
    "# Model \n",
    "net = model.CNN_MNIST().to(device)\n",
    "prior = tyxe.priors.IIDPrior(\n",
    "    dist.Normal(\n",
    "        torch.tensor(0, device=device, dtype=torch.float),\n",
    "        torch.tensor(1, device=device, dtype=torch.float),\n",
    "    ),\n",
    ")\n",
    "obs_model = tyxe.likelihoods.Categorical(train_size)\n",
    "guide_builder = partial(tyxe.guides.AutoNormal, init_scale=0.01)\n",
    "bnn = tyxe.VariationalBNN(net, prior, obs_model, guide_builder)\n",
    "bnn.name = guide_name + \" Variational BNN\" + likelihood_name + prior_name\n",
    "\n",
    "\n",
    "# Fit\n",
    "pyro.clear_param_store()\n",
    "optim = pyro.optim.Adam({\"lr\": learning_rate})\n",
    "elbos = []    \n",
    "bnn.fit(train_loader, optim, n_epochs, callback, device=device)\n",
    "\n",
    "\n",
    "# Predict\n",
    "posterior_samples = 500        # how many posterior \"networks\" to use for prediction\n",
    "train_evaluation = evaluate.evaluate_class(bnn, train_loader, posterior_samples=posterior_samples, \n",
    "                               device=device, dataset=\"MNIST, Train data\", num_classes=10, rounded=4)\n",
    "test_evaluation = evaluate.evaluate_class(bnn, test_loader, posterior_samples=posterior_samples, \n",
    "                               device=device, dataset=\"MNIST, Test data\", num_classes=10, rounded=4)\n",
    "\n",
    "\n",
    "# Plot\n",
    "plt.figure(figsize=(9,6))\n",
    "plt.plot(elbos)\n",
    "plt.grid()\n",
    "plt.xlabel(\"Epoch\", fontsize=20)\n",
    "plt.ylabel(\"ELBO\", fontsize=20)\n",
    "plt.title(\"ELBO plot\", fontsize=20)\n",
    "plt.show()\n",
    "\n",
    "print(\"Train evaluation:\")\n",
    "for key, value in train_evaluation.items():\n",
    "    print(key + str(\":\"), value)\n",
    "print(\"\\nTest evaluation:\")\n",
    "for key, value in test_evaluation.items():\n",
    "    print(key + str(\":\"), value)"
   ]
  },
  {
   "cell_type": "markdown",
   "id": "20368ac3",
   "metadata": {},
   "source": [
    "## 2) Hamiltonian Monte Carlo (HMC)"
   ]
  },
  {
   "cell_type": "code",
   "execution_count": 10,
   "id": "375f3fd6",
   "metadata": {},
   "outputs": [
    {
     "name": "stderr",
     "output_type": "stream",
     "text": [
      "Sample:  46%|███████████████▌                  | 59718/130000 [2:48:17,  5.58it/s, step size=2.88e-02, acc. prob=0.259]"
     ]
    },
    {
     "ename": "KeyboardInterrupt",
     "evalue": "",
     "output_type": "error",
     "traceback": [
      "\u001b[1;31m---------------------------------------------------------------------------\u001b[0m",
      "\u001b[1;31mKeyboardInterrupt\u001b[0m                         Traceback (most recent call last)",
      "File \u001b[1;32m<timed exec>:41\u001b[0m, in \u001b[0;36m<module>\u001b[1;34m\u001b[0m\n",
      "File \u001b[1;32mc:\\users\\administrator\\documents\\alex\\master\\internship\\github\\tyxe\\tyxe\\bnn.py:273\u001b[0m, in \u001b[0;36mMCMC_BNN.fit\u001b[1;34m(self, data_loader, num_samples, device, batch_data, **mcmc_kwargs)\u001b[0m\n\u001b[0;32m    271\u001b[0m     observation_data \u001b[38;5;241m=\u001b[39m torch\u001b[38;5;241m.\u001b[39mcat(observation_data_list)\n\u001b[0;32m    272\u001b[0m \u001b[38;5;28mself\u001b[39m\u001b[38;5;241m.\u001b[39m_mcmc \u001b[38;5;241m=\u001b[39m MCMC(\u001b[38;5;28mself\u001b[39m\u001b[38;5;241m.\u001b[39mkernel, num_samples, \u001b[38;5;241m*\u001b[39m\u001b[38;5;241m*\u001b[39mmcmc_kwargs)\n\u001b[1;32m--> 273\u001b[0m \u001b[38;5;28;43mself\u001b[39;49m\u001b[38;5;241;43m.\u001b[39;49m\u001b[43m_mcmc\u001b[49m\u001b[38;5;241;43m.\u001b[39;49m\u001b[43mrun\u001b[49m\u001b[43m(\u001b[49m\u001b[43minput_data\u001b[49m\u001b[43m,\u001b[49m\u001b[43m \u001b[49m\u001b[43mobservation_data\u001b[49m\u001b[43m)\u001b[49m\n\u001b[0;32m    275\u001b[0m \u001b[38;5;28;01mreturn\u001b[39;00m \u001b[38;5;28mself\u001b[39m\u001b[38;5;241m.\u001b[39m_mcmc\n",
      "File \u001b[1;32m~\\anaconda3\\envs\\torch\\lib\\site-packages\\pyro\\poutine\\messenger.py:11\u001b[0m, in \u001b[0;36m_context_wrap\u001b[1;34m(context, fn, *args, **kwargs)\u001b[0m\n\u001b[0;32m      9\u001b[0m \u001b[38;5;28;01mdef\u001b[39;00m \u001b[38;5;21m_context_wrap\u001b[39m(context, fn, \u001b[38;5;241m*\u001b[39margs, \u001b[38;5;241m*\u001b[39m\u001b[38;5;241m*\u001b[39mkwargs):\n\u001b[0;32m     10\u001b[0m     \u001b[38;5;28;01mwith\u001b[39;00m context:\n\u001b[1;32m---> 11\u001b[0m         \u001b[38;5;28;01mreturn\u001b[39;00m fn(\u001b[38;5;241m*\u001b[39margs, \u001b[38;5;241m*\u001b[39m\u001b[38;5;241m*\u001b[39mkwargs)\n",
      "File \u001b[1;32m~\\anaconda3\\envs\\torch\\lib\\site-packages\\pyro\\infer\\mcmc\\api.py:380\u001b[0m, in \u001b[0;36mMCMC.run\u001b[1;34m(self, *args, **kwargs)\u001b[0m\n\u001b[0;32m    377\u001b[0m z_flat_acc \u001b[38;5;241m=\u001b[39m [[] \u001b[38;5;28;01mfor\u001b[39;00m _ \u001b[38;5;129;01min\u001b[39;00m \u001b[38;5;28mrange\u001b[39m(\u001b[38;5;28mself\u001b[39m\u001b[38;5;241m.\u001b[39mnum_chains)]\n\u001b[0;32m    378\u001b[0m \u001b[38;5;28;01mwith\u001b[39;00m optional(pyro\u001b[38;5;241m.\u001b[39mvalidation_enabled(\u001b[38;5;129;01mnot\u001b[39;00m \u001b[38;5;28mself\u001b[39m\u001b[38;5;241m.\u001b[39mdisable_validation),\n\u001b[0;32m    379\u001b[0m               \u001b[38;5;28mself\u001b[39m\u001b[38;5;241m.\u001b[39mdisable_validation \u001b[38;5;129;01mis\u001b[39;00m \u001b[38;5;129;01mnot\u001b[39;00m \u001b[38;5;28;01mNone\u001b[39;00m):\n\u001b[1;32m--> 380\u001b[0m     \u001b[38;5;28;01mfor\u001b[39;00m x, chain_id \u001b[38;5;129;01min\u001b[39;00m \u001b[38;5;28mself\u001b[39m\u001b[38;5;241m.\u001b[39msampler\u001b[38;5;241m.\u001b[39mrun(\u001b[38;5;241m*\u001b[39margs, \u001b[38;5;241m*\u001b[39m\u001b[38;5;241m*\u001b[39mkwargs):\n\u001b[0;32m    381\u001b[0m         \u001b[38;5;28;01mif\u001b[39;00m num_samples[chain_id] \u001b[38;5;241m==\u001b[39m \u001b[38;5;241m0\u001b[39m:\n\u001b[0;32m    382\u001b[0m             num_samples[chain_id] \u001b[38;5;241m+\u001b[39m\u001b[38;5;241m=\u001b[39m \u001b[38;5;241m1\u001b[39m\n",
      "File \u001b[1;32m~\\anaconda3\\envs\\torch\\lib\\site-packages\\pyro\\infer\\mcmc\\api.py:167\u001b[0m, in \u001b[0;36m_UnarySampler.run\u001b[1;34m(self, *args, **kwargs)\u001b[0m\n\u001b[0;32m    165\u001b[0m logger \u001b[38;5;241m=\u001b[39m initialize_logger(logger, \u001b[38;5;124m\"\u001b[39m\u001b[38;5;124m\"\u001b[39m, progress_bar)\n\u001b[0;32m    166\u001b[0m hook_w_logging \u001b[38;5;241m=\u001b[39m _add_logging_hook(logger, progress_bar, \u001b[38;5;28mself\u001b[39m\u001b[38;5;241m.\u001b[39mhook)\n\u001b[1;32m--> 167\u001b[0m \u001b[38;5;28;01mfor\u001b[39;00m sample \u001b[38;5;129;01min\u001b[39;00m _gen_samples(\u001b[38;5;28mself\u001b[39m\u001b[38;5;241m.\u001b[39mkernel, \u001b[38;5;28mself\u001b[39m\u001b[38;5;241m.\u001b[39mwarmup_steps, \u001b[38;5;28mself\u001b[39m\u001b[38;5;241m.\u001b[39mnum_samples, hook_w_logging,\n\u001b[0;32m    168\u001b[0m                            i \u001b[38;5;28;01mif\u001b[39;00m \u001b[38;5;28mself\u001b[39m\u001b[38;5;241m.\u001b[39mnum_chains \u001b[38;5;241m>\u001b[39m \u001b[38;5;241m1\u001b[39m \u001b[38;5;28;01melse\u001b[39;00m \u001b[38;5;28;01mNone\u001b[39;00m,\n\u001b[0;32m    169\u001b[0m                            \u001b[38;5;241m*\u001b[39margs, \u001b[38;5;241m*\u001b[39m\u001b[38;5;241m*\u001b[39mkwargs):\n\u001b[0;32m    170\u001b[0m     \u001b[38;5;28;01myield\u001b[39;00m sample, i  \u001b[38;5;66;03m# sample, chain_id\u001b[39;00m\n\u001b[0;32m    171\u001b[0m \u001b[38;5;28mself\u001b[39m\u001b[38;5;241m.\u001b[39mkernel\u001b[38;5;241m.\u001b[39mcleanup()\n",
      "File \u001b[1;32m~\\anaconda3\\envs\\torch\\lib\\site-packages\\pyro\\infer\\mcmc\\api.py:119\u001b[0m, in \u001b[0;36m_gen_samples\u001b[1;34m(kernel, warmup_steps, num_samples, hook, chain_id, *args, **kwargs)\u001b[0m\n\u001b[0;32m    117\u001b[0m     hook(kernel, params, \u001b[38;5;124m'\u001b[39m\u001b[38;5;124mWarmup [\u001b[39m\u001b[38;5;132;01m{}\u001b[39;00m\u001b[38;5;124m]\u001b[39m\u001b[38;5;124m'\u001b[39m\u001b[38;5;241m.\u001b[39mformat(chain_id) \u001b[38;5;28;01mif\u001b[39;00m chain_id \u001b[38;5;129;01mis\u001b[39;00m \u001b[38;5;129;01mnot\u001b[39;00m \u001b[38;5;28;01mNone\u001b[39;00m \u001b[38;5;28;01melse\u001b[39;00m \u001b[38;5;124m'\u001b[39m\u001b[38;5;124mWarmup\u001b[39m\u001b[38;5;124m'\u001b[39m, i)\n\u001b[0;32m    118\u001b[0m \u001b[38;5;28;01mfor\u001b[39;00m i \u001b[38;5;129;01min\u001b[39;00m \u001b[38;5;28mrange\u001b[39m(num_samples):\n\u001b[1;32m--> 119\u001b[0m     params \u001b[38;5;241m=\u001b[39m \u001b[43mkernel\u001b[49m\u001b[38;5;241;43m.\u001b[39;49m\u001b[43msample\u001b[49m\u001b[43m(\u001b[49m\u001b[43mparams\u001b[49m\u001b[43m)\u001b[49m\n\u001b[0;32m    120\u001b[0m     hook(kernel, params, \u001b[38;5;124m'\u001b[39m\u001b[38;5;124mSample [\u001b[39m\u001b[38;5;132;01m{}\u001b[39;00m\u001b[38;5;124m]\u001b[39m\u001b[38;5;124m'\u001b[39m\u001b[38;5;241m.\u001b[39mformat(chain_id) \u001b[38;5;28;01mif\u001b[39;00m chain_id \u001b[38;5;129;01mis\u001b[39;00m \u001b[38;5;129;01mnot\u001b[39;00m \u001b[38;5;28;01mNone\u001b[39;00m \u001b[38;5;28;01melse\u001b[39;00m \u001b[38;5;124m'\u001b[39m\u001b[38;5;124mSample\u001b[39m\u001b[38;5;124m'\u001b[39m, i)\n\u001b[0;32m    121\u001b[0m     \u001b[38;5;28;01myield\u001b[39;00m torch\u001b[38;5;241m.\u001b[39mcat([params[site]\u001b[38;5;241m.\u001b[39mreshape(\u001b[38;5;241m-\u001b[39m\u001b[38;5;241m1\u001b[39m) \u001b[38;5;28;01mfor\u001b[39;00m site \u001b[38;5;129;01min\u001b[39;00m \u001b[38;5;28msorted\u001b[39m(params)]) \u001b[38;5;28;01mif\u001b[39;00m params \u001b[38;5;28;01melse\u001b[39;00m torch\u001b[38;5;241m.\u001b[39mtensor([])\n",
      "File \u001b[1;32m~\\anaconda3\\envs\\torch\\lib\\site-packages\\pyro\\infer\\mcmc\\hmc.py:349\u001b[0m, in \u001b[0;36mHMC.sample\u001b[1;34m(self, params)\u001b[0m\n\u001b[0;32m    346\u001b[0m \u001b[38;5;66;03m# Temporarily disable distributions args checking as\u001b[39;00m\n\u001b[0;32m    347\u001b[0m \u001b[38;5;66;03m# NaNs are expected during step size adaptation\u001b[39;00m\n\u001b[0;32m    348\u001b[0m \u001b[38;5;28;01mwith\u001b[39;00m optional(pyro\u001b[38;5;241m.\u001b[39mvalidation_enabled(\u001b[38;5;28;01mFalse\u001b[39;00m), \u001b[38;5;28mself\u001b[39m\u001b[38;5;241m.\u001b[39m_t \u001b[38;5;241m<\u001b[39m \u001b[38;5;28mself\u001b[39m\u001b[38;5;241m.\u001b[39m_warmup_steps):\n\u001b[1;32m--> 349\u001b[0m     z_new, r_new, z_grads_new, potential_energy_new \u001b[38;5;241m=\u001b[39m \u001b[43mvelocity_verlet\u001b[49m\u001b[43m(\u001b[49m\n\u001b[0;32m    350\u001b[0m \u001b[43m        \u001b[49m\u001b[43mz\u001b[49m\u001b[43m,\u001b[49m\u001b[43m \u001b[49m\u001b[43mr\u001b[49m\u001b[43m,\u001b[49m\u001b[43m \u001b[49m\u001b[38;5;28;43mself\u001b[39;49m\u001b[38;5;241;43m.\u001b[39;49m\u001b[43mpotential_fn\u001b[49m\u001b[43m,\u001b[49m\u001b[43m \u001b[49m\u001b[38;5;28;43mself\u001b[39;49m\u001b[38;5;241;43m.\u001b[39;49m\u001b[43mmass_matrix_adapter\u001b[49m\u001b[38;5;241;43m.\u001b[39;49m\u001b[43mkinetic_grad\u001b[49m\u001b[43m,\u001b[49m\n\u001b[0;32m    351\u001b[0m \u001b[43m        \u001b[49m\u001b[38;5;28;43mself\u001b[39;49m\u001b[38;5;241;43m.\u001b[39;49m\u001b[43mstep_size\u001b[49m\u001b[43m,\u001b[49m\u001b[43m \u001b[49m\u001b[38;5;28;43mself\u001b[39;49m\u001b[38;5;241;43m.\u001b[39;49m\u001b[43mnum_steps\u001b[49m\u001b[43m,\u001b[49m\u001b[43m \u001b[49m\u001b[43mz_grads\u001b[49m\u001b[38;5;241;43m=\u001b[39;49m\u001b[43mz_grads\u001b[49m\u001b[43m)\u001b[49m\n\u001b[0;32m    352\u001b[0m     \u001b[38;5;66;03m# apply Metropolis correction.\u001b[39;00m\n\u001b[0;32m    353\u001b[0m     r_new_unscaled \u001b[38;5;241m=\u001b[39m \u001b[38;5;28mself\u001b[39m\u001b[38;5;241m.\u001b[39mmass_matrix_adapter\u001b[38;5;241m.\u001b[39munscale(r_new)\n",
      "File \u001b[1;32m~\\anaconda3\\envs\\torch\\lib\\site-packages\\pyro\\ops\\integrator.py:30\u001b[0m, in \u001b[0;36mvelocity_verlet\u001b[1;34m(z, r, potential_fn, kinetic_grad, step_size, num_steps, z_grads)\u001b[0m\n\u001b[0;32m     28\u001b[0m r_next \u001b[38;5;241m=\u001b[39m r\u001b[38;5;241m.\u001b[39mcopy()\n\u001b[0;32m     29\u001b[0m \u001b[38;5;28;01mfor\u001b[39;00m _ \u001b[38;5;129;01min\u001b[39;00m \u001b[38;5;28mrange\u001b[39m(num_steps):\n\u001b[1;32m---> 30\u001b[0m     z_next, r_next, z_grads, potential_energy \u001b[38;5;241m=\u001b[39m \u001b[43m_single_step_verlet\u001b[49m\u001b[43m(\u001b[49m\u001b[43mz_next\u001b[49m\u001b[43m,\u001b[49m\n\u001b[0;32m     31\u001b[0m \u001b[43m                                                                    \u001b[49m\u001b[43mr_next\u001b[49m\u001b[43m,\u001b[49m\n\u001b[0;32m     32\u001b[0m \u001b[43m                                                                    \u001b[49m\u001b[43mpotential_fn\u001b[49m\u001b[43m,\u001b[49m\n\u001b[0;32m     33\u001b[0m \u001b[43m                                                                    \u001b[49m\u001b[43mkinetic_grad\u001b[49m\u001b[43m,\u001b[49m\n\u001b[0;32m     34\u001b[0m \u001b[43m                                                                    \u001b[49m\u001b[43mstep_size\u001b[49m\u001b[43m,\u001b[49m\n\u001b[0;32m     35\u001b[0m \u001b[43m                                                                    \u001b[49m\u001b[43mz_grads\u001b[49m\u001b[43m)\u001b[49m\n\u001b[0;32m     36\u001b[0m \u001b[38;5;28;01mreturn\u001b[39;00m z_next, r_next, z_grads, potential_energy\n",
      "File \u001b[1;32m~\\anaconda3\\envs\\torch\\lib\\site-packages\\pyro\\ops\\integrator.py:53\u001b[0m, in \u001b[0;36m_single_step_verlet\u001b[1;34m(z, r, potential_fn, kinetic_grad, step_size, z_grads)\u001b[0m\n\u001b[0;32m     50\u001b[0m \u001b[38;5;28;01mfor\u001b[39;00m site_name \u001b[38;5;129;01min\u001b[39;00m z:\n\u001b[0;32m     51\u001b[0m     z[site_name] \u001b[38;5;241m=\u001b[39m z[site_name] \u001b[38;5;241m+\u001b[39m step_size \u001b[38;5;241m*\u001b[39m r_grads[site_name]  \u001b[38;5;66;03m# z(n+1)\u001b[39;00m\n\u001b[1;32m---> 53\u001b[0m z_grads, potential_energy \u001b[38;5;241m=\u001b[39m \u001b[43mpotential_grad\u001b[49m\u001b[43m(\u001b[49m\u001b[43mpotential_fn\u001b[49m\u001b[43m,\u001b[49m\u001b[43m \u001b[49m\u001b[43mz\u001b[49m\u001b[43m)\u001b[49m\n\u001b[0;32m     54\u001b[0m \u001b[38;5;28;01mfor\u001b[39;00m site_name \u001b[38;5;129;01min\u001b[39;00m r:\n\u001b[0;32m     55\u001b[0m     r[site_name] \u001b[38;5;241m=\u001b[39m r[site_name] \u001b[38;5;241m+\u001b[39m \u001b[38;5;241m0.5\u001b[39m \u001b[38;5;241m*\u001b[39m step_size \u001b[38;5;241m*\u001b[39m (\u001b[38;5;241m-\u001b[39mz_grads[site_name])  \u001b[38;5;66;03m# r(n+1)\u001b[39;00m\n",
      "File \u001b[1;32m~\\anaconda3\\envs\\torch\\lib\\site-packages\\pyro\\ops\\integrator.py:75\u001b[0m, in \u001b[0;36mpotential_grad\u001b[1;34m(potential_fn, z)\u001b[0m\n\u001b[0;32m     73\u001b[0m     node\u001b[38;5;241m.\u001b[39mrequires_grad_(\u001b[38;5;28;01mTrue\u001b[39;00m)\n\u001b[0;32m     74\u001b[0m \u001b[38;5;28;01mtry\u001b[39;00m:\n\u001b[1;32m---> 75\u001b[0m     potential_energy \u001b[38;5;241m=\u001b[39m \u001b[43mpotential_fn\u001b[49m\u001b[43m(\u001b[49m\u001b[43mz\u001b[49m\u001b[43m)\u001b[49m\n\u001b[0;32m     76\u001b[0m \u001b[38;5;66;03m# deal with singular matrices\u001b[39;00m\n\u001b[0;32m     77\u001b[0m \u001b[38;5;28;01mexcept\u001b[39;00m \u001b[38;5;167;01mRuntimeError\u001b[39;00m \u001b[38;5;28;01mas\u001b[39;00m e:\n",
      "File \u001b[1;32m~\\anaconda3\\envs\\torch\\lib\\site-packages\\pyro\\infer\\mcmc\\util.py:262\u001b[0m, in \u001b[0;36m_PEMaker._potential_fn\u001b[1;34m(self, params)\u001b[0m\n\u001b[0;32m    259\u001b[0m cond_model \u001b[38;5;241m=\u001b[39m poutine\u001b[38;5;241m.\u001b[39mcondition(\u001b[38;5;28mself\u001b[39m\u001b[38;5;241m.\u001b[39mmodel, params_constrained)\n\u001b[0;32m    260\u001b[0m model_trace \u001b[38;5;241m=\u001b[39m poutine\u001b[38;5;241m.\u001b[39mtrace(cond_model)\u001b[38;5;241m.\u001b[39mget_trace(\u001b[38;5;241m*\u001b[39m\u001b[38;5;28mself\u001b[39m\u001b[38;5;241m.\u001b[39mmodel_args,\n\u001b[0;32m    261\u001b[0m                                                   \u001b[38;5;241m*\u001b[39m\u001b[38;5;241m*\u001b[39m\u001b[38;5;28mself\u001b[39m\u001b[38;5;241m.\u001b[39mmodel_kwargs)\n\u001b[1;32m--> 262\u001b[0m log_joint \u001b[38;5;241m=\u001b[39m \u001b[38;5;28;43mself\u001b[39;49m\u001b[38;5;241;43m.\u001b[39;49m\u001b[43mtrace_prob_evaluator\u001b[49m\u001b[38;5;241;43m.\u001b[39;49m\u001b[43mlog_prob\u001b[49m\u001b[43m(\u001b[49m\u001b[43mmodel_trace\u001b[49m\u001b[43m)\u001b[49m\n\u001b[0;32m    263\u001b[0m \u001b[38;5;28;01mfor\u001b[39;00m name, t \u001b[38;5;129;01min\u001b[39;00m \u001b[38;5;28mself\u001b[39m\u001b[38;5;241m.\u001b[39mtransforms\u001b[38;5;241m.\u001b[39mitems():\n\u001b[0;32m    264\u001b[0m     log_joint \u001b[38;5;241m=\u001b[39m log_joint \u001b[38;5;241m-\u001b[39m torch\u001b[38;5;241m.\u001b[39msum(\n\u001b[0;32m    265\u001b[0m         t\u001b[38;5;241m.\u001b[39mlog_abs_det_jacobian(params_constrained[name], params[name]))\n",
      "File \u001b[1;32m~\\anaconda3\\envs\\torch\\lib\\site-packages\\pyro\\infer\\mcmc\\util.py:223\u001b[0m, in \u001b[0;36mTraceEinsumEvaluator.log_prob\u001b[1;34m(self, model_trace)\u001b[0m\n\u001b[0;32m    216\u001b[0m \u001b[38;5;124;03m\"\"\"\u001b[39;00m\n\u001b[0;32m    217\u001b[0m \u001b[38;5;124;03mReturns the log pdf of `model_trace` by appropriately handling\u001b[39;00m\n\u001b[0;32m    218\u001b[0m \u001b[38;5;124;03menumerated log prob factors.\u001b[39;00m\n\u001b[0;32m    219\u001b[0m \n\u001b[0;32m    220\u001b[0m \u001b[38;5;124;03m:return: log pdf of the trace.\u001b[39;00m\n\u001b[0;32m    221\u001b[0m \u001b[38;5;124;03m\"\"\"\u001b[39;00m\n\u001b[0;32m    222\u001b[0m \u001b[38;5;28;01mif\u001b[39;00m \u001b[38;5;129;01mnot\u001b[39;00m \u001b[38;5;28mself\u001b[39m\u001b[38;5;241m.\u001b[39mhas_enumerable_sites:\n\u001b[1;32m--> 223\u001b[0m     \u001b[38;5;28;01mreturn\u001b[39;00m \u001b[43mmodel_trace\u001b[49m\u001b[38;5;241;43m.\u001b[39;49m\u001b[43mlog_prob_sum\u001b[49m\u001b[43m(\u001b[49m\u001b[43m)\u001b[49m\n\u001b[0;32m    224\u001b[0m log_probs \u001b[38;5;241m=\u001b[39m \u001b[38;5;28mself\u001b[39m\u001b[38;5;241m.\u001b[39m_get_log_factors(model_trace)\n\u001b[0;32m    225\u001b[0m \u001b[38;5;28;01mwith\u001b[39;00m shared_intermediates() \u001b[38;5;28;01mas\u001b[39;00m cache:\n",
      "File \u001b[1;32m~\\anaconda3\\envs\\torch\\lib\\site-packages\\pyro\\poutine\\trace_struct.py:191\u001b[0m, in \u001b[0;36mTrace.log_prob_sum\u001b[1;34m(self, site_filter)\u001b[0m\n\u001b[0;32m    189\u001b[0m \u001b[38;5;28;01melse\u001b[39;00m:\n\u001b[0;32m    190\u001b[0m     \u001b[38;5;28;01mtry\u001b[39;00m:\n\u001b[1;32m--> 191\u001b[0m         log_p \u001b[38;5;241m=\u001b[39m site[\u001b[38;5;124m\"\u001b[39m\u001b[38;5;124mfn\u001b[39m\u001b[38;5;124m\"\u001b[39m]\u001b[38;5;241m.\u001b[39mlog_prob(site[\u001b[38;5;124m\"\u001b[39m\u001b[38;5;124mvalue\u001b[39m\u001b[38;5;124m\"\u001b[39m], \u001b[38;5;241m*\u001b[39msite[\u001b[38;5;124m\"\u001b[39m\u001b[38;5;124margs\u001b[39m\u001b[38;5;124m\"\u001b[39m], \u001b[38;5;241m*\u001b[39m\u001b[38;5;241m*\u001b[39msite[\u001b[38;5;124m\"\u001b[39m\u001b[38;5;124mkwargs\u001b[39m\u001b[38;5;124m\"\u001b[39m])\n\u001b[0;32m    192\u001b[0m     \u001b[38;5;28;01mexcept\u001b[39;00m \u001b[38;5;167;01mValueError\u001b[39;00m:\n\u001b[0;32m    193\u001b[0m         _, exc_value, traceback \u001b[38;5;241m=\u001b[39m sys\u001b[38;5;241m.\u001b[39mexc_info()\n",
      "File \u001b[1;32m~\\anaconda3\\envs\\torch\\lib\\site-packages\\torch\\distributions\\independent.py:91\u001b[0m, in \u001b[0;36mIndependent.log_prob\u001b[1;34m(self, value)\u001b[0m\n\u001b[0;32m     90\u001b[0m \u001b[38;5;28;01mdef\u001b[39;00m \u001b[38;5;21mlog_prob\u001b[39m(\u001b[38;5;28mself\u001b[39m, value):\n\u001b[1;32m---> 91\u001b[0m     log_prob \u001b[38;5;241m=\u001b[39m \u001b[38;5;28;43mself\u001b[39;49m\u001b[38;5;241;43m.\u001b[39;49m\u001b[43mbase_dist\u001b[49m\u001b[38;5;241;43m.\u001b[39;49m\u001b[43mlog_prob\u001b[49m\u001b[43m(\u001b[49m\u001b[43mvalue\u001b[49m\u001b[43m)\u001b[49m\n\u001b[0;32m     92\u001b[0m     \u001b[38;5;28;01mreturn\u001b[39;00m _sum_rightmost(log_prob, \u001b[38;5;28mself\u001b[39m\u001b[38;5;241m.\u001b[39mreinterpreted_batch_ndims)\n",
      "File \u001b[1;32m~\\anaconda3\\envs\\torch\\lib\\site-packages\\torch\\distributions\\normal.py:73\u001b[0m, in \u001b[0;36mNormal.log_prob\u001b[1;34m(self, value)\u001b[0m\n\u001b[0;32m     71\u001b[0m \u001b[38;5;28;01mdef\u001b[39;00m \u001b[38;5;21mlog_prob\u001b[39m(\u001b[38;5;28mself\u001b[39m, value):\n\u001b[0;32m     72\u001b[0m     \u001b[38;5;28;01mif\u001b[39;00m \u001b[38;5;28mself\u001b[39m\u001b[38;5;241m.\u001b[39m_validate_args:\n\u001b[1;32m---> 73\u001b[0m         \u001b[38;5;28;43mself\u001b[39;49m\u001b[38;5;241;43m.\u001b[39;49m\u001b[43m_validate_sample\u001b[49m\u001b[43m(\u001b[49m\u001b[43mvalue\u001b[49m\u001b[43m)\u001b[49m\n\u001b[0;32m     74\u001b[0m     \u001b[38;5;66;03m# compute the variance\u001b[39;00m\n\u001b[0;32m     75\u001b[0m     var \u001b[38;5;241m=\u001b[39m (\u001b[38;5;28mself\u001b[39m\u001b[38;5;241m.\u001b[39mscale \u001b[38;5;241m*\u001b[39m\u001b[38;5;241m*\u001b[39m \u001b[38;5;241m2\u001b[39m)\n",
      "File \u001b[1;32m~\\anaconda3\\envs\\torch\\lib\\site-packages\\torch\\distributions\\distribution.py:285\u001b[0m, in \u001b[0;36mDistribution._validate_sample\u001b[1;34m(self, value)\u001b[0m\n\u001b[0;32m    283\u001b[0m \u001b[38;5;28;01massert\u001b[39;00m support \u001b[38;5;129;01mis\u001b[39;00m \u001b[38;5;129;01mnot\u001b[39;00m \u001b[38;5;28;01mNone\u001b[39;00m\n\u001b[0;32m    284\u001b[0m valid \u001b[38;5;241m=\u001b[39m support\u001b[38;5;241m.\u001b[39mcheck(value)\n\u001b[1;32m--> 285\u001b[0m \u001b[38;5;28;01mif\u001b[39;00m \u001b[38;5;129;01mnot\u001b[39;00m valid\u001b[38;5;241m.\u001b[39mall():\n\u001b[0;32m    286\u001b[0m     \u001b[38;5;28;01mraise\u001b[39;00m \u001b[38;5;167;01mValueError\u001b[39;00m(\n\u001b[0;32m    287\u001b[0m         \u001b[38;5;124m\"\u001b[39m\u001b[38;5;124mExpected value argument \u001b[39m\u001b[38;5;124m\"\u001b[39m\n\u001b[0;32m    288\u001b[0m         \u001b[38;5;124mf\u001b[39m\u001b[38;5;124m\"\u001b[39m\u001b[38;5;124m(\u001b[39m\u001b[38;5;132;01m{\u001b[39;00m\u001b[38;5;28mtype\u001b[39m(value)\u001b[38;5;241m.\u001b[39m\u001b[38;5;18m__name__\u001b[39m\u001b[38;5;132;01m}\u001b[39;00m\u001b[38;5;124m of shape \u001b[39m\u001b[38;5;132;01m{\u001b[39;00m\u001b[38;5;28mtuple\u001b[39m(value\u001b[38;5;241m.\u001b[39mshape)\u001b[38;5;132;01m}\u001b[39;00m\u001b[38;5;124m) \u001b[39m\u001b[38;5;124m\"\u001b[39m\n\u001b[1;32m   (...)\u001b[0m\n\u001b[0;32m    291\u001b[0m         \u001b[38;5;124mf\u001b[39m\u001b[38;5;124m\"\u001b[39m\u001b[38;5;124mbut found invalid values:\u001b[39m\u001b[38;5;130;01m\\n\u001b[39;00m\u001b[38;5;132;01m{\u001b[39;00mvalue\u001b[38;5;132;01m}\u001b[39;00m\u001b[38;5;124m\"\u001b[39m\n\u001b[0;32m    292\u001b[0m     )\n",
      "\u001b[1;31mKeyboardInterrupt\u001b[0m: "
     ]
    }
   ],
   "source": [
    "%%time\n",
    "# one cell pipeline\n",
    "\n",
    "device = torch.device('cuda' if torch.cuda.is_available() else 'cpu')\n",
    "# device = 'cpu'\n",
    "\n",
    "# Network hyperparameters        \n",
    "batch_size_train = 128\n",
    "batch_size_test = 128\n",
    "\n",
    "\n",
    "# Dataset size\n",
    "train_size = 4000\n",
    "test_size = 4000\n",
    "\n",
    "\n",
    "# Data\n",
    "train_subset = data_loaders.create_subset(train_data, train_size)\n",
    "test_subset = data_loaders.create_subset(test_data, test_size)\n",
    "\n",
    "train_loader = data_loaders.create_loader(train_data, device=device)\n",
    "test_loader = data_loaders.create_loader(test_data, device=device)\n",
    "\n",
    "\n",
    "# Model \n",
    "net = model.CNN_MNIST().to(device)\n",
    "prior = tyxe.priors.IIDPrior(\n",
    "    dist.Normal(\n",
    "        torch.tensor(0, device=device, dtype=torch.float),\n",
    "        torch.tensor(1, device=device, dtype=torch.float),\n",
    "    ),\n",
    ")\n",
    "likelihood = tyxe.likelihoods.Categorical(train_size)\n",
    "kernel = partial(pyro.infer.mcmc.HMC, step_size=1e-3, num_steps=20, target_accept_prob=0.7)\n",
    "kernel_name = \"HMC\"\n",
    "bnn = tyxe.bnn.MCMC_BNN(net, prior, likelihood, kernel)\n",
    "bnn.name = kernel_name + \", MCMC BNN\" + likelihood_name + prior_name\n",
    "\n",
    "\n",
    "# Fit\n",
    "pyro.clear_param_store()\n",
    "bnn.fit(train_loader, 100000, warmup_steps=30000)"
   ]
  },
  {
   "cell_type": "code",
   "execution_count": 12,
   "id": "26d8588e",
   "metadata": {},
   "outputs": [
    {
     "ename": "ValueError",
     "evalue": "No samples found from MCMC run.",
     "output_type": "error",
     "traceback": [
      "\u001b[1;31m---------------------------------------------------------------------------\u001b[0m",
      "\u001b[1;31mValueError\u001b[0m                                Traceback (most recent call last)",
      "Input \u001b[1;32mIn [12]\u001b[0m, in \u001b[0;36m<cell line: 3>\u001b[1;34m()\u001b[0m\n\u001b[0;32m      1\u001b[0m \u001b[38;5;66;03m# Predict\u001b[39;00m\n\u001b[0;32m      2\u001b[0m posterior_samples \u001b[38;5;241m=\u001b[39m \u001b[38;5;241m10\u001b[39m        \u001b[38;5;66;03m# how many posterior \"networks\" to use for prediction\u001b[39;00m\n\u001b[1;32m----> 3\u001b[0m evaluation \u001b[38;5;241m=\u001b[39m \u001b[43mevaluate\u001b[49m\u001b[38;5;241;43m.\u001b[39;49m\u001b[43mevaluate_class\u001b[49m\u001b[43m(\u001b[49m\u001b[43mbnn\u001b[49m\u001b[43m,\u001b[49m\u001b[43m \u001b[49m\u001b[43mtest_loader\u001b[49m\u001b[43m,\u001b[49m\u001b[43m \u001b[49m\u001b[43mposterior_samples\u001b[49m\u001b[38;5;241;43m=\u001b[39;49m\u001b[43mposterior_samples\u001b[49m\u001b[43m,\u001b[49m\u001b[43m \u001b[49m\n\u001b[0;32m      4\u001b[0m \u001b[43m                               \u001b[49m\u001b[43mdevice\u001b[49m\u001b[38;5;241;43m=\u001b[39;49m\u001b[43mdevice\u001b[49m\u001b[43m,\u001b[49m\u001b[43m \u001b[49m\u001b[43mdataset\u001b[49m\u001b[38;5;241;43m=\u001b[39;49m\u001b[38;5;124;43m\"\u001b[39;49m\u001b[38;5;124;43mMNIST\u001b[39;49m\u001b[38;5;124;43m\"\u001b[39;49m\u001b[43m,\u001b[49m\u001b[43m \u001b[49m\u001b[43mnum_classes\u001b[49m\u001b[38;5;241;43m=\u001b[39;49m\u001b[38;5;241;43m10\u001b[39;49m\u001b[43m,\u001b[49m\u001b[43m \u001b[49m\u001b[43mrounded\u001b[49m\u001b[38;5;241;43m=\u001b[39;49m\u001b[38;5;241;43m4\u001b[39;49m\u001b[43m)\u001b[49m\n\u001b[0;32m      6\u001b[0m \u001b[38;5;28;01mfor\u001b[39;00m key,  value \u001b[38;5;129;01min\u001b[39;00m evaluation\u001b[38;5;241m.\u001b[39mitems():\n\u001b[0;32m      7\u001b[0m     \u001b[38;5;28mprint\u001b[39m(key \u001b[38;5;241m+\u001b[39m \u001b[38;5;28mstr\u001b[39m(\u001b[38;5;124m\"\u001b[39m\u001b[38;5;124m:\u001b[39m\u001b[38;5;124m\"\u001b[39m), value)\n",
      "File \u001b[1;32m~\\Documents\\Alex\\Master\\Internship\\github\\InternshipMatakos\\src\\evaluate.py:343\u001b[0m, in \u001b[0;36mevaluate_class\u001b[1;34m(model, loader, posterior_samples, device, dataset, num_classes, rounded, verbose)\u001b[0m\n\u001b[0;32m    341\u001b[0m         model_name \u001b[38;5;241m=\u001b[39m \u001b[38;5;124m'\u001b[39m\u001b[38;5;124mLaplace Approximation, All network parameters\u001b[39m\u001b[38;5;124m'\u001b[39m\n\u001b[0;32m    342\u001b[0m \u001b[38;5;28;01melse\u001b[39;00m:\n\u001b[1;32m--> 343\u001b[0m     logits \u001b[38;5;241m=\u001b[39m \u001b[43mmodel\u001b[49m\u001b[38;5;241;43m.\u001b[39;49m\u001b[43mpredict\u001b[49m\u001b[43m(\u001b[49m\u001b[43mdata\u001b[49m\u001b[43m,\u001b[49m\u001b[43m \u001b[49m\u001b[43mnum_predictions\u001b[49m\u001b[38;5;241;43m=\u001b[39;49m\u001b[43mposterior_samples\u001b[49m\u001b[43m)\u001b[49m\u001b[38;5;241m.\u001b[39mdetach()\u001b[38;5;241m.\u001b[39mcpu()\n\u001b[0;32m    344\u001b[0m     model_name \u001b[38;5;241m=\u001b[39m model\u001b[38;5;241m.\u001b[39mname\n\u001b[0;32m    346\u001b[0m logits \u001b[38;5;241m=\u001b[39m logits\u001b[38;5;241m.\u001b[39mto(device)\n",
      "File \u001b[1;32mc:\\users\\administrator\\documents\\alex\\master\\internship\\github\\tyxe\\tyxe\\bnn.py:282\u001b[0m, in \u001b[0;36mMCMC_BNN.predict\u001b[1;34m(self, num_predictions, aggregate, *input_data)\u001b[0m\n\u001b[0;32m    279\u001b[0m     \u001b[38;5;28;01mraise\u001b[39;00m \u001b[38;5;167;01mRuntimeError\u001b[39;00m(\u001b[38;5;124m\"\u001b[39m\u001b[38;5;124mCall .fit to run MCMC and obtain samples from the posterior first.\u001b[39m\u001b[38;5;124m\"\u001b[39m)\n\u001b[0;32m    281\u001b[0m preds \u001b[38;5;241m=\u001b[39m []\n\u001b[1;32m--> 282\u001b[0m weight_samples \u001b[38;5;241m=\u001b[39m \u001b[38;5;28;43mself\u001b[39;49m\u001b[38;5;241;43m.\u001b[39;49m\u001b[43m_mcmc\u001b[49m\u001b[38;5;241;43m.\u001b[39;49m\u001b[43mget_samples\u001b[49m\u001b[43m(\u001b[49m\u001b[43mnum_samples\u001b[49m\u001b[38;5;241;43m=\u001b[39;49m\u001b[43mnum_predictions\u001b[49m\u001b[43m)\u001b[49m\n\u001b[0;32m    283\u001b[0m \u001b[38;5;28;01mwith\u001b[39;00m torch\u001b[38;5;241m.\u001b[39mno_grad():\n\u001b[0;32m    284\u001b[0m     \u001b[38;5;28;01mfor\u001b[39;00m i \u001b[38;5;129;01min\u001b[39;00m \u001b[38;5;28mrange\u001b[39m(num_predictions):\n",
      "File \u001b[1;32m~\\anaconda3\\envs\\torch\\lib\\site-packages\\pyro\\infer\\mcmc\\api.py:453\u001b[0m, in \u001b[0;36mMCMC.get_samples\u001b[1;34m(self, num_samples, group_by_chain)\u001b[0m\n\u001b[0;32m    451\u001b[0m \u001b[38;5;28;01melse\u001b[39;00m:\n\u001b[0;32m    452\u001b[0m     \u001b[38;5;28;01mif\u001b[39;00m \u001b[38;5;129;01mnot\u001b[39;00m samples:\n\u001b[1;32m--> 453\u001b[0m         \u001b[38;5;28;01mraise\u001b[39;00m \u001b[38;5;167;01mValueError\u001b[39;00m(\u001b[38;5;124m\"\u001b[39m\u001b[38;5;124mNo samples found from MCMC run.\u001b[39m\u001b[38;5;124m\"\u001b[39m)\n\u001b[0;32m    454\u001b[0m     \u001b[38;5;28;01mif\u001b[39;00m group_by_chain:\n\u001b[0;32m    455\u001b[0m         batch_dim \u001b[38;5;241m=\u001b[39m \u001b[38;5;241m1\u001b[39m\n",
      "\u001b[1;31mValueError\u001b[0m: No samples found from MCMC run."
     ]
    }
   ],
   "source": [
    "# Predict\n",
    "posterior_samples = 10        # how many posterior \"networks\" to use for prediction\n",
    "evaluation = evaluate.evaluate_class(bnn, test_loader, posterior_samples=posterior_samples, \n",
    "                               device=device, dataset=\"MNIST\", num_classes=10, rounded=4)\n",
    "\n",
    "for key,  value in evaluation.items():\n",
    "    print(key + str(\":\"), value)"
   ]
  }
 ],
 "metadata": {
  "kernelspec": {
   "display_name": "Python 3 (ipykernel)",
   "language": "python",
   "name": "python3"
  },
  "language_info": {
   "codemirror_mode": {
    "name": "ipython",
    "version": 3
   },
   "file_extension": ".py",
   "mimetype": "text/x-python",
   "name": "python",
   "nbconvert_exporter": "python",
   "pygments_lexer": "ipython3",
   "version": "3.9.12"
  }
 },
 "nbformat": 4,
 "nbformat_minor": 5
}
