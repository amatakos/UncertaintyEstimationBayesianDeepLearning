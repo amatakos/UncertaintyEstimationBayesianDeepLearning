{
 "cells": [
  {
   "cell_type": "markdown",
   "id": "aa65f412",
   "metadata": {},
   "source": [
    "# NOTE: The backend has changed since this notebook was developed. It will most likely not run without some minor tweaks."
   ]
  },
  {
   "cell_type": "markdown",
   "id": "fa530e4e",
   "metadata": {},
   "source": [
    "### Estimating uncertainty in a BNN using Laplace Approximation (regression task)"
   ]
  },
  {
   "cell_type": "code",
   "execution_count": 1,
   "id": "b86571a6",
   "metadata": {},
   "outputs": [
    {
     "name": "stdout",
     "output_type": "stream",
     "text": [
      "Found random direction n = [ 0.51640181 -0.32161427  0.37055607  0.15046263 -0.37381268 -0.57463615]\n",
      "Found split with ratio r = 0.20093147039254824\n"
     ]
    }
   ],
   "source": [
    "import os\n",
    "path = os.getcwd()\n",
    "if path.split(sep=\"\\\\\")[-1]!='InternshipMatakos':\n",
    "    os.chdir(\"..\")\n",
    "\n",
    "from src.inference.laplace import laplace_model\n",
    "from src import evaluate\n",
    "from src.evaluate import evaluate_regr\n",
    "import src.utils\n",
    "from src.utils import util\n",
    "from src.utils import data_loaders\n",
    "from src.utils.domain_split import hyperplane_split\n",
    "from src.train_test import fit_regr\n",
    "from src.train_test import test_regr\n",
    "from src.model import MLP\n",
    "\n",
    "import pandas as pd\n",
    "import numpy as np\n",
    "import matplotlib.pyplot as plt\n",
    "from sklearn.model_selection import train_test_split\n",
    "from sklearn.model_selection import KFold\n",
    "from sklearn.preprocessing import MinMaxScaler\n",
    "import torch\n",
    "import torch.nn as nn\n",
    "import torch.nn.functional as F\n",
    "import torch.optim as optim\n",
    "\n",
    "from laplace import Laplace, marglik_training\n",
    "from laplace.baselaplace import FullLaplace\n",
    "from laplace.curvature.backpack import BackPackGGN\n",
    "\n",
    "#npr.seed(42)\n",
    "#torch.manual_seed(42)\n",
    "\n",
    "device = torch.device('cuda' if torch.cuda.is_available() else 'cpu')\n",
    "\n",
    "# Read airfoil data\n",
    "df = pd.read_csv(\"data/regression/airfoil.csv\")\n",
    "D = df.values\n",
    "\n",
    "# Split domain\n",
    "dom_idx, OOD_idx = hyperplane_split(D, OOD_size=0.2, verbose=1)\n",
    "\n",
    "# Data processing\n",
    "# Minmax scaling for better network performace\n",
    "scaler = MinMaxScaler()\n",
    "D = df[dom_idx].values\n",
    "D = scaler.fit_transform(D)\n",
    "\n",
    "# Split in-domain data to data and labels\n",
    "X, y = D[:,:-1], D[:,-1]\n",
    "\n",
    "# Split to train/test\n",
    "X_train, X_test, y_train, y_test = train_test_split(X, y, test_size=0.2)#, random_state=42)\n",
    "\n",
    "# Separate OOD data\n",
    "OOD = df[OOD_idx].values\n",
    "OOD = scaler.transform(OOD)         # need to also transform it to be compatible with the NN.\n",
    "X_OOD, y_OOD = OOD[:,:-1], OOD[:,-1]\n",
    "\n",
    "# Hyperparameters\n",
    "n_features = X_train.shape[1]\n",
    "n_hidden_1 = 30\n",
    "n_hidden_2 = 30\n",
    "n_epochs = 1000\n",
    "learning_rate = 0.0001\n",
    "weight_decay = 1e-5\n",
    "batch_size_train = 64\n",
    "batch_size_test = 64\n",
    "\n",
    "# Transformation required for regression problem\n",
    "y_train = y_train.reshape(-1, 1)\n",
    "y_test = y_test.reshape(-1, 1)\n",
    "y_OOD = y_OOD.reshape(-1, 1)\n",
    "\n",
    "# Tensor datasets\n",
    "train_dataset = data_loaders.create_torch_dataset(X_train, y_train, to_LongTensor=False)\n",
    "test_dataset = data_loaders.create_torch_dataset(X_test, y_test, to_LongTensor=False)\n",
    "OOD_dataset = data_loaders.create_torch_dataset(X_OOD, y_OOD, to_LongTensor=False)\n",
    "\n",
    "# Data loaders on gpu\n",
    "train_loader = data_loaders.create_loader(train_dataset, batch_size_train, device)\n",
    "test_loader = data_loaders.create_loader(test_dataset, batch_size_test, device)\n",
    "OOD_loader = data_loaders.create_loader(OOD_dataset, batch_size_test, device)"
   ]
  },
  {
   "cell_type": "markdown",
   "id": "c70648d7",
   "metadata": {},
   "source": [
    "### Standard NN model (2 hidden layers with 30 neurons each, ReLU activation function)"
   ]
  },
  {
   "cell_type": "code",
   "execution_count": 2,
   "id": "7e5dc61f",
   "metadata": {},
   "outputs": [
    {
     "name": "stdout",
     "output_type": "stream",
     "text": [
      "Average Train MSE Loss: 2.402608515694737e-07\n",
      "Total train loss = 0.00023\n"
     ]
    }
   ],
   "source": [
    "airfoil_model = MLP(n_features, 1, [128, 32, ], 'tanh').to(device)\n",
    "\n",
    "loss_function = nn.MSELoss()\n",
    "optimizer = optim.Adam(airfoil_model.parameters(), lr=learning_rate, weight_decay=weight_decay)\n",
    "\n",
    "train_losses = fit_regr(airfoil_model, loss_function, optimizer, train_loader, \n",
    "    n_epochs=n_epochs, verbose=0, early_stopping='dev', return_losses=True)\n",
    "train_loss = train_losses[-1]\n",
    "\n",
    "print(\"Average Train MSE Loss:\", train_loss / len(X_train))\n",
    "print(f\"Total train loss = {train_loss:.5f}\")  "
   ]
  },
  {
   "cell_type": "code",
   "execution_count": 3,
   "id": "ef39a772",
   "metadata": {},
   "outputs": [
    {
     "data": {
      "image/png": "[encoded data removed]",
      "text/plain": [
       "<Figure size 648x432 with 1 Axes>"
      ]
     },
     "metadata": {
      "needs_background": "light"
     },
     "output_type": "display_data"
    }
   ],
   "source": [
    "plt.figure(figsize=(9,6))\n",
    "plt.plot(train_losses)\n",
    "plt.grid()\n",
    "plt.xlabel(\"Epoch\", fontsize=20)\n",
    "plt.ylabel(\"Loss\", fontsize=20)\n",
    "plt.title(\"MSE loss\", fontsize=20)\n",
    "plt.show()"
   ]
  },
  {
   "cell_type": "code",
   "execution_count": 4,
   "id": "397cf8df",
   "metadata": {},
   "outputs": [
    {
     "name": "stdout",
     "output_type": "stream",
     "text": [
      "Average Test MSE Loss: 0.00024194\n",
      "Total test loss = 0.00024\n"
     ]
    }
   ],
   "source": [
    "test_loss = test_regr(airfoil_model, loss_function, test_loader, verbose=1, return_loss=True)\n",
    "\n",
    "print(f\"Total test loss = {test_loss:.5f}\")"
   ]
  },
  {
   "cell_type": "code",
   "execution_count": 5,
   "id": "12c909e7",
   "metadata": {
    "scrolled": true
   },
   "outputs": [
    {
     "name": "stdout",
     "output_type": "stream",
     "text": [
      "Average Test MSE Loss: 0.00082592\n",
      "Average OOD loss = 0.0000027348\n",
      "Total OOD loss = 0.00083\n",
      "Average OOD loss to train loss ratio:  11.383\n",
      "Average OOD loss to test loss ratio:  2.724\n"
     ]
    }
   ],
   "source": [
    "OOD_loss = test_regr(airfoil_model, loss_function, OOD_loader, verbose=1, return_loss=True)\n",
    "avg_OOD_loss = OOD_loss / len(X_OOD)\n",
    "\n",
    "print(f\"Average OOD loss = {avg_OOD_loss:.10f}\")  \n",
    "print(f\"Total OOD loss = {OOD_loss:.5f}\")\n",
    "print(f\"Average OOD loss to train loss ratio: {avg_OOD_loss / ( train_loss / len(X_train) ) : .3f}\")\n",
    "print(f\"Average OOD loss to test loss ratio: {avg_OOD_loss / ( test_loss / len(X_test) ) : .3f}\")"
   ]
  },
  {
   "cell_type": "markdown",
   "id": "e630c029",
   "metadata": {},
   "source": [
    "### Laplace approximation of the full network with full Hessian computation"
   ]
  },
  {
   "cell_type": "code",
   "execution_count": 6,
   "id": "2a2a0f2b",
   "metadata": {},
   "outputs": [],
   "source": [
    "LA = laplace_model(airfoil_model, 'regression', subset_of_weights='all', hessian_structure='kron', sigma_noise=1e-2)\n",
    "LA.fit(train_loader)\n",
    "\n",
    "LA.optimize_prior_precision(method='marglik')"
   ]
  },
  {
   "cell_type": "code",
   "execution_count": 7,
   "id": "f48e5705",
   "metadata": {},
   "outputs": [
    {
     "name": "stdout",
     "output_type": "stream",
     "text": [
      "Train evaluation:\n",
      "Inference type: Laplace approximation full network\n",
      "Evaluated on: Airfoil Dataset, Train data\n",
      "Neural network: [128, 32]\n",
      "Number of posterior samples: 1000\n",
      "Average NLPD: 1.3386577\n",
      "SD of NLPD: 0.03432238\n",
      "Total NLPD: 1285.1113\n",
      "Average loss: 0.00022498536952\n",
      "Total loss: 0.2159859547391534\n",
      "Average standard deviation: NA\n",
      "\n",
      "Test evaluation:\n",
      "Inference type: Laplace approximation full network\n",
      "Evaluated on: Airfoil Dataset, Test data\n",
      "Neural network: [128, 32]\n",
      "Number of posterior samples: 1000\n",
      "Average NLPD: 1.3288031\n",
      "SD of NLPD: 0.031082695\n",
      "Total NLPD: 320.24152\n",
      "Average loss: 0.0002469809347169\n",
      "Total loss: 0.0595224052667618\n",
      "Average standard deviation: NA\n",
      "\n",
      "OOD evaluation:\n",
      "Inference type: Laplace approximation full network\n",
      "Evaluated on: Airfoil Dataset, OOD data\n",
      "Neural network: [128, 32]\n",
      "Number of posterior samples: 1000\n",
      "Average NLPD: 1.3634158\n",
      "SD of NLPD: 0.036216192\n",
      "Total NLPD: 411.7516\n",
      "Average loss: 0.0008305121114515\n",
      "Total loss: 0.2508146576583386\n",
      "Average standard deviation: NA\n"
     ]
    }
   ],
   "source": [
    "posterior_samples = 1000\n",
    "\n",
    "train_eval = evaluate.evaluate_regr(LA, train_loader, loss_function, posterior_samples, device=device, dataset='Airfoil Dataset, Train data')\n",
    "test_eval = evaluate.evaluate_regr(LA, test_loader, loss_function, posterior_samples, device=device, dataset='Airfoil Dataset, Test data')\n",
    "OOD_eval = evaluate.evaluate_regr(LA, OOD_loader, loss_function, posterior_samples, device=device, dataset='Airfoil Dataset, OOD data')\n",
    "\n",
    "print(\"Train evaluation:\")\n",
    "for key,  value in train_eval.items():\n",
    "    print(key + str(\":\"), value)\n",
    "    \n",
    "print(\"\\nTest evaluation:\")\n",
    "for key, value in test_eval.items():\n",
    "    print(key + str(\":\"), value)\n",
    "    \n",
    "print(\"\\nOOD evaluation:\")\n",
    "for key, value in OOD_eval.items():\n",
    "    print(key + str(\":\"), value)"
   ]
  },
  {
   "cell_type": "markdown",
   "id": "93e110da",
   "metadata": {},
   "source": [
    "### Last Layer Laplace Approximation with Kronecker factored log likelihood Hessian approximation"
   ]
  },
  {
   "cell_type": "code",
   "execution_count": 20,
   "id": "35e52dc3",
   "metadata": {},
   "outputs": [],
   "source": [
    "airfoil_model = copy.deepcopy(airfoil_model_NN)"
   ]
  },
  {
   "cell_type": "code",
   "execution_count": 21,
   "id": "86f284a6",
   "metadata": {},
   "outputs": [],
   "source": [
    "llla = Laplace(airfoil_model, 'regression', sigma_noise=0.1)\n",
    "llla.fit(train_loader)\n",
    "\n",
    "llla.optimize_prior_precision(method='marglik')"
   ]
  },
  {
   "cell_type": "code",
   "execution_count": 22,
   "id": "077a331b",
   "metadata": {},
   "outputs": [
    {
     "name": "stdout",
     "output_type": "stream",
     "text": [
      "Train evaluation:\n",
      "Inference type: Last Layer Laplace Approximation\n",
      "Evaluated on: Airfoil Dataset, Train data\n",
      "Number of posterior samples: 10000\n",
      "Average NLPD: 10.952158\n",
      "SD of NLPD: 32.267666\n",
      "Total NLPD: 10514.071\n",
      "Average loss: 6.865392279e-05\n",
      "Total loss: 0.0659077658783644\n",
      "\n",
      "Test evaluation:\n",
      "Inference type: Last Layer Laplace Approximation\n",
      "Evaluated on: Airfoil Dataset, Test data\n",
      "Number of posterior samples: 10000\n",
      "Average NLPD: 11.762924\n",
      "SD of NLPD: 31.435274\n",
      "Total NLPD: 2834.8645\n",
      "Average loss: 7.235944074e-05\n",
      "Total loss: 0.0174386252183467\n",
      "\n",
      "OOD evaluation:\n",
      "Inference type: Last Layer Laplace Approximation\n",
      "Evaluated on: Airfoil Dataset, OOD data\n",
      "Number of posterior samples: 10000\n",
      "Average NLPD: 25.409819\n",
      "SD of NLPD: 33.803543\n",
      "Total NLPD: 7673.765\n",
      "Average loss: 0.0003027984477728\n",
      "Total loss: 0.0914451312273741\n"
     ]
    }
   ],
   "source": [
    "posterior_samples = 10000\n",
    "\n",
    "train_eval = evaluate_regr_laplace(llla, train_loader, loss_function, posterior_samples, device=device, dataset='Airfoil Dataset, Train data')\n",
    "test_eval = evaluate_regr_laplace(llla, test_loader, loss_function, posterior_samples, device=device, dataset='Airfoil Dataset, Test data')\n",
    "OOD_eval = evaluate_regr_laplace(llla, OOD_loader, loss_function, posterior_samples, device=device, dataset='Airfoil Dataset, OOD data')\n",
    "\n",
    "print(\"Train evaluation:\")\n",
    "for key,  value in train_eval.items():\n",
    "    print(key + str(\":\"), value)\n",
    "    \n",
    "print(\"\\nTest evaluation:\")\n",
    "for key, value in test_eval.items():\n",
    "    print(key + str(\":\"), value)\n",
    "    \n",
    "print(\"\\nOOD evaluation:\")\n",
    "for key, value in OOD_eval.items():\n",
    "    print(key + str(\":\"), value)"
   ]
  },
  {
   "cell_type": "markdown",
   "id": "d26b4c28",
   "metadata": {},
   "source": [
    "### Jointly optimize MAP and hyperparameters using online empirical Bayes\n",
    "\n",
    "The method optimizes the neural network and the hyperparameters in an interleaved way and returns an optimally regularized LA."
   ]
  },
  {
   "cell_type": "markdown",
   "id": "d4baba6d",
   "metadata": {},
   "source": [
    "1 hour for only 10 epochs, this is very slow"
   ]
  },
  {
   "cell_type": "code",
   "execution_count": 32,
   "id": "05d8037c",
   "metadata": {},
   "outputs": [
    {
     "name": "stdout",
     "output_type": "stream",
     "text": [
      "CPU times: total: 7h 32min 20s\n",
      "Wall time: 57min 8s\n"
     ]
    }
   ],
   "source": [
    "%%time\n",
    "\n",
    "airfoil_model_online = model.airfoil_laplace(n_features, n_hidden_1, n_hidden_2).to(device)\n",
    "\n",
    "la, model, margliks, losses = marglik_training(\n",
    "    model=model.to(device), train_loader=train_loader, likelihood='regression',\n",
    "    hessian_structure='full', backend=BackPackGGN, n_epochs=2, \n",
    "    optimizer_kwargs={'lr': 1e-2}, prior_structure='scalar'\n",
    ")"
   ]
  },
  {
   "cell_type": "code",
   "execution_count": 39,
   "id": "ed7218c8",
   "metadata": {},
   "outputs": [
    {
     "name": "stdout",
     "output_type": "stream",
     "text": [
      "Train evaluation:\n",
      "Inference type: Laplace Approximation\n",
      "Evaluated on: Airfoil Dataset, Train data\n",
      "Number of posterior samples: 1000\n",
      "Average NLPD: 3.4415545\n",
      "SD of NLPD: 0.14727224\n",
      "Total NLPD: 3303.892\n",
      "Average loss: 0.0001808679517126\n",
      "Total loss: 0.1736332336440682\n",
      "\n",
      "Test evaluation:\n",
      "Inference type: Laplace Approximation\n",
      "Evaluated on: Airfoil Dataset, Test data\n",
      "Number of posterior samples: 1000\n",
      "Average NLPD: 3.3904643\n",
      "SD of NLPD: 0.13821094\n",
      "Total NLPD: 817.10187\n",
      "Average loss: 0.0001746551423523\n",
      "Total loss: 0.0420918893069029\n",
      "\n",
      "OOD evaluation:\n",
      "Inference type: Laplace Approximation\n",
      "Evaluated on: Airfoil Dataset, OOD data\n",
      "Number of posterior samples: 1000\n",
      "Average NLPD: 3.5216594\n",
      "SD of NLPD: 0.11160628\n",
      "Total NLPD: 1063.5411\n",
      "Average loss: 0.0001472409287258\n",
      "Total loss: 0.0444667604751885\n"
     ]
    }
   ],
   "source": [
    "posterior_samples = 1000\n",
    "\n",
    "train_eval = evaluate_regr_laplace(la, train_loader, loss_function, posterior_samples, device=device, dataset='Airfoil Dataset, Train data')\n",
    "test_eval = evaluate_regr_laplace(la, test_loader, loss_function, posterior_samples, device=device, dataset='Airfoil Dataset, Test data')\n",
    "OOD_eval = evaluate_regr_laplace(la, OOD_loader, loss_function, posterior_samples, device=device, dataset='Airfoil Dataset, OOD data')\n",
    "\n",
    "print(\"Train evaluation:\")\n",
    "for key,  value in train_eval.items():\n",
    "    print(key + str(\":\"), value)\n",
    "    \n",
    "print(\"\\nTest evaluation:\")\n",
    "for key, value in test_eval.items():\n",
    "    print(key + str(\":\"), value)\n",
    "    \n",
    "print(\"\\nOOD evaluation:\")\n",
    "for key, value in OOD_eval.items():\n",
    "    print(key + str(\":\"), value)"
   ]
  }
 ],
 "metadata": {
  "kernelspec": {
   "display_name": "Python 3 (ipykernel)",
   "language": "python",
   "name": "python3"
  },
  "language_info": {
   "codemirror_mode": {
    "name": "ipython",
    "version": 3
   },
   "file_extension": ".py",
   "mimetype": "text/x-python",
   "name": "python",
   "nbconvert_exporter": "python",
   "pygments_lexer": "ipython3",
   "version": "3.9.12"
  }
 },
 "nbformat": 4,
 "nbformat_minor": 5
}
